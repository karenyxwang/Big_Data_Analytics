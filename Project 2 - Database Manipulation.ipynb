{
  "nbformat": 4,
  "nbformat_minor": 0,
  "metadata": {
    "colab": {
      "name": "Homework_2_Yunxin",
      "provenance": [],
      "collapsed_sections": [],
      "include_colab_link": true
    },
    "kernelspec": {
      "name": "python3",
      "display_name": "Python 3"
    }
  },
  "cells": [
    {
      "cell_type": "markdown",
      "metadata": {
        "id": "view-in-github",
        "colab_type": "text"
      },
      "source": [
        "<a href=\"https://colab.research.google.com/github/karenyxwang/Big_Data_Analytics/blob/master/pandasql%20and%20spark.ipynb\" target=\"_parent\"><img src=\"https://colab.research.google.com/assets/colab-badge.svg\" alt=\"Open In Colab\"/></a>"
      ]
    },
    {
      "cell_type": "markdown",
      "metadata": {
        "id": "L1Y12dPVqHv4",
        "colab_type": "text"
      },
      "source": [
        "# CIS 545 Homework 2\n",
        "## Due 24 February, 2020 by 10pm\n",
        "### Worth 150 points in total\n",
        "\n",
        "For this assignment, we will focus on introducing you to hierarchical data stored in dataframes, graph data and traversing relationships among data. you will learn to use pandasql (cause Pandas are the our favorite animal and data science tool 🐼) and Spark. You will be using spark locally and not really on a cluster for this homework. The next homework will unleash the full power of Spark by deploying it on a cluster.\n",
        "\n",
        "For the second section of assignment, we will focus on graph data.  Many real-world datasets are, or can be modeled by, graphs (or trees which are special cases of graphs).  Examples include:\n",
        "\n",
        "* Networks (social networks, the Web, the connectome, the Internet, traffic networks, …)\n",
        "* Sets of data in which some of the data is more closely connected than other parts of the data (edges may represent weighted similarity or affinity)\n",
        "* Phylogenetic trees, grammars, etc.\n",
        "\n",
        "**Before you begin:** \n",
        "This homework is longer than the last one so please start early and come to office hours with questions!\n",
        "\n",
        "**PLEASE READ THE FAQ** as you do this assignment! It's pinned on Piazza and us TA's work really hard to keep it updated with everything you might need to know or anything we might have failed to specify. Writing these HWs and test cases gets tricky since students always end up implementing solutions that we did not anticipate and thus could not have prepared the grader correcty for.\n",
        "\n",
        "It makes us really sad to tell you that you should've read the FAQ when you come to office hours or post on piazza saying that you've been stuck one part for a really long time. It'll also make you sad when you realize the answer was already sitting there in the FAQ. Please, read it. Also, please read the directions carefully!\n"
      ]
    },
    {
      "cell_type": "markdown",
      "metadata": {
        "id": "zsMMQ1RnqoYw",
        "colab_type": "text"
      },
      "source": [
        "### Libraries and Setup Jargon!\n",
        "Run the following  cells to setup the notebook. When prompted for a selection, select the number that is associated with java 8"
      ]
    },
    {
      "cell_type": "code",
      "metadata": {
        "id": "V5Ea650lhvf2",
        "colab_type": "code",
        "colab": {
          "base_uri": "https://localhost:8080/",
          "height": 1000
        },
        "outputId": "20511c0b-77e8-4a9a-f69b-e3c66eac1747"
      },
      "source": [
        "! sudo apt install openjdk-8-jdk\n",
        "! sudo update-alternatives --config java"
      ],
      "execution_count": null,
      "outputs": [
        {
          "output_type": "stream",
          "text": [
            "Reading package lists... Done\n",
            "Building dependency tree       \n",
            "Reading state information... Done\n",
            "The following package was automatically installed and is no longer required:\n",
            "  libnvidia-common-430\n",
            "Use 'sudo apt autoremove' to remove it.\n",
            "The following additional packages will be installed:\n",
            "  fonts-dejavu-core fonts-dejavu-extra libatk-wrapper-java\n",
            "  libatk-wrapper-java-jni libgail-common libgail18 libgtk2.0-0 libgtk2.0-bin\n",
            "  libgtk2.0-common libxxf86dga1 openjdk-8-jre x11-utils\n",
            "Suggested packages:\n",
            "  gvfs openjdk-8-demo openjdk-8-source visualvm icedtea-8-plugin mesa-utils\n",
            "The following NEW packages will be installed:\n",
            "  fonts-dejavu-core fonts-dejavu-extra libatk-wrapper-java\n",
            "  libatk-wrapper-java-jni libgail-common libgail18 libgtk2.0-0 libgtk2.0-bin\n",
            "  libgtk2.0-common libxxf86dga1 openjdk-8-jdk openjdk-8-jre x11-utils\n",
            "0 upgraded, 13 newly installed, 0 to remove and 25 not upgraded.\n",
            "Need to get 6,970 kB of archives.\n",
            "After this operation, 20.0 MB of additional disk space will be used.\n",
            "Get:1 http://archive.ubuntu.com/ubuntu bionic/main amd64 libxxf86dga1 amd64 2:1.1.4-1 [13.7 kB]\n",
            "Get:2 http://archive.ubuntu.com/ubuntu bionic/main amd64 fonts-dejavu-core all 2.37-1 [1,041 kB]\n",
            "Get:3 http://archive.ubuntu.com/ubuntu bionic/main amd64 fonts-dejavu-extra all 2.37-1 [1,953 kB]\n",
            "Get:4 http://archive.ubuntu.com/ubuntu bionic/main amd64 x11-utils amd64 7.7+3build1 [196 kB]\n",
            "Get:5 http://archive.ubuntu.com/ubuntu bionic/main amd64 libatk-wrapper-java all 0.33.3-20ubuntu0.1 [34.7 kB]\n",
            "Get:6 http://archive.ubuntu.com/ubuntu bionic/main amd64 libatk-wrapper-java-jni amd64 0.33.3-20ubuntu0.1 [28.3 kB]\n",
            "Get:7 http://archive.ubuntu.com/ubuntu bionic/main amd64 libgtk2.0-common all 2.24.32-1ubuntu1 [125 kB]\n",
            "Get:8 http://archive.ubuntu.com/ubuntu bionic/main amd64 libgtk2.0-0 amd64 2.24.32-1ubuntu1 [1,769 kB]\n",
            "Get:9 http://archive.ubuntu.com/ubuntu bionic/main amd64 libgail18 amd64 2.24.32-1ubuntu1 [14.2 kB]\n",
            "Get:10 http://archive.ubuntu.com/ubuntu bionic/main amd64 libgail-common amd64 2.24.32-1ubuntu1 [112 kB]\n",
            "Get:11 http://archive.ubuntu.com/ubuntu bionic/main amd64 libgtk2.0-bin amd64 2.24.32-1ubuntu1 [7,536 B]\n",
            "Get:12 http://archive.ubuntu.com/ubuntu bionic-updates/universe amd64 openjdk-8-jre amd64 8u242-b08-0ubuntu3~18.04 [69.7 kB]\n",
            "Get:13 http://archive.ubuntu.com/ubuntu bionic-updates/universe amd64 openjdk-8-jdk amd64 8u242-b08-0ubuntu3~18.04 [1,606 kB]\n",
            "Fetched 6,970 kB in 1s (6,401 kB/s)\n",
            "debconf: unable to initialize frontend: Dialog\n",
            "debconf: (No usable dialog-like program is installed, so the dialog based frontend cannot be used. at /usr/share/perl5/Debconf/FrontEnd/Dialog.pm line 76, <> line 13.)\n",
            "debconf: falling back to frontend: Readline\n",
            "debconf: unable to initialize frontend: Readline\n",
            "debconf: (This frontend requires a controlling tty.)\n",
            "debconf: falling back to frontend: Teletype\n",
            "dpkg-preconfigure: unable to re-open stdin: \n",
            "Selecting previously unselected package libxxf86dga1:amd64.\n",
            "(Reading database ... 134443 files and directories currently installed.)\n",
            "Preparing to unpack .../00-libxxf86dga1_2%3a1.1.4-1_amd64.deb ...\n",
            "Unpacking libxxf86dga1:amd64 (2:1.1.4-1) ...\n",
            "Selecting previously unselected package fonts-dejavu-core.\n",
            "Preparing to unpack .../01-fonts-dejavu-core_2.37-1_all.deb ...\n",
            "Unpacking fonts-dejavu-core (2.37-1) ...\n",
            "Selecting previously unselected package fonts-dejavu-extra.\n",
            "Preparing to unpack .../02-fonts-dejavu-extra_2.37-1_all.deb ...\n",
            "Unpacking fonts-dejavu-extra (2.37-1) ...\n",
            "Selecting previously unselected package x11-utils.\n",
            "Preparing to unpack .../03-x11-utils_7.7+3build1_amd64.deb ...\n",
            "Unpacking x11-utils (7.7+3build1) ...\n",
            "Selecting previously unselected package libatk-wrapper-java.\n",
            "Preparing to unpack .../04-libatk-wrapper-java_0.33.3-20ubuntu0.1_all.deb ...\n",
            "Unpacking libatk-wrapper-java (0.33.3-20ubuntu0.1) ...\n",
            "Selecting previously unselected package libatk-wrapper-java-jni:amd64.\n",
            "Preparing to unpack .../05-libatk-wrapper-java-jni_0.33.3-20ubuntu0.1_amd64.deb ...\n",
            "Unpacking libatk-wrapper-java-jni:amd64 (0.33.3-20ubuntu0.1) ...\n",
            "Selecting previously unselected package libgtk2.0-common.\n",
            "Preparing to unpack .../06-libgtk2.0-common_2.24.32-1ubuntu1_all.deb ...\n",
            "Unpacking libgtk2.0-common (2.24.32-1ubuntu1) ...\n",
            "Selecting previously unselected package libgtk2.0-0:amd64.\n",
            "Preparing to unpack .../07-libgtk2.0-0_2.24.32-1ubuntu1_amd64.deb ...\n",
            "Unpacking libgtk2.0-0:amd64 (2.24.32-1ubuntu1) ...\n",
            "Selecting previously unselected package libgail18:amd64.\n",
            "Preparing to unpack .../08-libgail18_2.24.32-1ubuntu1_amd64.deb ...\n",
            "Unpacking libgail18:amd64 (2.24.32-1ubuntu1) ...\n",
            "Selecting previously unselected package libgail-common:amd64.\n",
            "Preparing to unpack .../09-libgail-common_2.24.32-1ubuntu1_amd64.deb ...\n",
            "Unpacking libgail-common:amd64 (2.24.32-1ubuntu1) ...\n",
            "Selecting previously unselected package libgtk2.0-bin.\n",
            "Preparing to unpack .../10-libgtk2.0-bin_2.24.32-1ubuntu1_amd64.deb ...\n",
            "Unpacking libgtk2.0-bin (2.24.32-1ubuntu1) ...\n",
            "Selecting previously unselected package openjdk-8-jre:amd64.\n",
            "Preparing to unpack .../11-openjdk-8-jre_8u242-b08-0ubuntu3~18.04_amd64.deb ...\n",
            "Unpacking openjdk-8-jre:amd64 (8u242-b08-0ubuntu3~18.04) ...\n",
            "Selecting previously unselected package openjdk-8-jdk:amd64.\n",
            "Preparing to unpack .../12-openjdk-8-jdk_8u242-b08-0ubuntu3~18.04_amd64.deb ...\n",
            "Unpacking openjdk-8-jdk:amd64 (8u242-b08-0ubuntu3~18.04) ...\n",
            "Setting up libgtk2.0-common (2.24.32-1ubuntu1) ...\n",
            "Setting up fonts-dejavu-core (2.37-1) ...\n",
            "Setting up libxxf86dga1:amd64 (2:1.1.4-1) ...\n",
            "Setting up fonts-dejavu-extra (2.37-1) ...\n",
            "Setting up libgtk2.0-0:amd64 (2.24.32-1ubuntu1) ...\n",
            "Setting up libgail18:amd64 (2.24.32-1ubuntu1) ...\n",
            "Setting up x11-utils (7.7+3build1) ...\n",
            "Setting up libgail-common:amd64 (2.24.32-1ubuntu1) ...\n",
            "Setting up libatk-wrapper-java (0.33.3-20ubuntu0.1) ...\n",
            "Setting up libgtk2.0-bin (2.24.32-1ubuntu1) ...\n",
            "Setting up libatk-wrapper-java-jni:amd64 (0.33.3-20ubuntu0.1) ...\n",
            "Setting up openjdk-8-jre:amd64 (8u242-b08-0ubuntu3~18.04) ...\n",
            "update-alternatives: using /usr/lib/jvm/java-8-openjdk-amd64/jre/bin/policytool to provide /usr/bin/policytool (policytool) in auto mode\n",
            "Setting up openjdk-8-jdk:amd64 (8u242-b08-0ubuntu3~18.04) ...\n",
            "update-alternatives: using /usr/lib/jvm/java-8-openjdk-amd64/bin/appletviewer to provide /usr/bin/appletviewer (appletviewer) in auto mode\n",
            "update-alternatives: using /usr/lib/jvm/java-8-openjdk-amd64/bin/jconsole to provide /usr/bin/jconsole (jconsole) in auto mode\n",
            "Processing triggers for man-db (2.8.3-2ubuntu0.1) ...\n",
            "Processing triggers for hicolor-icon-theme (0.17-2) ...\n",
            "Processing triggers for fontconfig (2.12.6-0ubuntu2) ...\n",
            "Processing triggers for mime-support (3.60ubuntu1) ...\n",
            "Processing triggers for libc-bin (2.27-3ubuntu1) ...\n",
            "/sbin/ldconfig.real: /usr/local/lib/python3.6/dist-packages/ideep4py/lib/libmkldnn.so.0 is not a symbolic link\n",
            "\n",
            "There are 2 choices for the alternative java (providing /usr/bin/java).\n",
            "\n",
            "  Selection    Path                                            Priority   Status\n",
            "------------------------------------------------------------\n",
            "* 0            /usr/lib/jvm/java-11-openjdk-amd64/bin/java      1111      auto mode\n",
            "  1            /usr/lib/jvm/java-11-openjdk-amd64/bin/java      1111      manual mode\n",
            "  2            /usr/lib/jvm/java-8-openjdk-amd64/jre/bin/java   1081      manual mode\n",
            "\n",
            "Press <enter> to keep the current choice[*], or type selection number: 2\n",
            "update-alternatives: using /usr/lib/jvm/java-8-openjdk-amd64/jre/bin/java to provide /usr/bin/java (java) in manual mode\n"
          ],
          "name": "stdout"
        }
      ]
    },
    {
      "cell_type": "code",
      "metadata": {
        "id": "WgAjz2AyqvmA",
        "colab_type": "code",
        "colab": {}
      },
      "source": [
        "%%capture\n",
        "!pip3 install penngrader\n",
        "\n",
        "from penngrader.grader import *"
      ],
      "execution_count": null,
      "outputs": []
    },
    {
      "cell_type": "markdown",
      "metadata": {
        "id": "YLVCSFBErk_A",
        "colab_type": "text"
      },
      "source": [
        "VERY IMPORTANT : Enter your **8 digit Penn ID** in the student id field below"
      ]
    },
    {
      "cell_type": "code",
      "metadata": {
        "id": "9ucPnPp25tgM",
        "colab_type": "code",
        "colab": {}
      },
      "source": [
        "#PLEASE ENSURE YOUR PENN-ID IS ENTERED CORRECTLY. IF NOT, THE AUTOGRADER WON'T KNOW WHO \n",
        "#TO ASSIGN POINTS TO YOU IN OUR BACKEND\n",
        "STUDENT_ID = 15349478"
      ],
      "execution_count": null,
      "outputs": []
    },
    {
      "cell_type": "code",
      "metadata": {
        "id": "A8YZ-1NV6Du4",
        "colab_type": "code",
        "colab": {
          "base_uri": "https://localhost:8080/",
          "height": 69
        },
        "outputId": "dcb23f62-7654-4c87-bdf5-8a2dcb17f34a"
      },
      "source": [
        "grader = PennGrader(homework_id = 'CIS545_Spring_2020_HW2', student_id = STUDENT_ID)"
      ],
      "execution_count": null,
      "outputs": [
        {
          "output_type": "stream",
          "text": [
            "PennGrader initialized with Student ID: 15349478\n",
            "\n",
            "Make sure this correct or we will not be able to store your grade\n"
          ],
          "name": "stdout"
        }
      ]
    },
    {
      "cell_type": "markdown",
      "metadata": {
        "id": "EH4yd-ojirOm",
        "colab_type": "text"
      },
      "source": [
        "# Section 1: Stack Exchange Data"
      ]
    },
    {
      "cell_type": "markdown",
      "metadata": {
        "id": "lTKXdSzflNcM",
        "colab_type": "text"
      },
      "source": [
        "## Exploring the Stack Exchange dataset\n",
        "\n",
        "<img src = \"https://cdn.sstatic.net/Sites/stackoverflow/company/img/logos/se/se-logo.png?v=dd7153fcc7fa\" width= \"600\" align =\"center\"/>\n",
        "\n",
        "To survive as a student at Penn , you've certainly used Stack Exchange or Stack Overflow, as a source for all your technical queries. Stack Exchange looks a lot like a social network, it has the following pieces of information to tie it all together:\n",
        "\n",
        "\n",
        "*   Users: All stack exchange users including admins etc. Sad little Penn students are included here.\n",
        "\n",
        "*   Posts: The questions the users post and any follow ups\n",
        "\n",
        "*   Comments: As the name suggests, these are comments on posts\n",
        "\n",
        "*   Votes: Up/Downvotes \n",
        "\n",
        "*   Badges: Rewards you earn for being a good samaritan on the stack exchange platform.\n",
        "\n",
        "\n",
        "For this homework we'll be parsing this data (dumped in XML) into dataframes and relations, and then exploring how to query and assemble the tables into results.  You'll get to exercise your skills in Pandas, SQL, and even something called PandaSQL!\n",
        "\n",
        "### Dataset Source\n",
        "\n",
        "We are going to use the XML dataset available at \n",
        "[StackExchange Dataset](https://archive.org/details/stackexchange).  \n",
        "\n",
        "A visual representation of the data and how they are linked together:\n",
        "\n",
        "<img src=\"https://i.stack.imgur.com/AyIkW.png\">"
      ]
    },
    {
      "cell_type": "code",
      "metadata": {
        "id": "QOOlQg2wnlGb",
        "colab_type": "code",
        "colab": {}
      },
      "source": [
        "### Install required packages\n",
        "%%capture\n",
        "!pip3 install lxml\n",
        "!pip install pandasql\n",
        "!pip install googledrivedownloader"
      ],
      "execution_count": null,
      "outputs": []
    },
    {
      "cell_type": "code",
      "metadata": {
        "id": "JA7lyPw3YfEr",
        "colab_type": "code",
        "colab": {
          "base_uri": "https://localhost:8080/",
          "height": 52
        },
        "outputId": "0f7837df-2250-40f1-8380-5e6152988f9b"
      },
      "source": [
        "import numpy as np\n",
        "import pandas as pd\n",
        "import matplotlib\n",
        "\n",
        "import gc\n",
        "import time\n",
        "import warnings\n",
        "\n",
        "import json # JSON parsing\n",
        "from lxml import etree # HTML parsing\n",
        "import time # Time conversions\n",
        "from lxml import etree # XML Parser\n",
        "import pandasql as ps #SQL on Pandas Dataframe\n",
        "\n",
        "import nltk\n",
        "nltk.download('punkt')\n",
        "\n",
        "from wordcloud import WordCloud\n",
        "import matplotlib.pyplot as plt\n",
        "\n",
        "from collections import Counter"
      ],
      "execution_count": null,
      "outputs": [
        {
          "output_type": "stream",
          "text": [
            "[nltk_data] Downloading package punkt to /root/nltk_data...\n",
            "[nltk_data]   Unzipping tokenizers/punkt.zip.\n"
          ],
          "name": "stdout"
        }
      ]
    },
    {
      "cell_type": "markdown",
      "metadata": {
        "id": "5OTWuQBjWKw6",
        "colab_type": "text"
      },
      "source": [
        "## Part 1: Steps to load data from Google Drive\n",
        "\n",
        "\n",
        "We have provided a copy of the \"Data Science Stack Exchange\" data, which we thought might provide some interesting insights about the very field you are studying!\n",
        "\n",
        "This is shared in Google Drive because it's (relatively) fast and inexpensive to copy data from GDrive to Colab.  There are multiple files:\n",
        "\n",
        "* Users.xml:  these are the users of Stack Exchange, including profile info.\n",
        "* Posts.xml:  these are the posts to Stack Exchange made by users.\n",
        "* PostHistory.xml: history of posts.\n",
        "* PostLinks.xml: hyperlinks from posts.\n",
        "* Comments.xml:  users make comments on posts.\n",
        "* Tags.xml:  posts can be marked with *tags* such as \"regression\".\n",
        "* Votes.xml:  posts can earn votes.\n",
        "* Badges.xml:  these are the \"badges\" earned by individual users.\n",
        "\n",
        "\n"
      ]
    },
    {
      "cell_type": "markdown",
      "metadata": {
        "id": "GF8H_EZIZFNK",
        "colab_type": "text"
      },
      "source": [
        "### 1.1 Loading Badges.xml\n",
        "*  The Badges.xml file has been made public for the access of anyone with a valid Penn email address.\n",
        "* Running the below cell will download the Badges.xml file into your drive. \n",
        "* You will be able to access the file with path as '***/content/Badges.xml***'"
      ]
    },
    {
      "cell_type": "code",
      "metadata": {
        "id": "VuuC2d5l8X7o",
        "colab_type": "code",
        "colab": {
          "base_uri": "https://localhost:8080/",
          "height": 34
        },
        "outputId": "214e5e72-ba5d-490e-8e48-81c540182e08"
      },
      "source": [
        "from google_drive_downloader import GoogleDriveDownloader as gdd\n",
        "\n",
        "gdd.download_file_from_google_drive(file_id='18B966b7hlwjgNmVUeQASuXTC52czZHxm',\n",
        "                                    dest_path='/content/Badges.xml')"
      ],
      "execution_count": null,
      "outputs": [
        {
          "output_type": "stream",
          "text": [
            "Downloading 18B966b7hlwjgNmVUeQASuXTC52czZHxm into /content/Badges.xml... Done.\n"
          ],
          "name": "stdout"
        }
      ]
    },
    {
      "cell_type": "markdown",
      "metadata": {
        "id": "jpxDzwXwZbEB",
        "colab_type": "text"
      },
      "source": [
        "##### Creating '*badges_df*' Pandas Dataframe from a list of JSON Objects\n",
        "\n",
        "* Create a list variable with name *badge_list*.\n",
        "* Use the XML parser etree's parse() function to parse the Badges.xml file which you have downloaded in the above code.\n",
        "* Parse the xml file and append each row of the Badges.xml file to the *badge_list*.\n",
        "* Now, Use *badge_list* to create a Pandas Dataframe with name badges_df.\n",
        "* Make sure that the columns have the same dtypes given in the data documentation.\n",
        "\n"
      ]
    },
    {
      "cell_type": "code",
      "metadata": {
        "id": "r0gy_S9tZdWE",
        "colab_type": "code",
        "colab": {
          "base_uri": "https://localhost:8080/",
          "height": 416
        },
        "outputId": "8e1bcf7e-2e56-4403-86eb-65b420d60a6d"
      },
      "source": [
        "badge_list = []\n",
        "\n",
        "tree = etree.parse('/content/Badges.xml')\n",
        "root = tree.getroot()\n",
        "\n",
        "for child in root:\n",
        "  badge_list.append(dict(child.attrib))\n",
        "\n",
        "badges_df = pd.DataFrame(badge_list)\n",
        "badges_df['Id'] = badges_df['Id'].apply(lambda x: int(x))\n",
        "badges_df['UserId'] = badges_df['UserId'].apply(lambda x: int(x))\n",
        "\n",
        "badges_df"
      ],
      "execution_count": null,
      "outputs": [
        {
          "output_type": "execute_result",
          "data": {
            "text/html": [
              "<div>\n",
              "<style scoped>\n",
              "    .dataframe tbody tr th:only-of-type {\n",
              "        vertical-align: middle;\n",
              "    }\n",
              "\n",
              "    .dataframe tbody tr th {\n",
              "        vertical-align: top;\n",
              "    }\n",
              "\n",
              "    .dataframe thead th {\n",
              "        text-align: right;\n",
              "    }\n",
              "</style>\n",
              "<table border=\"1\" class=\"dataframe\">\n",
              "  <thead>\n",
              "    <tr style=\"text-align: right;\">\n",
              "      <th></th>\n",
              "      <th>Id</th>\n",
              "      <th>UserId</th>\n",
              "      <th>Name</th>\n",
              "      <th>Date</th>\n",
              "      <th>Class</th>\n",
              "      <th>TagBased</th>\n",
              "    </tr>\n",
              "  </thead>\n",
              "  <tbody>\n",
              "    <tr>\n",
              "      <th>0</th>\n",
              "      <td>1</td>\n",
              "      <td>1</td>\n",
              "      <td>Informed</td>\n",
              "      <td>2014-05-13T23:06:44.683</td>\n",
              "      <td>3</td>\n",
              "      <td>False</td>\n",
              "    </tr>\n",
              "    <tr>\n",
              "      <th>1</th>\n",
              "      <td>2</td>\n",
              "      <td>2</td>\n",
              "      <td>Autobiographer</td>\n",
              "      <td>2014-05-13T23:11:04.153</td>\n",
              "      <td>3</td>\n",
              "      <td>False</td>\n",
              "    </tr>\n",
              "    <tr>\n",
              "      <th>2</th>\n",
              "      <td>3</td>\n",
              "      <td>4</td>\n",
              "      <td>Autobiographer</td>\n",
              "      <td>2014-05-13T23:20:53.547</td>\n",
              "      <td>3</td>\n",
              "      <td>False</td>\n",
              "    </tr>\n",
              "    <tr>\n",
              "      <th>3</th>\n",
              "      <td>4</td>\n",
              "      <td>5</td>\n",
              "      <td>Autobiographer</td>\n",
              "      <td>2014-05-13T23:20:53.547</td>\n",
              "      <td>3</td>\n",
              "      <td>False</td>\n",
              "    </tr>\n",
              "    <tr>\n",
              "      <th>4</th>\n",
              "      <td>5</td>\n",
              "      <td>8</td>\n",
              "      <td>Autobiographer</td>\n",
              "      <td>2014-05-13T23:20:53.547</td>\n",
              "      <td>3</td>\n",
              "      <td>False</td>\n",
              "    </tr>\n",
              "    <tr>\n",
              "      <th>...</th>\n",
              "      <td>...</td>\n",
              "      <td>...</td>\n",
              "      <td>...</td>\n",
              "      <td>...</td>\n",
              "      <td>...</td>\n",
              "      <td>...</td>\n",
              "    </tr>\n",
              "    <tr>\n",
              "      <th>83929</th>\n",
              "      <td>93925</td>\n",
              "      <td>86174</td>\n",
              "      <td>Student</td>\n",
              "      <td>2019-12-01T01:15:14.350</td>\n",
              "      <td>3</td>\n",
              "      <td>False</td>\n",
              "    </tr>\n",
              "    <tr>\n",
              "      <th>83930</th>\n",
              "      <td>93926</td>\n",
              "      <td>86180</td>\n",
              "      <td>Student</td>\n",
              "      <td>2019-12-01T01:15:14.350</td>\n",
              "      <td>3</td>\n",
              "      <td>False</td>\n",
              "    </tr>\n",
              "    <tr>\n",
              "      <th>83931</th>\n",
              "      <td>93927</td>\n",
              "      <td>8820</td>\n",
              "      <td>Notable Question</td>\n",
              "      <td>2019-12-01T03:00:22.617</td>\n",
              "      <td>2</td>\n",
              "      <td>False</td>\n",
              "    </tr>\n",
              "    <tr>\n",
              "      <th>83932</th>\n",
              "      <td>93928</td>\n",
              "      <td>86215</td>\n",
              "      <td>Autobiographer</td>\n",
              "      <td>2019-12-01T03:05:07.187</td>\n",
              "      <td>3</td>\n",
              "      <td>False</td>\n",
              "    </tr>\n",
              "    <tr>\n",
              "      <th>83933</th>\n",
              "      <td>93929</td>\n",
              "      <td>53030</td>\n",
              "      <td>Supporter</td>\n",
              "      <td>2019-12-01T03:10:16.717</td>\n",
              "      <td>3</td>\n",
              "      <td>False</td>\n",
              "    </tr>\n",
              "  </tbody>\n",
              "</table>\n",
              "<p>83934 rows × 6 columns</p>\n",
              "</div>"
            ],
            "text/plain": [
              "          Id  UserId              Name                     Date Class TagBased\n",
              "0          1       1          Informed  2014-05-13T23:06:44.683     3    False\n",
              "1          2       2    Autobiographer  2014-05-13T23:11:04.153     3    False\n",
              "2          3       4    Autobiographer  2014-05-13T23:20:53.547     3    False\n",
              "3          4       5    Autobiographer  2014-05-13T23:20:53.547     3    False\n",
              "4          5       8    Autobiographer  2014-05-13T23:20:53.547     3    False\n",
              "...      ...     ...               ...                      ...   ...      ...\n",
              "83929  93925   86174           Student  2019-12-01T01:15:14.350     3    False\n",
              "83930  93926   86180           Student  2019-12-01T01:15:14.350     3    False\n",
              "83931  93927    8820  Notable Question  2019-12-01T03:00:22.617     2    False\n",
              "83932  93928   86215    Autobiographer  2019-12-01T03:05:07.187     3    False\n",
              "83933  93929   53030         Supporter  2019-12-01T03:10:16.717     3    False\n",
              "\n",
              "[83934 rows x 6 columns]"
            ]
          },
          "metadata": {
            "tags": []
          },
          "execution_count": 8
        }
      ]
    },
    {
      "cell_type": "markdown",
      "metadata": {
        "id": "VMXcEU-QjNcE",
        "colab_type": "text"
      },
      "source": [
        "Because the dataframe is a little too large for our autograder, only submit the first 75 rows"
      ]
    },
    {
      "cell_type": "code",
      "metadata": {
        "id": "H-ajOrZ6cw5V",
        "colab_type": "code",
        "colab": {
          "base_uri": "https://localhost:8080/",
          "height": 69
        },
        "outputId": "7d7dda19-e956-41a3-fa3c-ac7d9edca1ef"
      },
      "source": [
        "# Run this cell to submit to PennGrader!\n",
        "grader.grade(test_case_id = 'load_badges', answer = badges_df[:75])"
      ],
      "execution_count": null,
      "outputs": [
        {
          "output_type": "stream",
          "text": [
            "Correct! You earned 7/7 points. You are a star!\n",
            "\n",
            "Your submission has been successfully recorded in the gradebook.\n"
          ],
          "name": "stdout"
        }
      ]
    },
    {
      "cell_type": "markdown",
      "metadata": {
        "id": "AEJ1Oa5adKVy",
        "colab_type": "text"
      },
      "source": [
        "### 1.2 Loading Users.xml\n",
        "*  The Users.xml file has been made public for the access of anyone with a valid UPenn email address.\n",
        "* Running the below cell will download the Users.xml file into your drive. \n",
        "* You will be able to access the file with path as '***/content/Users.xml***'"
      ]
    },
    {
      "cell_type": "code",
      "metadata": {
        "id": "x0T3ULT6doid",
        "colab_type": "code",
        "colab": {
          "base_uri": "https://localhost:8080/",
          "height": 34
        },
        "outputId": "456af068-c14c-4d5b-d570-90067dd5c536"
      },
      "source": [
        "gdd.download_file_from_google_drive(file_id='1T-SGFULQIkpg6LN5XLhBfiXhcAWNgCLe',\n",
        "                                    dest_path='/content/Users.xml')"
      ],
      "execution_count": null,
      "outputs": [
        {
          "output_type": "stream",
          "text": [
            "Downloading 1T-SGFULQIkpg6LN5XLhBfiXhcAWNgCLe into /content/Users.xml... Done.\n"
          ],
          "name": "stdout"
        }
      ]
    },
    {
      "cell_type": "markdown",
      "metadata": {
        "id": "TzmY5e3GcuZJ",
        "colab_type": "text"
      },
      "source": [
        "##### Creating '*users_df*' Pandas Dataframe from a list of JSON Objects\n",
        "\n",
        "* Create a list variable with name *users_list*.\n",
        "* Use the XML parser etree's parse() function to parse the Users.xml file you have just downloaded.\n",
        "* Parse the xml file and append each row of the Users.xml file as a json object to the *users_list*.\n",
        "* Now, Use *users_list* to create a Pandas Dataframe with name users_df.\n",
        "* Make sure that the columns have the same dtypes given in the data documentation. \n"
      ]
    },
    {
      "cell_type": "code",
      "metadata": {
        "id": "B3ZATej5bJIz",
        "colab_type": "code",
        "colab": {
          "base_uri": "https://localhost:8080/",
          "height": 713
        },
        "outputId": "686ea763-2985-4c5b-b4e0-8f8f33c5e150"
      },
      "source": [
        "users_list = []\n",
        "\n",
        "tree = etree.parse('/content/Users.xml')\n",
        "root = tree.getroot()\n",
        "\n",
        "for child in root:\n",
        "  users_list.append(dict(child.attrib))\n",
        "\n",
        "users_df = pd.DataFrame(users_list)\n",
        "users_df['Id'] = users_df['Id'].apply(lambda x: int(x))\n",
        "users_df['Reputation'] = users_df['Reputation'].apply(lambda x: int(x))\n",
        "users_df['Views'] = users_df['Views'].apply(lambda x: int(x))\n",
        "users_df['UpVotes'] = users_df['UpVotes'].apply(lambda x: int(x))\n",
        "users_df['DownVotes'] = users_df['DownVotes'].apply(lambda x: int(x))\n",
        "\n",
        "users_df"
      ],
      "execution_count": null,
      "outputs": [
        {
          "output_type": "execute_result",
          "data": {
            "text/html": [
              "<div>\n",
              "<style scoped>\n",
              "    .dataframe tbody tr th:only-of-type {\n",
              "        vertical-align: middle;\n",
              "    }\n",
              "\n",
              "    .dataframe tbody tr th {\n",
              "        vertical-align: top;\n",
              "    }\n",
              "\n",
              "    .dataframe thead th {\n",
              "        text-align: right;\n",
              "    }\n",
              "</style>\n",
              "<table border=\"1\" class=\"dataframe\">\n",
              "  <thead>\n",
              "    <tr style=\"text-align: right;\">\n",
              "      <th></th>\n",
              "      <th>Id</th>\n",
              "      <th>Reputation</th>\n",
              "      <th>CreationDate</th>\n",
              "      <th>DisplayName</th>\n",
              "      <th>LastAccessDate</th>\n",
              "      <th>WebsiteUrl</th>\n",
              "      <th>Location</th>\n",
              "      <th>AboutMe</th>\n",
              "      <th>Views</th>\n",
              "      <th>UpVotes</th>\n",
              "      <th>DownVotes</th>\n",
              "      <th>AccountId</th>\n",
              "      <th>ProfileImageUrl</th>\n",
              "    </tr>\n",
              "  </thead>\n",
              "  <tbody>\n",
              "    <tr>\n",
              "      <th>0</th>\n",
              "      <td>-1</td>\n",
              "      <td>1</td>\n",
              "      <td>2014-05-13T21:29:22.820</td>\n",
              "      <td>Community</td>\n",
              "      <td>2014-05-13T21:29:22.820</td>\n",
              "      <td>http://meta.stackexchange.com/</td>\n",
              "      <td>on the server farm</td>\n",
              "      <td>&lt;p&gt;Hi, I'm not really a person.&lt;/p&gt;\\n\\n&lt;p&gt;I'm ...</td>\n",
              "      <td>0</td>\n",
              "      <td>800</td>\n",
              "      <td>1358</td>\n",
              "      <td>-1</td>\n",
              "      <td>NaN</td>\n",
              "    </tr>\n",
              "    <tr>\n",
              "      <th>1</th>\n",
              "      <td>1</td>\n",
              "      <td>101</td>\n",
              "      <td>2014-05-13T22:58:54.810</td>\n",
              "      <td>Adam Lear</td>\n",
              "      <td>2019-06-11T19:12:27.157</td>\n",
              "      <td>NaN</td>\n",
              "      <td>New York, NY</td>\n",
              "      <td>\\n\\n&lt;p&gt;Developer at Stack Overflow focusing on...</td>\n",
              "      <td>493</td>\n",
              "      <td>0</td>\n",
              "      <td>0</td>\n",
              "      <td>37099</td>\n",
              "      <td>https://i.stack.imgur.com/SMEGn.jpg?s=128&amp;g=1</td>\n",
              "    </tr>\n",
              "    <tr>\n",
              "      <th>2</th>\n",
              "      <td>2</td>\n",
              "      <td>101</td>\n",
              "      <td>2014-05-13T22:59:19.787</td>\n",
              "      <td>Geoff Dalgas</td>\n",
              "      <td>2019-09-03T19:10:22.217</td>\n",
              "      <td>http://stackoverflow.com</td>\n",
              "      <td>Corvallis, OR</td>\n",
              "      <td>&lt;p&gt;Developer on the Stack Overflow team.  Find...</td>\n",
              "      <td>9</td>\n",
              "      <td>0</td>\n",
              "      <td>0</td>\n",
              "      <td>2</td>\n",
              "      <td>https://i.stack.imgur.com/nDllk.png</td>\n",
              "    </tr>\n",
              "    <tr>\n",
              "      <th>3</th>\n",
              "      <td>3</td>\n",
              "      <td>101</td>\n",
              "      <td>2014-05-13T23:15:34.483</td>\n",
              "      <td>hichris123</td>\n",
              "      <td>2019-08-01T18:06:24.597</td>\n",
              "      <td>NaN</td>\n",
              "      <td>NaN</td>\n",
              "      <td>&lt;p&gt;I'm a student interested in technology.&lt;/p&gt;...</td>\n",
              "      <td>7</td>\n",
              "      <td>1</td>\n",
              "      <td>3</td>\n",
              "      <td>3046327</td>\n",
              "      <td>https://i.stack.imgur.com/JVj4n.png?s=256&amp;g=1</td>\n",
              "    </tr>\n",
              "    <tr>\n",
              "      <th>4</th>\n",
              "      <td>4</td>\n",
              "      <td>101</td>\n",
              "      <td>2014-05-13T23:16:09.937</td>\n",
              "      <td>Ben Collins</td>\n",
              "      <td>2014-08-04T15:25:54.810</td>\n",
              "      <td>http://benjamincollins.com</td>\n",
              "      <td>Republic of Texas</td>\n",
              "      <td>&lt;p&gt;I work with &lt;a href=\"https://olo.com\" rel=\"...</td>\n",
              "      <td>9</td>\n",
              "      <td>0</td>\n",
              "      <td>0</td>\n",
              "      <td>2365</td>\n",
              "      <td>NaN</td>\n",
              "    </tr>\n",
              "    <tr>\n",
              "      <th>...</th>\n",
              "      <td>...</td>\n",
              "      <td>...</td>\n",
              "      <td>...</td>\n",
              "      <td>...</td>\n",
              "      <td>...</td>\n",
              "      <td>...</td>\n",
              "      <td>...</td>\n",
              "      <td>...</td>\n",
              "      <td>...</td>\n",
              "      <td>...</td>\n",
              "      <td>...</td>\n",
              "      <td>...</td>\n",
              "      <td>...</td>\n",
              "    </tr>\n",
              "    <tr>\n",
              "      <th>71642</th>\n",
              "      <td>86211</td>\n",
              "      <td>1</td>\n",
              "      <td>2019-12-01T00:00:51.197</td>\n",
              "      <td>AndyK</td>\n",
              "      <td>2019-12-01T00:15:55.827</td>\n",
              "      <td>NaN</td>\n",
              "      <td>NaN</td>\n",
              "      <td>NaN</td>\n",
              "      <td>0</td>\n",
              "      <td>0</td>\n",
              "      <td>0</td>\n",
              "      <td>17213528</td>\n",
              "      <td>https://lh6.googleusercontent.com/-I5j4JC5dLN8...</td>\n",
              "    </tr>\n",
              "    <tr>\n",
              "      <th>71643</th>\n",
              "      <td>86212</td>\n",
              "      <td>101</td>\n",
              "      <td>2019-12-01T00:52:30.680</td>\n",
              "      <td>eurieka</td>\n",
              "      <td>2019-12-01T00:52:30.680</td>\n",
              "      <td>NaN</td>\n",
              "      <td>United States</td>\n",
              "      <td>NaN</td>\n",
              "      <td>0</td>\n",
              "      <td>1</td>\n",
              "      <td>0</td>\n",
              "      <td>11096710</td>\n",
              "      <td>https://www.gravatar.com/avatar/188867a90b9fed...</td>\n",
              "    </tr>\n",
              "    <tr>\n",
              "      <th>71644</th>\n",
              "      <td>86213</td>\n",
              "      <td>1</td>\n",
              "      <td>2019-12-01T02:13:26.667</td>\n",
              "      <td>netra</td>\n",
              "      <td>2019-12-01T02:13:26.667</td>\n",
              "      <td>NaN</td>\n",
              "      <td>NaN</td>\n",
              "      <td>NaN</td>\n",
              "      <td>1</td>\n",
              "      <td>0</td>\n",
              "      <td>0</td>\n",
              "      <td>17213856</td>\n",
              "      <td>NaN</td>\n",
              "    </tr>\n",
              "    <tr>\n",
              "      <th>71645</th>\n",
              "      <td>86214</td>\n",
              "      <td>1</td>\n",
              "      <td>2019-12-01T02:36:20.817</td>\n",
              "      <td>Pat.com</td>\n",
              "      <td>2019-12-01T02:36:20.817</td>\n",
              "      <td>NaN</td>\n",
              "      <td>NaN</td>\n",
              "      <td>NaN</td>\n",
              "      <td>0</td>\n",
              "      <td>0</td>\n",
              "      <td>0</td>\n",
              "      <td>13296376</td>\n",
              "      <td>https://www.gravatar.com/avatar/22edcc5b1edff2...</td>\n",
              "    </tr>\n",
              "    <tr>\n",
              "      <th>71646</th>\n",
              "      <td>86215</td>\n",
              "      <td>101</td>\n",
              "      <td>2019-12-01T03:02:42.790</td>\n",
              "      <td>Marine Galantin</td>\n",
              "      <td>2019-12-01T03:02:42.790</td>\n",
              "      <td>NaN</td>\n",
              "      <td>NaN</td>\n",
              "      <td>&lt;p&gt;EPFL student in maths :)&lt;/p&gt;\\n\\n&lt;p&gt;enjoying...</td>\n",
              "      <td>0</td>\n",
              "      <td>0</td>\n",
              "      <td>0</td>\n",
              "      <td>12131136</td>\n",
              "      <td>https://graph.facebook.com/872534512905210/pic...</td>\n",
              "    </tr>\n",
              "  </tbody>\n",
              "</table>\n",
              "<p>71647 rows × 13 columns</p>\n",
              "</div>"
            ],
            "text/plain": [
              "          Id  ...                                    ProfileImageUrl\n",
              "0         -1  ...                                                NaN\n",
              "1          1  ...      https://i.stack.imgur.com/SMEGn.jpg?s=128&g=1\n",
              "2          2  ...                https://i.stack.imgur.com/nDllk.png\n",
              "3          3  ...      https://i.stack.imgur.com/JVj4n.png?s=256&g=1\n",
              "4          4  ...                                                NaN\n",
              "...      ...  ...                                                ...\n",
              "71642  86211  ...  https://lh6.googleusercontent.com/-I5j4JC5dLN8...\n",
              "71643  86212  ...  https://www.gravatar.com/avatar/188867a90b9fed...\n",
              "71644  86213  ...                                                NaN\n",
              "71645  86214  ...  https://www.gravatar.com/avatar/22edcc5b1edff2...\n",
              "71646  86215  ...  https://graph.facebook.com/872534512905210/pic...\n",
              "\n",
              "[71647 rows x 13 columns]"
            ]
          },
          "metadata": {
            "tags": []
          },
          "execution_count": 11
        }
      ]
    },
    {
      "cell_type": "markdown",
      "metadata": {
        "id": "ESo0DYCskLGp",
        "colab_type": "text"
      },
      "source": [
        "Submit the first 75 rows to the autograder"
      ]
    },
    {
      "cell_type": "code",
      "metadata": {
        "id": "3m0PiiBqiGi2",
        "colab_type": "code",
        "colab": {
          "base_uri": "https://localhost:8080/",
          "height": 69
        },
        "outputId": "a4c3ad7f-6f05-4ed0-9c76-1b8b417c9b7a"
      },
      "source": [
        "grader.grade(test_case_id = 'load_users', answer = users_df[:75])"
      ],
      "execution_count": null,
      "outputs": [
        {
          "output_type": "stream",
          "text": [
            "Correct! You earned 6/6 points. You are a star!\n",
            "\n",
            "Your submission has been successfully recorded in the gradebook.\n"
          ],
          "name": "stdout"
        }
      ]
    },
    {
      "cell_type": "markdown",
      "metadata": {
        "id": "AgqTa6dteCvR",
        "colab_type": "text"
      },
      "source": [
        "### 1.3 Loading Posts.xml\n",
        "*  The Posts.xml file has been made public for the access of anyone with a valid UPenn email address.\n",
        "* Running the below cell will download the Posts.xml file into your drive. \n",
        "* You will be able to access the file with path as '***/content/Posts.xml***'"
      ]
    },
    {
      "cell_type": "code",
      "metadata": {
        "id": "buecgG0MeMmM",
        "colab_type": "code",
        "colab": {
          "base_uri": "https://localhost:8080/",
          "height": 34
        },
        "outputId": "4a870871-c845-4722-9e75-42d8c6ec36c5"
      },
      "source": [
        "gdd.download_file_from_google_drive(file_id='1etuY-EjzgEfMdPCSd7NblNz0qJJpAH3b',\n",
        "                                    dest_path='/content/Posts.xml')"
      ],
      "execution_count": null,
      "outputs": [
        {
          "output_type": "stream",
          "text": [
            "Downloading 1etuY-EjzgEfMdPCSd7NblNz0qJJpAH3b into /content/Posts.xml... Done.\n"
          ],
          "name": "stdout"
        }
      ]
    },
    {
      "cell_type": "markdown",
      "metadata": {
        "id": "tNC8JDTfeRyP",
        "colab_type": "text"
      },
      "source": [
        "##### Creating '*posts_df*' Pandas Dataframe from a list of JSON Objects\n",
        "\n",
        "* Create a list variable with name *posts_list*.\n",
        "* Use the XML parser etree's parse() function to parse the xml file using the above *Posts.xml* file you just downloaded.\n",
        "* Parse the xml file and append each row of the Posts.xml file as a json object to the *posts_list*.\n",
        "* Now, Use *posts_list* to create a Pandas Dataframe with name posts_df.\n",
        "* Make sure that the columns have the same dtypes given in the data documentation. \n"
      ]
    },
    {
      "cell_type": "code",
      "metadata": {
        "id": "Qd7o0rIPyYrq",
        "colab_type": "code",
        "colab": {
          "base_uri": "https://localhost:8080/",
          "height": 990
        },
        "outputId": "89ff3dad-9c07-430b-b4ee-8ab36222bf87"
      },
      "source": [
        "posts_list = []\n",
        "\n",
        "tree = etree.parse('/content/Posts.xml')\n",
        "root = tree.getroot()\n",
        "\n",
        "for child in root:\n",
        "  posts_list.append(dict(child.attrib))\n",
        "\n",
        "posts_df = pd.DataFrame(posts_list)\n",
        "posts_df['Id'] = posts_df['Id'].apply(lambda x: int(x))\n",
        "posts_df['OwnerUserId'].fillna(0, inplace = True)\n",
        "posts_df['OwnerUserId'] = posts_df['OwnerUserId'].apply(lambda x: int(x))\n",
        "posts_df['FavoriteCount'].fillna(0, inplace = True)\n",
        "posts_df['FavoriteCount'] = posts_df['FavoriteCount'].apply(lambda x: int(x))\n",
        "posts_df['ViewCount'].fillna(0, inplace = True)\n",
        "posts_df['ViewCount'] = posts_df['ViewCount'].apply(lambda x: int(x))\n",
        "posts_df['Score'] = posts_df['Score'].apply(lambda x: int(x))\n",
        "\n",
        "posts_df"
      ],
      "execution_count": null,
      "outputs": [
        {
          "output_type": "execute_result",
          "data": {
            "text/html": [
              "<div>\n",
              "<style scoped>\n",
              "    .dataframe tbody tr th:only-of-type {\n",
              "        vertical-align: middle;\n",
              "    }\n",
              "\n",
              "    .dataframe tbody tr th {\n",
              "        vertical-align: top;\n",
              "    }\n",
              "\n",
              "    .dataframe thead th {\n",
              "        text-align: right;\n",
              "    }\n",
              "</style>\n",
              "<table border=\"1\" class=\"dataframe\">\n",
              "  <thead>\n",
              "    <tr style=\"text-align: right;\">\n",
              "      <th></th>\n",
              "      <th>Id</th>\n",
              "      <th>PostTypeId</th>\n",
              "      <th>CreationDate</th>\n",
              "      <th>Score</th>\n",
              "      <th>ViewCount</th>\n",
              "      <th>Body</th>\n",
              "      <th>OwnerUserId</th>\n",
              "      <th>LastActivityDate</th>\n",
              "      <th>Title</th>\n",
              "      <th>Tags</th>\n",
              "      <th>AnswerCount</th>\n",
              "      <th>CommentCount</th>\n",
              "      <th>FavoriteCount</th>\n",
              "      <th>ClosedDate</th>\n",
              "      <th>AcceptedAnswerId</th>\n",
              "      <th>LastEditorUserId</th>\n",
              "      <th>LastEditDate</th>\n",
              "      <th>ParentId</th>\n",
              "      <th>OwnerDisplayName</th>\n",
              "      <th>CommunityOwnedDate</th>\n",
              "      <th>LastEditorDisplayName</th>\n",
              "    </tr>\n",
              "  </thead>\n",
              "  <tbody>\n",
              "    <tr>\n",
              "      <th>0</th>\n",
              "      <td>5</td>\n",
              "      <td>1</td>\n",
              "      <td>2014-05-13T23:58:30.457</td>\n",
              "      <td>8</td>\n",
              "      <td>643</td>\n",
              "      <td>&lt;p&gt;I've always been interested in machine lear...</td>\n",
              "      <td>5</td>\n",
              "      <td>2014-05-14T00:36:31.077</td>\n",
              "      <td>How can I do simple machine learning without h...</td>\n",
              "      <td>&lt;machine-learning&gt;</td>\n",
              "      <td>1</td>\n",
              "      <td>1</td>\n",
              "      <td>1</td>\n",
              "      <td>2014-05-14T14:40:25.950</td>\n",
              "      <td>NaN</td>\n",
              "      <td>NaN</td>\n",
              "      <td>NaN</td>\n",
              "      <td>NaN</td>\n",
              "      <td>NaN</td>\n",
              "      <td>NaN</td>\n",
              "      <td>NaN</td>\n",
              "    </tr>\n",
              "    <tr>\n",
              "      <th>1</th>\n",
              "      <td>7</td>\n",
              "      <td>1</td>\n",
              "      <td>2014-05-14T00:11:06.457</td>\n",
              "      <td>4</td>\n",
              "      <td>429</td>\n",
              "      <td>&lt;p&gt;As a researcher and instructor, I'm looking...</td>\n",
              "      <td>36</td>\n",
              "      <td>2014-05-16T13:45:00.237</td>\n",
              "      <td>What open-source books (or other materials) pr...</td>\n",
              "      <td>&lt;education&gt;&lt;open-source&gt;</td>\n",
              "      <td>3</td>\n",
              "      <td>4</td>\n",
              "      <td>1</td>\n",
              "      <td>2014-05-14T08:40:54.950</td>\n",
              "      <td>10</td>\n",
              "      <td>97</td>\n",
              "      <td>2014-05-16T13:45:00.237</td>\n",
              "      <td>NaN</td>\n",
              "      <td>NaN</td>\n",
              "      <td>NaN</td>\n",
              "      <td>NaN</td>\n",
              "    </tr>\n",
              "    <tr>\n",
              "      <th>2</th>\n",
              "      <td>9</td>\n",
              "      <td>2</td>\n",
              "      <td>2014-05-14T00:36:31.077</td>\n",
              "      <td>5</td>\n",
              "      <td>0</td>\n",
              "      <td>&lt;p&gt;Not sure if this fits the scope of this SE,...</td>\n",
              "      <td>51</td>\n",
              "      <td>2014-05-14T00:36:31.077</td>\n",
              "      <td>NaN</td>\n",
              "      <td>NaN</td>\n",
              "      <td>NaN</td>\n",
              "      <td>0</td>\n",
              "      <td>0</td>\n",
              "      <td>NaN</td>\n",
              "      <td>NaN</td>\n",
              "      <td>NaN</td>\n",
              "      <td>NaN</td>\n",
              "      <td>5</td>\n",
              "      <td>NaN</td>\n",
              "      <td>NaN</td>\n",
              "      <td>NaN</td>\n",
              "    </tr>\n",
              "    <tr>\n",
              "      <th>3</th>\n",
              "      <td>10</td>\n",
              "      <td>2</td>\n",
              "      <td>2014-05-14T00:53:43.273</td>\n",
              "      <td>12</td>\n",
              "      <td>0</td>\n",
              "      <td>&lt;p&gt;One book that's freely available is \"The El...</td>\n",
              "      <td>22</td>\n",
              "      <td>2014-05-14T00:53:43.273</td>\n",
              "      <td>NaN</td>\n",
              "      <td>NaN</td>\n",
              "      <td>NaN</td>\n",
              "      <td>1</td>\n",
              "      <td>0</td>\n",
              "      <td>NaN</td>\n",
              "      <td>NaN</td>\n",
              "      <td>NaN</td>\n",
              "      <td>NaN</td>\n",
              "      <td>7</td>\n",
              "      <td>NaN</td>\n",
              "      <td>NaN</td>\n",
              "      <td>NaN</td>\n",
              "    </tr>\n",
              "    <tr>\n",
              "      <th>4</th>\n",
              "      <td>14</td>\n",
              "      <td>1</td>\n",
              "      <td>2014-05-14T01:25:59.677</td>\n",
              "      <td>22</td>\n",
              "      <td>1542</td>\n",
              "      <td>&lt;p&gt;I am sure data science as will be discussed...</td>\n",
              "      <td>66</td>\n",
              "      <td>2014-06-20T17:36:05.023</td>\n",
              "      <td>Is Data Science the Same as Data Mining?</td>\n",
              "      <td>&lt;data-mining&gt;&lt;definitions&gt;</td>\n",
              "      <td>4</td>\n",
              "      <td>1</td>\n",
              "      <td>6</td>\n",
              "      <td>NaN</td>\n",
              "      <td>29</td>\n",
              "      <td>322</td>\n",
              "      <td>2014-06-17T16:17:20.473</td>\n",
              "      <td>NaN</td>\n",
              "      <td>NaN</td>\n",
              "      <td>NaN</td>\n",
              "      <td>NaN</td>\n",
              "    </tr>\n",
              "    <tr>\n",
              "      <th>...</th>\n",
              "      <td>...</td>\n",
              "      <td>...</td>\n",
              "      <td>...</td>\n",
              "      <td>...</td>\n",
              "      <td>...</td>\n",
              "      <td>...</td>\n",
              "      <td>...</td>\n",
              "      <td>...</td>\n",
              "      <td>...</td>\n",
              "      <td>...</td>\n",
              "      <td>...</td>\n",
              "      <td>...</td>\n",
              "      <td>...</td>\n",
              "      <td>...</td>\n",
              "      <td>...</td>\n",
              "      <td>...</td>\n",
              "      <td>...</td>\n",
              "      <td>...</td>\n",
              "      <td>...</td>\n",
              "      <td>...</td>\n",
              "      <td>...</td>\n",
              "    </tr>\n",
              "    <tr>\n",
              "      <th>43645</th>\n",
              "      <td>64045</td>\n",
              "      <td>2</td>\n",
              "      <td>2019-11-30T23:48:00.320</td>\n",
              "      <td>1</td>\n",
              "      <td>0</td>\n",
              "      <td>&lt;p&gt;Named Entity Recognition (NER) would extrac...</td>\n",
              "      <td>64377</td>\n",
              "      <td>2019-11-30T23:48:00.320</td>\n",
              "      <td>NaN</td>\n",
              "      <td>NaN</td>\n",
              "      <td>NaN</td>\n",
              "      <td>1</td>\n",
              "      <td>0</td>\n",
              "      <td>NaN</td>\n",
              "      <td>NaN</td>\n",
              "      <td>NaN</td>\n",
              "      <td>NaN</td>\n",
              "      <td>64029</td>\n",
              "      <td>NaN</td>\n",
              "      <td>NaN</td>\n",
              "      <td>NaN</td>\n",
              "    </tr>\n",
              "    <tr>\n",
              "      <th>43646</th>\n",
              "      <td>64046</td>\n",
              "      <td>2</td>\n",
              "      <td>2019-11-30T23:56:58.343</td>\n",
              "      <td>0</td>\n",
              "      <td>0</td>\n",
              "      <td>&lt;p&gt;You probably need to re-design the problem ...</td>\n",
              "      <td>64377</td>\n",
              "      <td>2019-11-30T23:56:58.343</td>\n",
              "      <td>NaN</td>\n",
              "      <td>NaN</td>\n",
              "      <td>NaN</td>\n",
              "      <td>0</td>\n",
              "      <td>0</td>\n",
              "      <td>NaN</td>\n",
              "      <td>NaN</td>\n",
              "      <td>NaN</td>\n",
              "      <td>NaN</td>\n",
              "      <td>63991</td>\n",
              "      <td>NaN</td>\n",
              "      <td>NaN</td>\n",
              "      <td>NaN</td>\n",
              "    </tr>\n",
              "    <tr>\n",
              "      <th>43647</th>\n",
              "      <td>64047</td>\n",
              "      <td>1</td>\n",
              "      <td>2019-12-01T00:16:55.170</td>\n",
              "      <td>0</td>\n",
              "      <td>4</td>\n",
              "      <td>&lt;p&gt;My wife has seizures a few times a month an...</td>\n",
              "      <td>86211</td>\n",
              "      <td>2019-12-01T02:04:48.333</td>\n",
              "      <td>Relationship between two sets of dates</td>\n",
              "      <td>&lt;time-series&gt;&lt;correlation&gt;&lt;excel&gt;</td>\n",
              "      <td>0</td>\n",
              "      <td>0</td>\n",
              "      <td>0</td>\n",
              "      <td>NaN</td>\n",
              "      <td>NaN</td>\n",
              "      <td>1330</td>\n",
              "      <td>2019-12-01T02:04:48.333</td>\n",
              "      <td>NaN</td>\n",
              "      <td>NaN</td>\n",
              "      <td>NaN</td>\n",
              "      <td>NaN</td>\n",
              "    </tr>\n",
              "    <tr>\n",
              "      <th>43648</th>\n",
              "      <td>64048</td>\n",
              "      <td>1</td>\n",
              "      <td>2019-12-01T00:32:11.913</td>\n",
              "      <td>0</td>\n",
              "      <td>3</td>\n",
              "      <td>&lt;p&gt;I am looking at the documentation and this ...</td>\n",
              "      <td>54721</td>\n",
              "      <td>2019-12-01T00:32:11.913</td>\n",
              "      <td>How to use keras.utils.Sequence with multiple ...</td>\n",
              "      <td>&lt;keras&gt;&lt;tensorflow&gt;</td>\n",
              "      <td>0</td>\n",
              "      <td>0</td>\n",
              "      <td>0</td>\n",
              "      <td>NaN</td>\n",
              "      <td>NaN</td>\n",
              "      <td>NaN</td>\n",
              "      <td>NaN</td>\n",
              "      <td>NaN</td>\n",
              "      <td>NaN</td>\n",
              "      <td>NaN</td>\n",
              "      <td>NaN</td>\n",
              "    </tr>\n",
              "    <tr>\n",
              "      <th>43649</th>\n",
              "      <td>64049</td>\n",
              "      <td>1</td>\n",
              "      <td>2019-12-01T02:13:26.667</td>\n",
              "      <td>0</td>\n",
              "      <td>5</td>\n",
              "      <td>&lt;p&gt;when to use randomforest over xgboost and v...</td>\n",
              "      <td>86213</td>\n",
              "      <td>2019-12-01T02:13:26.667</td>\n",
              "      <td>when to use random forest over xgboost and vic...</td>\n",
              "      <td>&lt;machine-learning&gt;</td>\n",
              "      <td>0</td>\n",
              "      <td>1</td>\n",
              "      <td>0</td>\n",
              "      <td>NaN</td>\n",
              "      <td>NaN</td>\n",
              "      <td>NaN</td>\n",
              "      <td>NaN</td>\n",
              "      <td>NaN</td>\n",
              "      <td>NaN</td>\n",
              "      <td>NaN</td>\n",
              "      <td>NaN</td>\n",
              "    </tr>\n",
              "  </tbody>\n",
              "</table>\n",
              "<p>43650 rows × 21 columns</p>\n",
              "</div>"
            ],
            "text/plain": [
              "          Id PostTypeId  ... CommunityOwnedDate  LastEditorDisplayName\n",
              "0          5          1  ...                NaN                    NaN\n",
              "1          7          1  ...                NaN                    NaN\n",
              "2          9          2  ...                NaN                    NaN\n",
              "3         10          2  ...                NaN                    NaN\n",
              "4         14          1  ...                NaN                    NaN\n",
              "...      ...        ...  ...                ...                    ...\n",
              "43645  64045          2  ...                NaN                    NaN\n",
              "43646  64046          2  ...                NaN                    NaN\n",
              "43647  64047          1  ...                NaN                    NaN\n",
              "43648  64048          1  ...                NaN                    NaN\n",
              "43649  64049          1  ...                NaN                    NaN\n",
              "\n",
              "[43650 rows x 21 columns]"
            ]
          },
          "metadata": {
            "tags": []
          },
          "execution_count": 14
        }
      ]
    },
    {
      "cell_type": "markdown",
      "metadata": {
        "id": "3xvdIs7vkHlA",
        "colab_type": "text"
      },
      "source": [
        "Submit the first 75 rows to the autograder"
      ]
    },
    {
      "cell_type": "code",
      "metadata": {
        "id": "1vpJRLUrkGJT",
        "colab_type": "code",
        "colab": {
          "base_uri": "https://localhost:8080/",
          "height": 69
        },
        "outputId": "7f73eb11-a30b-4376-ee8a-1adb79e1d2a0"
      },
      "source": [
        "grader.grade(test_case_id = 'load_posts', answer = users_df[:75])"
      ],
      "execution_count": null,
      "outputs": [
        {
          "output_type": "stream",
          "text": [
            "Correct! You earned 5/5 points. You are a star!\n",
            "\n",
            "Your submission has been successfully recorded in the gradebook.\n"
          ],
          "name": "stdout"
        }
      ]
    },
    {
      "cell_type": "markdown",
      "metadata": {
        "id": "cbdbE1BYirMU",
        "colab_type": "text"
      },
      "source": [
        "### 1.4 Loading Comments.xml\n",
        "*  The Comments.xml file has been made public for the access of anyone with a valid UPenn email address.\n",
        "* Running the below cell will download the Comments.xml file into your drive. \n",
        "* You will be able to access the file with path as '***/content/Comments.xml***'"
      ]
    },
    {
      "cell_type": "markdown",
      "metadata": {
        "id": "0BcmuyrHiylA",
        "colab_type": "text"
      },
      "source": [
        "##### Creating '*comments_df*' Pandas Dataframe from a list of JSON Objects\n",
        "\n",
        "* Create a list variable with name *comments_list*.\n",
        "* Use the XML parser etree's parse() function to parse the xml file using the above *Comments.xml* file you just downloaded.\n",
        "* Parse the xml file and append each row of the Comments.xml file as a json object to the *comments_list*.\n",
        "* Now, Use *comments_list* to create a Pandas Dataframe with name comments_df.\n"
      ]
    },
    {
      "cell_type": "code",
      "metadata": {
        "id": "QEQEkXkbk35R",
        "colab_type": "code",
        "colab": {
          "base_uri": "https://localhost:8080/",
          "height": 34
        },
        "outputId": "2fb539da-79bd-4820-da2a-948f310adcd8"
      },
      "source": [
        "gdd.download_file_from_google_drive(file_id='1H7-P3PK7OkPCzk7eK32uYBR42cBL6HIu',\n",
        "                                    dest_path='/content/Comments.xml')"
      ],
      "execution_count": null,
      "outputs": [
        {
          "output_type": "stream",
          "text": [
            "Downloading 1H7-P3PK7OkPCzk7eK32uYBR42cBL6HIu into /content/Comments.xml... Done.\n"
          ],
          "name": "stdout"
        }
      ]
    },
    {
      "cell_type": "code",
      "metadata": {
        "id": "KrlSxwuOkHY7",
        "colab_type": "code",
        "colab": {
          "base_uri": "https://localhost:8080/",
          "height": 416
        },
        "outputId": "fea4fbd2-764c-4412-ea0f-927412ed81c0"
      },
      "source": [
        "comments_list = []\n",
        "\n",
        "tree = etree.parse('/content/Comments.xml')\n",
        "root = tree.getroot()\n",
        "\n",
        "for child in root:\n",
        "  comments_list.append(dict(child.attrib))\n",
        "\n",
        "comments_df = pd.DataFrame(comments_list)\n",
        "comments_df['Id'] = comments_df['Id'].apply(lambda x: int(x))\n",
        "\n",
        "comments_df"
      ],
      "execution_count": null,
      "outputs": [
        {
          "output_type": "execute_result",
          "data": {
            "text/html": [
              "<div>\n",
              "<style scoped>\n",
              "    .dataframe tbody tr th:only-of-type {\n",
              "        vertical-align: middle;\n",
              "    }\n",
              "\n",
              "    .dataframe tbody tr th {\n",
              "        vertical-align: top;\n",
              "    }\n",
              "\n",
              "    .dataframe thead th {\n",
              "        text-align: right;\n",
              "    }\n",
              "</style>\n",
              "<table border=\"1\" class=\"dataframe\">\n",
              "  <thead>\n",
              "    <tr style=\"text-align: right;\">\n",
              "      <th></th>\n",
              "      <th>Id</th>\n",
              "      <th>PostId</th>\n",
              "      <th>Score</th>\n",
              "      <th>Text</th>\n",
              "      <th>CreationDate</th>\n",
              "      <th>UserId</th>\n",
              "      <th>UserDisplayName</th>\n",
              "    </tr>\n",
              "  </thead>\n",
              "  <tbody>\n",
              "    <tr>\n",
              "      <th>0</th>\n",
              "      <td>5</td>\n",
              "      <td>5</td>\n",
              "      <td>9</td>\n",
              "      <td>this is a super theoretical AI question. An in...</td>\n",
              "      <td>2014-05-14T00:23:15.437</td>\n",
              "      <td>34</td>\n",
              "      <td>NaN</td>\n",
              "    </tr>\n",
              "    <tr>\n",
              "      <th>1</th>\n",
              "      <td>6</td>\n",
              "      <td>7</td>\n",
              "      <td>4</td>\n",
              "      <td>List questions are usually not suited for Stac...</td>\n",
              "      <td>2014-05-14T00:38:19.510</td>\n",
              "      <td>51</td>\n",
              "      <td>NaN</td>\n",
              "    </tr>\n",
              "    <tr>\n",
              "      <th>2</th>\n",
              "      <td>9</td>\n",
              "      <td>7</td>\n",
              "      <td>3</td>\n",
              "      <td>This question appears to be off-topic because ...</td>\n",
              "      <td>2014-05-14T01:16:12.623</td>\n",
              "      <td>66</td>\n",
              "      <td>NaN</td>\n",
              "    </tr>\n",
              "    <tr>\n",
              "      <th>3</th>\n",
              "      <td>12</td>\n",
              "      <td>15</td>\n",
              "      <td>3</td>\n",
              "      <td>This question is far too broad. It may be salv...</td>\n",
              "      <td>2014-05-14T02:00:22.797</td>\n",
              "      <td>51</td>\n",
              "      <td>NaN</td>\n",
              "    </tr>\n",
              "    <tr>\n",
              "      <th>4</th>\n",
              "      <td>13</td>\n",
              "      <td>10</td>\n",
              "      <td>2</td>\n",
              "      <td>Nice one, @Nicholas... Another book from Hasti...</td>\n",
              "      <td>2014-05-14T02:16:20.503</td>\n",
              "      <td>24</td>\n",
              "      <td>NaN</td>\n",
              "    </tr>\n",
              "    <tr>\n",
              "      <th>...</th>\n",
              "      <td>...</td>\n",
              "      <td>...</td>\n",
              "      <td>...</td>\n",
              "      <td>...</td>\n",
              "      <td>...</td>\n",
              "      <td>...</td>\n",
              "      <td>...</td>\n",
              "    </tr>\n",
              "    <tr>\n",
              "      <th>45008</th>\n",
              "      <td>69230</td>\n",
              "      <td>64026</td>\n",
              "      <td>0</td>\n",
              "      <td>Yes, but indirectly conv layers too I think, g...</td>\n",
              "      <td>2019-11-30T23:47:26.583</td>\n",
              "      <td>65131</td>\n",
              "      <td>NaN</td>\n",
              "    </tr>\n",
              "    <tr>\n",
              "      <th>45009</th>\n",
              "      <td>69231</td>\n",
              "      <td>64045</td>\n",
              "      <td>0</td>\n",
              "      <td>Thanks for your input.</td>\n",
              "      <td>2019-12-01T00:06:22.897</td>\n",
              "      <td>86192</td>\n",
              "      <td>NaN</td>\n",
              "    </tr>\n",
              "    <tr>\n",
              "      <th>45010</th>\n",
              "      <td>69232</td>\n",
              "      <td>49526</td>\n",
              "      <td>0</td>\n",
              "      <td>I am encountering this problem. Have you got a...</td>\n",
              "      <td>2019-12-01T02:03:54.820</td>\n",
              "      <td>12936</td>\n",
              "      <td>NaN</td>\n",
              "    </tr>\n",
              "    <tr>\n",
              "      <th>45011</th>\n",
              "      <td>69233</td>\n",
              "      <td>64049</td>\n",
              "      <td>0</td>\n",
              "      <td>Possible duplicate of [Random Forest VS LightG...</td>\n",
              "      <td>2019-12-01T02:27:46.977</td>\n",
              "      <td>83275</td>\n",
              "      <td>NaN</td>\n",
              "    </tr>\n",
              "    <tr>\n",
              "      <th>45012</th>\n",
              "      <td>69234</td>\n",
              "      <td>40068</td>\n",
              "      <td>0</td>\n",
              "      <td>what's the difference between the normal confu...</td>\n",
              "      <td>2019-12-01T03:03:05.440</td>\n",
              "      <td>86215</td>\n",
              "      <td>NaN</td>\n",
              "    </tr>\n",
              "  </tbody>\n",
              "</table>\n",
              "<p>45013 rows × 7 columns</p>\n",
              "</div>"
            ],
            "text/plain": [
              "          Id PostId Score  ...             CreationDate UserId UserDisplayName\n",
              "0          5      5     9  ...  2014-05-14T00:23:15.437     34             NaN\n",
              "1          6      7     4  ...  2014-05-14T00:38:19.510     51             NaN\n",
              "2          9      7     3  ...  2014-05-14T01:16:12.623     66             NaN\n",
              "3         12     15     3  ...  2014-05-14T02:00:22.797     51             NaN\n",
              "4         13     10     2  ...  2014-05-14T02:16:20.503     24             NaN\n",
              "...      ...    ...   ...  ...                      ...    ...             ...\n",
              "45008  69230  64026     0  ...  2019-11-30T23:47:26.583  65131             NaN\n",
              "45009  69231  64045     0  ...  2019-12-01T00:06:22.897  86192             NaN\n",
              "45010  69232  49526     0  ...  2019-12-01T02:03:54.820  12936             NaN\n",
              "45011  69233  64049     0  ...  2019-12-01T02:27:46.977  83275             NaN\n",
              "45012  69234  40068     0  ...  2019-12-01T03:03:05.440  86215             NaN\n",
              "\n",
              "[45013 rows x 7 columns]"
            ]
          },
          "metadata": {
            "tags": []
          },
          "execution_count": 17
        }
      ]
    },
    {
      "cell_type": "code",
      "metadata": {
        "id": "8DLm9NeikZoA",
        "colab_type": "code",
        "colab": {
          "base_uri": "https://localhost:8080/",
          "height": 69
        },
        "outputId": "9345511f-c2a9-4363-b08c-adc9161117e6"
      },
      "source": [
        "grader.grade(test_case_id = 'load_comments', answer = comments_df[:75])"
      ],
      "execution_count": null,
      "outputs": [
        {
          "output_type": "stream",
          "text": [
            "Correct! You earned 6/6 points. You are a star!\n",
            "\n",
            "Your submission has been successfully recorded in the gradebook.\n"
          ],
          "name": "stdout"
        }
      ]
    },
    {
      "cell_type": "markdown",
      "metadata": {
        "id": "ShtAkvKc2LEd",
        "colab_type": "text"
      },
      "source": [
        "## Part 2: Exploring the data\n",
        "\n",
        "***'pandasql'*** allows you to query pandas DataFrames using SQL syntax. It works similarly to sqldf in R. pandasql seeks to provide a more familiar way of manipulating and cleaning data for people new to Python or pandas. Lets use *pandasql* to work on few queries. For those interested, [here](https://community.alteryx.com/t5/Data-Science-Blog/pandasql-Make-python-speak-SQL/ba-p/138435) is a good resource for pandasql (obviously there are many others)\n",
        "\n",
        "Leave this here for now and don't touch it"
      ]
    },
    {
      "cell_type": "code",
      "metadata": {
        "id": "XdtvuBv2rX6b",
        "colab_type": "code",
        "colab": {}
      },
      "source": [
        "# If you want to add any other tables, here are some download lines\n",
        "\n",
        "# gdd.download_file_from_google_drive(file_id='19NiT6HR4gbjytDpwMRNZrH4XpLRlseyG',\n",
        "#                                     dest_path='/content/PostHistory.xml')\n",
        "\n",
        "# gdd.download_file_from_google_drive(file_id='1nHA6eIDg9E2rZhs2VB9zEx7bTozjF2ga',\n",
        "#                                     dest_path='/content/PostLinks.xml')\n",
        "\n",
        "# gdd.download_file_from_google_drive(file_id='1Ptu0ae6crUxgT4E9YgQWpA2KcIWr84Yi',\n",
        "#                                     dest_path='/content/Tags.xml')\n",
        "\n",
        "# gdd.download_file_from_google_drive(file_id='1y-Qg1VtaFTt7Zn54Rd3_ehU9EGSF5Opw',\n",
        "#                                     dest_path='/content/Votes.xml')\n"
      ],
      "execution_count": null,
      "outputs": []
    },
    {
      "cell_type": "markdown",
      "metadata": {
        "id": "gVUze2GC3Jl4",
        "colab_type": "text"
      },
      "source": [
        "### 2.1 Credible Users\n",
        "Let's first find credible users (i.e. not Craig) who have a reputation of >= 5000. Reputation reflects a users familiarity with the site and the expected quality of the content they provide. It also affects the amount of privileges the user has within the Stack Exchange system. Users gain or lose reputation based on the quality of their interactions with the system and other community members. The primary reason for reputation change is voting. Posts which are voted up increase their authors’ reputation; the reverse is true for posts which are voted down. \n",
        "\n",
        "For example: If you are rude to TAs or his majesty, your reputation drops by -100000.\n",
        "\n",
        "You can read more about it [here](https://meta.stackexchange.com/questions/7237/how-does-reputation-work)!\n",
        "\n",
        "\n",
        "TLDR : Your task is to print the names of the users who have a reputation greater than or equal to 5,000 in the decreasing order of their reputation i.e. highest reputation first\n"
      ]
    },
    {
      "cell_type": "code",
      "metadata": {
        "id": "nduKUHWJ2YM8",
        "colab_type": "code",
        "colab": {
          "base_uri": "https://localhost:8080/",
          "height": 448
        },
        "outputId": "b330b0f7-94a7-43ed-94a1-70f29870a0b7"
      },
      "source": [
        "query_credible_user_names = '''SELECT DisplayName, Reputation FROM users_df WHERE Reputation >=5000 ORDER BY Reputation DESC'''\n",
        "credible_user_names_df = ps.sqldf(query_credible_user_names, locals())\n",
        "credible_user_names_df"
      ],
      "execution_count": null,
      "outputs": [
        {
          "output_type": "execute_result",
          "data": {
            "text/html": [
              "<div>\n",
              "<style scoped>\n",
              "    .dataframe tbody tr th:only-of-type {\n",
              "        vertical-align: middle;\n",
              "    }\n",
              "\n",
              "    .dataframe tbody tr th {\n",
              "        vertical-align: top;\n",
              "    }\n",
              "\n",
              "    .dataframe thead th {\n",
              "        text-align: right;\n",
              "    }\n",
              "</style>\n",
              "<table border=\"1\" class=\"dataframe\">\n",
              "  <thead>\n",
              "    <tr style=\"text-align: right;\">\n",
              "      <th></th>\n",
              "      <th>DisplayName</th>\n",
              "      <th>Reputation</th>\n",
              "    </tr>\n",
              "  </thead>\n",
              "  <tbody>\n",
              "    <tr>\n",
              "      <th>0</th>\n",
              "      <td>Neil Slater</td>\n",
              "      <td>20524</td>\n",
              "    </tr>\n",
              "    <tr>\n",
              "      <th>1</th>\n",
              "      <td>Martin Thoma</td>\n",
              "      <td>12602</td>\n",
              "    </tr>\n",
              "    <tr>\n",
              "      <th>2</th>\n",
              "      <td>Media</td>\n",
              "      <td>9905</td>\n",
              "    </tr>\n",
              "    <tr>\n",
              "      <th>3</th>\n",
              "      <td>Emre</td>\n",
              "      <td>9056</td>\n",
              "    </tr>\n",
              "    <tr>\n",
              "      <th>4</th>\n",
              "      <td>n1k31t4</td>\n",
              "      <td>8901</td>\n",
              "    </tr>\n",
              "    <tr>\n",
              "      <th>5</th>\n",
              "      <td>Jan van der Vegt</td>\n",
              "      <td>7450</td>\n",
              "    </tr>\n",
              "    <tr>\n",
              "      <th>6</th>\n",
              "      <td>Dawny33</td>\n",
              "      <td>6833</td>\n",
              "    </tr>\n",
              "    <tr>\n",
              "      <th>7</th>\n",
              "      <td>Anony-Mousse</td>\n",
              "      <td>6237</td>\n",
              "    </tr>\n",
              "    <tr>\n",
              "      <th>8</th>\n",
              "      <td>Aleksandr Blekh</td>\n",
              "      <td>6158</td>\n",
              "    </tr>\n",
              "    <tr>\n",
              "      <th>9</th>\n",
              "      <td>JahKnows</td>\n",
              "      <td>6052</td>\n",
              "    </tr>\n",
              "    <tr>\n",
              "      <th>10</th>\n",
              "      <td>Brian Spiering</td>\n",
              "      <td>6005</td>\n",
              "    </tr>\n",
              "    <tr>\n",
              "      <th>11</th>\n",
              "      <td>Esmailian</td>\n",
              "      <td>5414</td>\n",
              "    </tr>\n",
              "    <tr>\n",
              "      <th>12</th>\n",
              "      <td>AN6U5</td>\n",
              "      <td>5343</td>\n",
              "    </tr>\n",
              "  </tbody>\n",
              "</table>\n",
              "</div>"
            ],
            "text/plain": [
              "         DisplayName  Reputation\n",
              "0        Neil Slater       20524\n",
              "1       Martin Thoma       12602\n",
              "2              Media        9905\n",
              "3               Emre        9056\n",
              "4            n1k31t4        8901\n",
              "5   Jan van der Vegt        7450\n",
              "6            Dawny33        6833\n",
              "7       Anony-Mousse        6237\n",
              "8    Aleksandr Blekh        6158\n",
              "9           JahKnows        6052\n",
              "10    Brian Spiering        6005\n",
              "11         Esmailian        5414\n",
              "12             AN6U5        5343"
            ]
          },
          "metadata": {
            "tags": []
          },
          "execution_count": 19
        }
      ]
    },
    {
      "cell_type": "code",
      "metadata": {
        "id": "9yo-_Wbs5X27",
        "colab_type": "code",
        "colab": {
          "base_uri": "https://localhost:8080/",
          "height": 69
        },
        "outputId": "64389bfd-eb95-4e45-c642-9c3f35ef3cd7"
      },
      "source": [
        "grader.grade(test_case_id = 'credible_user', answer = credible_user_names_df)"
      ],
      "execution_count": null,
      "outputs": [
        {
          "output_type": "stream",
          "text": [
            "Correct! You earned 9/9 points. You are a star!\n",
            "\n",
            "Your submission has been successfully recorded in the gradebook.\n"
          ],
          "name": "stdout"
        }
      ]
    },
    {
      "cell_type": "markdown",
      "metadata": {
        "id": "HQpQQA5D5adM",
        "colab_type": "text"
      },
      "source": [
        "### 2.2 The Talkative Ten (i.e. the Maggies)\n",
        "\n",
        "Find the names of the top 10 users who post the most on stack exchange in the decreasing order of their number of posts. \n",
        "\n",
        "Your result dataframe should contain both names and the corresponding number of posts."
      ]
    },
    {
      "cell_type": "code",
      "metadata": {
        "id": "h_lU1dh_6ilD",
        "colab_type": "code",
        "colab": {
          "base_uri": "https://localhost:8080/",
          "height": 356
        },
        "outputId": "6ea8c7db-0110-457d-9348-9b710e8deb1c"
      },
      "source": [
        "query_talkative_users = '''SELECT OwnerUserId, COUNT(Id) AS POST_COUNT FROM posts_df GROUP BY OwnerUserId ORDER BY POST_COUNT DESC LIMIT 10'''\n",
        "talkative_users = ps.sqldf(query_talkative_users, locals())\n",
        "\n",
        "query_join_tables = '''SELECT u.DisplayName, t.POST_COUNT FROM users_df AS u JOIN talkative_users AS t ON u.Id = t.OwnerUserId ORDER BY POST_COUNT DESC'''\n",
        "talkative_users_df = ps.sqldf(query_join_tables, locals())\n",
        "talkative_users_df"
      ],
      "execution_count": null,
      "outputs": [
        {
          "output_type": "execute_result",
          "data": {
            "text/html": [
              "<div>\n",
              "<style scoped>\n",
              "    .dataframe tbody tr th:only-of-type {\n",
              "        vertical-align: middle;\n",
              "    }\n",
              "\n",
              "    .dataframe tbody tr th {\n",
              "        vertical-align: top;\n",
              "    }\n",
              "\n",
              "    .dataframe thead th {\n",
              "        text-align: right;\n",
              "    }\n",
              "</style>\n",
              "<table border=\"1\" class=\"dataframe\">\n",
              "  <thead>\n",
              "    <tr style=\"text-align: right;\">\n",
              "      <th></th>\n",
              "      <th>DisplayName</th>\n",
              "      <th>POST_COUNT</th>\n",
              "    </tr>\n",
              "  </thead>\n",
              "  <tbody>\n",
              "    <tr>\n",
              "      <th>0</th>\n",
              "      <td>Neil Slater</td>\n",
              "      <td>418</td>\n",
              "    </tr>\n",
              "    <tr>\n",
              "      <th>1</th>\n",
              "      <td>n1k31t4</td>\n",
              "      <td>365</td>\n",
              "    </tr>\n",
              "    <tr>\n",
              "      <th>2</th>\n",
              "      <td>Media</td>\n",
              "      <td>355</td>\n",
              "    </tr>\n",
              "    <tr>\n",
              "      <th>3</th>\n",
              "      <td>Anony-Mousse</td>\n",
              "      <td>345</td>\n",
              "    </tr>\n",
              "    <tr>\n",
              "      <th>4</th>\n",
              "      <td>Brian Spiering</td>\n",
              "      <td>273</td>\n",
              "    </tr>\n",
              "    <tr>\n",
              "      <th>5</th>\n",
              "      <td>Emre</td>\n",
              "      <td>227</td>\n",
              "    </tr>\n",
              "    <tr>\n",
              "      <th>6</th>\n",
              "      <td>Martin Thoma</td>\n",
              "      <td>225</td>\n",
              "    </tr>\n",
              "    <tr>\n",
              "      <th>7</th>\n",
              "      <td>Erwan</td>\n",
              "      <td>221</td>\n",
              "    </tr>\n",
              "    <tr>\n",
              "      <th>8</th>\n",
              "      <td>Dawny33</td>\n",
              "      <td>216</td>\n",
              "    </tr>\n",
              "    <tr>\n",
              "      <th>9</th>\n",
              "      <td>Tasos</td>\n",
              "      <td>210</td>\n",
              "    </tr>\n",
              "  </tbody>\n",
              "</table>\n",
              "</div>"
            ],
            "text/plain": [
              "      DisplayName  POST_COUNT\n",
              "0     Neil Slater         418\n",
              "1         n1k31t4         365\n",
              "2           Media         355\n",
              "3    Anony-Mousse         345\n",
              "4  Brian Spiering         273\n",
              "5            Emre         227\n",
              "6    Martin Thoma         225\n",
              "7           Erwan         221\n",
              "8         Dawny33         216\n",
              "9           Tasos         210"
            ]
          },
          "metadata": {
            "tags": []
          },
          "execution_count": 21
        }
      ]
    },
    {
      "cell_type": "code",
      "metadata": {
        "id": "060Zck7p6x9d",
        "colab_type": "code",
        "colab": {
          "base_uri": "https://localhost:8080/",
          "height": 69
        },
        "outputId": "bf468317-560d-4490-8786-0e9e675f5a5b"
      },
      "source": [
        "grader.grade(test_case_id = 'annoying_maggie', answer = talkative_users_df)"
      ],
      "execution_count": null,
      "outputs": [
        {
          "output_type": "stream",
          "text": [
            "Correct! You earned 8/8 points. You are a star!\n",
            "\n",
            "Your submission has been successfully recorded in the gradebook.\n"
          ],
          "name": "stdout"
        }
      ]
    },
    {
      "cell_type": "markdown",
      "metadata": {
        "id": "KwLQXUmP679e",
        "colab_type": "text"
      },
      "source": [
        "### 2.3 The Fabulous favorites (i.e. the Prof Ives)\n",
        "\n",
        "On stack exchange you can favourite posts which allows you to easily access them kinda like the liked songs on spotify. Find the top 5% most favorited posts. \n",
        "\n",
        "Return the id, text, and number of favorites, in the decreasing order of the number of favorites. Your result schema should be: Id, Body, TOP_MOST"
      ]
    },
    {
      "cell_type": "code",
      "metadata": {
        "id": "orsuD1epedg_",
        "colab_type": "code",
        "colab": {
          "base_uri": "https://localhost:8080/",
          "height": 416
        },
        "outputId": "9e0d222f-c98a-4d70-def1-a6459eae24da"
      },
      "source": [
        "query_favorite_posts = '''SELECT Id, Body, FavoriteCount AS TOP_MOST FROM posts_df ORDER BY FavoriteCount DESC LIMIT 2183'''\n",
        "answer_df = ps.sqldf(query_favorite_posts, locals())\n",
        "answer_df"
      ],
      "execution_count": null,
      "outputs": [
        {
          "output_type": "execute_result",
          "data": {
            "text/html": [
              "<div>\n",
              "<style scoped>\n",
              "    .dataframe tbody tr th:only-of-type {\n",
              "        vertical-align: middle;\n",
              "    }\n",
              "\n",
              "    .dataframe tbody tr th {\n",
              "        vertical-align: top;\n",
              "    }\n",
              "\n",
              "    .dataframe thead th {\n",
              "        text-align: right;\n",
              "    }\n",
              "</style>\n",
              "<table border=\"1\" class=\"dataframe\">\n",
              "  <thead>\n",
              "    <tr style=\"text-align: right;\">\n",
              "      <th></th>\n",
              "      <th>Id</th>\n",
              "      <th>Body</th>\n",
              "      <th>TOP_MOST</th>\n",
              "    </tr>\n",
              "  </thead>\n",
              "  <tbody>\n",
              "    <tr>\n",
              "      <th>0</th>\n",
              "      <td>155</td>\n",
              "      <td>&lt;p&gt;One of the common problems in data science ...</td>\n",
              "      <td>186</td>\n",
              "    </tr>\n",
              "    <tr>\n",
              "      <th>1</th>\n",
              "      <td>6107</td>\n",
              "      <td>&lt;p&gt;I recently read &lt;a href=\"http://arxiv.org/a...</td>\n",
              "      <td>141</td>\n",
              "    </tr>\n",
              "    <tr>\n",
              "      <th>2</th>\n",
              "      <td>694</td>\n",
              "      <td>&lt;p&gt;I'm using Neural Networks to solve differen...</td>\n",
              "      <td>119</td>\n",
              "    </tr>\n",
              "    <tr>\n",
              "      <th>3</th>\n",
              "      <td>22</td>\n",
              "      <td>&lt;p&gt;My data set contains a number of numeric at...</td>\n",
              "      <td>108</td>\n",
              "    </tr>\n",
              "    <tr>\n",
              "      <th>4</th>\n",
              "      <td>5706</td>\n",
              "      <td>&lt;p&gt;Referring to the Stanford course notes on &lt;...</td>\n",
              "      <td>95</td>\n",
              "    </tr>\n",
              "    <tr>\n",
              "      <th>...</th>\n",
              "      <td>...</td>\n",
              "      <td>...</td>\n",
              "      <td>...</td>\n",
              "    </tr>\n",
              "    <tr>\n",
              "      <th>2178</th>\n",
              "      <td>62365</td>\n",
              "      <td>&lt;p&gt;I have the following evaluation metrics on ...</td>\n",
              "      <td>2</td>\n",
              "    </tr>\n",
              "    <tr>\n",
              "      <th>2179</th>\n",
              "      <td>62391</td>\n",
              "      <td>&lt;h1&gt;Background&lt;/h1&gt;\\n\\n&lt;p&gt;Trying to identify t...</td>\n",
              "      <td>2</td>\n",
              "    </tr>\n",
              "    <tr>\n",
              "      <th>2180</th>\n",
              "      <td>62409</td>\n",
              "      <td>&lt;p&gt;I recently attended a PhD thesis defence in...</td>\n",
              "      <td>2</td>\n",
              "    </tr>\n",
              "    <tr>\n",
              "      <th>2181</th>\n",
              "      <td>62415</td>\n",
              "      <td>&lt;p&gt;As I asked in this question: &lt;a href=\"https...</td>\n",
              "      <td>2</td>\n",
              "    </tr>\n",
              "    <tr>\n",
              "      <th>2182</th>\n",
              "      <td>62662</td>\n",
              "      <td>&lt;p&gt;&lt;a href=\"https://i.stack.imgur.com/03GTQ.pn...</td>\n",
              "      <td>2</td>\n",
              "    </tr>\n",
              "  </tbody>\n",
              "</table>\n",
              "<p>2183 rows × 3 columns</p>\n",
              "</div>"
            ],
            "text/plain": [
              "         Id                                               Body  TOP_MOST\n",
              "0       155  <p>One of the common problems in data science ...       186\n",
              "1      6107  <p>I recently read <a href=\"http://arxiv.org/a...       141\n",
              "2       694  <p>I'm using Neural Networks to solve differen...       119\n",
              "3        22  <p>My data set contains a number of numeric at...       108\n",
              "4      5706  <p>Referring to the Stanford course notes on <...        95\n",
              "...     ...                                                ...       ...\n",
              "2178  62365  <p>I have the following evaluation metrics on ...         2\n",
              "2179  62391  <h1>Background</h1>\\n\\n<p>Trying to identify t...         2\n",
              "2180  62409  <p>I recently attended a PhD thesis defence in...         2\n",
              "2181  62415  <p>As I asked in this question: <a href=\"https...         2\n",
              "2182  62662  <p><a href=\"https://i.stack.imgur.com/03GTQ.pn...         2\n",
              "\n",
              "[2183 rows x 3 columns]"
            ]
          },
          "metadata": {
            "tags": []
          },
          "execution_count": 23
        }
      ]
    },
    {
      "cell_type": "code",
      "metadata": {
        "id": "VmXdo_IRn6by",
        "colab_type": "code",
        "colab": {
          "base_uri": "https://localhost:8080/",
          "height": 69
        },
        "outputId": "5c14375f-e397-4506-931f-c154aacd7740"
      },
      "source": [
        "grader.grade(test_case_id = 'his_majesty', answer = answer_df)"
      ],
      "execution_count": null,
      "outputs": [
        {
          "output_type": "stream",
          "text": [
            "Correct! You earned 9/9 points. You are a star!\n",
            "\n",
            "Your submission has been successfully recorded in the gradebook.\n"
          ],
          "name": "stdout"
        }
      ]
    },
    {
      "cell_type": "markdown",
      "metadata": {
        "id": "DA4WILiC82yn",
        "colab_type": "text"
      },
      "source": [
        "### 2.4 Where the data scientists at? \n",
        "\n",
        "We hypothesize that most data science posts come from Silicon Valley (the place, not the TV show). We will compare the number of posts from users in  silicon valley to the number of posts from the users (mostly sad Penn engineering students) in Philadelphia. \n",
        "\n",
        "First, create a dataframe to find out posts of all users who are based out of Silicon Valley(location contains the word \"Silicon Valley\"). The dataframe should contain the user's display name and the content(the body) of the post. Name the second column \"SILICON_POSTS\" and do this within the query."
      ]
    },
    {
      "cell_type": "code",
      "metadata": {
        "id": "EebyoP3V-J-Y",
        "colab_type": "code",
        "colab": {
          "base_uri": "https://localhost:8080/",
          "height": 416
        },
        "outputId": "0ff64911-2ae5-42c5-fc09-61620ce2849c"
      },
      "source": [
        "query_silicon_user_names = '''SELECT Id, DisplayName FROM users_df WHERE Location LIKE '%Silicon Valley%' '''\n",
        "silicon_users_df = ps.sqldf(query_silicon_user_names, locals())\n",
        "\n",
        "query_join_posts = '''SELECT s.DisplayName, p.Body AS SILICON_POSTS FROM silicon_users_df AS s JOIN posts_df AS p ON s.Id = p.OwnerUserId'''\n",
        "silicon_posts_df = ps.sqldf(query_join_posts, locals())\n",
        "silicon_posts_df"
      ],
      "execution_count": null,
      "outputs": [
        {
          "output_type": "execute_result",
          "data": {
            "text/html": [
              "<div>\n",
              "<style scoped>\n",
              "    .dataframe tbody tr th:only-of-type {\n",
              "        vertical-align: middle;\n",
              "    }\n",
              "\n",
              "    .dataframe tbody tr th {\n",
              "        vertical-align: top;\n",
              "    }\n",
              "\n",
              "    .dataframe thead th {\n",
              "        text-align: right;\n",
              "    }\n",
              "</style>\n",
              "<table border=\"1\" class=\"dataframe\">\n",
              "  <thead>\n",
              "    <tr style=\"text-align: right;\">\n",
              "      <th></th>\n",
              "      <th>DisplayName</th>\n",
              "      <th>SILICON_POSTS</th>\n",
              "    </tr>\n",
              "  </thead>\n",
              "  <tbody>\n",
              "    <tr>\n",
              "      <th>0</th>\n",
              "      <td>Emre</td>\n",
              "      <td>&lt;blockquote&gt;\\n  &lt;p&gt;For example I should delete...</td>\n",
              "    </tr>\n",
              "    <tr>\n",
              "      <th>1</th>\n",
              "      <td>Emre</td>\n",
              "      <td>&lt;blockquote&gt;\\n  &lt;p&gt;From this sample set I woul...</td>\n",
              "    </tr>\n",
              "    <tr>\n",
              "      <th>2</th>\n",
              "      <td>Emre</td>\n",
              "      <td>&lt;blockquote&gt;\\n  &lt;p&gt;How best could I organize t...</td>\n",
              "    </tr>\n",
              "    <tr>\n",
              "      <th>3</th>\n",
              "      <td>Emre</td>\n",
              "      <td>&lt;blockquote&gt;\\n  &lt;p&gt;What does this sentence mea...</td>\n",
              "    </tr>\n",
              "    <tr>\n",
              "      <th>4</th>\n",
              "      <td>Emre</td>\n",
              "      <td>&lt;h1&gt;Clustering&lt;/h1&gt;\\n\\n&lt;p&gt;I think a tree is a ...</td>\n",
              "    </tr>\n",
              "    <tr>\n",
              "      <th>...</th>\n",
              "      <td>...</td>\n",
              "      <td>...</td>\n",
              "    </tr>\n",
              "    <tr>\n",
              "      <th>269</th>\n",
              "      <td>John L.</td>\n",
              "      <td>&lt;p&gt;I have started to investigate word2vec and ...</td>\n",
              "    </tr>\n",
              "    <tr>\n",
              "      <th>270</th>\n",
              "      <td>Sabrina</td>\n",
              "      <td>&lt;p&gt;I am using encoder-decoder model to predict...</td>\n",
              "    </tr>\n",
              "    <tr>\n",
              "      <th>271</th>\n",
              "      <td>Sabrina</td>\n",
              "      <td>&lt;p&gt;I have two encoder-decoder models. &lt;/p&gt;\\n\\n...</td>\n",
              "    </tr>\n",
              "    <tr>\n",
              "      <th>272</th>\n",
              "      <td>Ryan</td>\n",
              "      <td>&lt;p&gt;After a model is built, how can I use it to...</td>\n",
              "    </tr>\n",
              "    <tr>\n",
              "      <th>273</th>\n",
              "      <td>Ryan</td>\n",
              "      <td>&lt;p&gt;I'd like to import the Rotten Tomatoes Movi...</td>\n",
              "    </tr>\n",
              "  </tbody>\n",
              "</table>\n",
              "<p>274 rows × 2 columns</p>\n",
              "</div>"
            ],
            "text/plain": [
              "    DisplayName                                      SILICON_POSTS\n",
              "0          Emre  <blockquote>\\n  <p>For example I should delete...\n",
              "1          Emre  <blockquote>\\n  <p>From this sample set I woul...\n",
              "2          Emre  <blockquote>\\n  <p>How best could I organize t...\n",
              "3          Emre  <blockquote>\\n  <p>What does this sentence mea...\n",
              "4          Emre  <h1>Clustering</h1>\\n\\n<p>I think a tree is a ...\n",
              "..          ...                                                ...\n",
              "269     John L.  <p>I have started to investigate word2vec and ...\n",
              "270     Sabrina  <p>I am using encoder-decoder model to predict...\n",
              "271     Sabrina  <p>I have two encoder-decoder models. </p>\\n\\n...\n",
              "272        Ryan  <p>After a model is built, how can I use it to...\n",
              "273        Ryan  <p>I'd like to import the Rotten Tomatoes Movi...\n",
              "\n",
              "[274 rows x 2 columns]"
            ]
          },
          "metadata": {
            "tags": []
          },
          "execution_count": 25
        }
      ]
    },
    {
      "cell_type": "code",
      "metadata": {
        "id": "4dynf-hxsWI6",
        "colab_type": "code",
        "colab": {
          "base_uri": "https://localhost:8080/",
          "height": 69
        },
        "outputId": "b07503b6-c329-40d7-f46f-7784f1f3a99f"
      },
      "source": [
        "grader.grade(test_case_id = 'find_data_scientist', answer = silicon_posts_df)"
      ],
      "execution_count": null,
      "outputs": [
        {
          "output_type": "stream",
          "text": [
            "Correct! You earned 8/8 points. You are a star!\n",
            "\n",
            "Your submission has been successfully recorded in the gradebook.\n"
          ],
          "name": "stdout"
        }
      ]
    },
    {
      "cell_type": "markdown",
      "metadata": {
        "id": "GBLZSSBx-RpS",
        "colab_type": "text"
      },
      "source": [
        "Do the posts make sense to you? look at the text and see if those seem to be genuine questions. \n",
        "\n",
        "Let's see the number of posts in the dataframe created above"
      ]
    },
    {
      "cell_type": "markdown",
      "metadata": {
        "id": "hv_FKS0K-k7u",
        "colab_type": "text"
      },
      "source": [
        "Now let's find the number of posts from Philly! Create a similar dataframe as above but for location as Philadelphia"
      ]
    },
    {
      "cell_type": "code",
      "metadata": {
        "id": "9XxbpteG-4RU",
        "colab_type": "code",
        "colab": {
          "base_uri": "https://localhost:8080/",
          "height": 938
        },
        "outputId": "e5119b4b-9eb9-4eaa-841a-ef90f976da10"
      },
      "source": [
        "query_philly_user_names = '''SELECT Id, DisplayName FROM users_df WHERE Location LIKE '%Philadelphia%' '''\n",
        "philly_users_df = ps.sqldf(query_philly_user_names, locals())\n",
        "\n",
        "query_join_posts = '''SELECT y.DisplayName, p.Body AS PHILADELPHIA_POSTS FROM philly_users_df AS y JOIN posts_df AS p ON y.Id = p.OwnerUserId'''\n",
        "cheesesteak_posts_df = ps.sqldf(query_join_posts, locals())\n",
        "cheesesteak_posts_df"
      ],
      "execution_count": null,
      "outputs": [
        {
          "output_type": "execute_result",
          "data": {
            "text/html": [
              "<div>\n",
              "<style scoped>\n",
              "    .dataframe tbody tr th:only-of-type {\n",
              "        vertical-align: middle;\n",
              "    }\n",
              "\n",
              "    .dataframe tbody tr th {\n",
              "        vertical-align: top;\n",
              "    }\n",
              "\n",
              "    .dataframe thead th {\n",
              "        text-align: right;\n",
              "    }\n",
              "</style>\n",
              "<table border=\"1\" class=\"dataframe\">\n",
              "  <thead>\n",
              "    <tr style=\"text-align: right;\">\n",
              "      <th></th>\n",
              "      <th>DisplayName</th>\n",
              "      <th>PHILADELPHIA_POSTS</th>\n",
              "    </tr>\n",
              "  </thead>\n",
              "  <tbody>\n",
              "    <tr>\n",
              "      <th>0</th>\n",
              "      <td>Koba</td>\n",
              "      <td>&lt;p&gt;XML is a markup language similar to html. O...</td>\n",
              "    </tr>\n",
              "    <tr>\n",
              "      <th>1</th>\n",
              "      <td>Randy</td>\n",
              "      <td>&lt;p&gt;When looking for texts to learn advanced to...</td>\n",
              "    </tr>\n",
              "    <tr>\n",
              "      <th>2</th>\n",
              "      <td>JasonAizkalns</td>\n",
              "      <td>&lt;p&gt;As an analytics practitioner, I frequently ...</td>\n",
              "    </tr>\n",
              "    <tr>\n",
              "      <th>3</th>\n",
              "      <td>JasonAizkalns</td>\n",
              "      <td>&lt;p&gt;One way is to use the &lt;code&gt;infer&lt;/code&gt; pa...</td>\n",
              "    </tr>\n",
              "    <tr>\n",
              "      <th>4</th>\n",
              "      <td>JasonAizkalns</td>\n",
              "      <td>&lt;p&gt;The &lt;code&gt;dplyr&lt;/code&gt; package should be us...</td>\n",
              "    </tr>\n",
              "    <tr>\n",
              "      <th>5</th>\n",
              "      <td>JasonAizkalns</td>\n",
              "      <td>&lt;p&gt;This is probably best explained via an anal...</td>\n",
              "    </tr>\n",
              "    <tr>\n",
              "      <th>6</th>\n",
              "      <td>JasonAizkalns</td>\n",
              "      <td>&lt;p&gt;You could use the &lt;code&gt;dplyr&lt;/code&gt; packag...</td>\n",
              "    </tr>\n",
              "    <tr>\n",
              "      <th>7</th>\n",
              "      <td>Brian Rushton</td>\n",
              "      <td>&lt;p&gt;I've been researching the history and use o...</td>\n",
              "    </tr>\n",
              "    <tr>\n",
              "      <th>8</th>\n",
              "      <td>Russell Richie</td>\n",
              "      <td>&lt;blockquote&gt;\\n  &lt;p&gt;=run a maximum of n tests o...</td>\n",
              "    </tr>\n",
              "    <tr>\n",
              "      <th>9</th>\n",
              "      <td>Russell Richie</td>\n",
              "      <td>&lt;p&gt;From Sebastian Raschka's &lt;em&gt;&lt;a href=\"https...</td>\n",
              "    </tr>\n",
              "    <tr>\n",
              "      <th>10</th>\n",
              "      <td>Russell Richie</td>\n",
              "      <td>&lt;p&gt;Multi-indexing &lt;em&gt;might&lt;/em&gt; be helpful. S...</td>\n",
              "    </tr>\n",
              "    <tr>\n",
              "      <th>11</th>\n",
              "      <td>Russell Richie</td>\n",
              "      <td>&lt;p&gt;One quick note: gridsearch gets &lt;em&gt;very&lt;/e...</td>\n",
              "    </tr>\n",
              "    <tr>\n",
              "      <th>12</th>\n",
              "      <td>Russell Richie</td>\n",
              "      <td>&lt;p&gt;You can train after each example, or after ...</td>\n",
              "    </tr>\n",
              "    <tr>\n",
              "      <th>13</th>\n",
              "      <td>A.I.</td>\n",
              "      <td>&lt;p&gt;Can anyone provide specific techniques with...</td>\n",
              "    </tr>\n",
              "    <tr>\n",
              "      <th>14</th>\n",
              "      <td>William Entriken</td>\n",
              "      <td>&lt;h1&gt;Some data&lt;/h1&gt;\\n\\n&lt;p&gt;Maybe this is easiest...</td>\n",
              "    </tr>\n",
              "    <tr>\n",
              "      <th>15</th>\n",
              "      <td>William Entriken</td>\n",
              "      <td>&lt;p&gt;I am modeling a binary classification and m...</td>\n",
              "    </tr>\n",
              "    <tr>\n",
              "      <th>16</th>\n",
              "      <td>William Entriken</td>\n",
              "      <td>&lt;p&gt;I am trying to predict an output value base...</td>\n",
              "    </tr>\n",
              "    <tr>\n",
              "      <th>17</th>\n",
              "      <td>William Entriken</td>\n",
              "      <td>&lt;p&gt;I have a locus &lt;code&gt;L&lt;/code&gt; of points (la...</td>\n",
              "    </tr>\n",
              "    <tr>\n",
              "      <th>18</th>\n",
              "      <td>William Entriken</td>\n",
              "      <td>&lt;p&gt;I understand data hygiene, which is probabl...</td>\n",
              "    </tr>\n",
              "    <tr>\n",
              "      <th>19</th>\n",
              "      <td>William Entriken</td>\n",
              "      <td>&lt;p&gt;I understand that the loss metric can be us...</td>\n",
              "    </tr>\n",
              "    <tr>\n",
              "      <th>20</th>\n",
              "      <td>William Entriken</td>\n",
              "      <td>&lt;p&gt;Let's assume I'm modeling a process like:&lt;/...</td>\n",
              "    </tr>\n",
              "    <tr>\n",
              "      <th>21</th>\n",
              "      <td>William Entriken</td>\n",
              "      <td>&lt;p&gt;Scipy has tools most most of this already.&lt;...</td>\n",
              "    </tr>\n",
              "    <tr>\n",
              "      <th>22</th>\n",
              "      <td>MuhsinFatih</td>\n",
              "      <td>&lt;p&gt;I am trying to implement an algorithm where...</td>\n",
              "    </tr>\n",
              "    <tr>\n",
              "      <th>23</th>\n",
              "      <td>Krishnang K Dalal</td>\n",
              "      <td>&lt;p&gt;&lt;em&gt;Please pardon me as the title might not...</td>\n",
              "    </tr>\n",
              "    <tr>\n",
              "      <th>24</th>\n",
              "      <td>Krishnang K Dalal</td>\n",
              "      <td>&lt;p&gt;I want to understand how to split the imbal...</td>\n",
              "    </tr>\n",
              "    <tr>\n",
              "      <th>25</th>\n",
              "      <td>JJtheNOOB</td>\n",
              "      <td>&lt;p&gt;I am working with kaggle dataset that has o...</td>\n",
              "    </tr>\n",
              "    <tr>\n",
              "      <th>26</th>\n",
              "      <td>ZacharyC</td>\n",
              "      <td>&lt;p&gt;I am attempting to plot the expected diffra...</td>\n",
              "    </tr>\n",
              "    <tr>\n",
              "      <th>27</th>\n",
              "      <td>Navdeep</td>\n",
              "      <td>&lt;p&gt;I have two sets of networks:&lt;/p&gt;\\n\\n&lt;p&gt;netw...</td>\n",
              "    </tr>\n",
              "    <tr>\n",
              "      <th>28</th>\n",
              "      <td>RemiDav</td>\n",
              "      <td>&lt;p&gt;There are more and more databases of pictur...</td>\n",
              "    </tr>\n",
              "  </tbody>\n",
              "</table>\n",
              "</div>"
            ],
            "text/plain": [
              "          DisplayName                                 PHILADELPHIA_POSTS\n",
              "0                Koba  <p>XML is a markup language similar to html. O...\n",
              "1               Randy  <p>When looking for texts to learn advanced to...\n",
              "2       JasonAizkalns  <p>As an analytics practitioner, I frequently ...\n",
              "3       JasonAizkalns  <p>One way is to use the <code>infer</code> pa...\n",
              "4       JasonAizkalns  <p>The <code>dplyr</code> package should be us...\n",
              "5       JasonAizkalns  <p>This is probably best explained via an anal...\n",
              "6       JasonAizkalns  <p>You could use the <code>dplyr</code> packag...\n",
              "7       Brian Rushton  <p>I've been researching the history and use o...\n",
              "8      Russell Richie  <blockquote>\\n  <p>=run a maximum of n tests o...\n",
              "9      Russell Richie  <p>From Sebastian Raschka's <em><a href=\"https...\n",
              "10     Russell Richie  <p>Multi-indexing <em>might</em> be helpful. S...\n",
              "11     Russell Richie  <p>One quick note: gridsearch gets <em>very</e...\n",
              "12     Russell Richie  <p>You can train after each example, or after ...\n",
              "13               A.I.  <p>Can anyone provide specific techniques with...\n",
              "14   William Entriken  <h1>Some data</h1>\\n\\n<p>Maybe this is easiest...\n",
              "15   William Entriken  <p>I am modeling a binary classification and m...\n",
              "16   William Entriken  <p>I am trying to predict an output value base...\n",
              "17   William Entriken  <p>I have a locus <code>L</code> of points (la...\n",
              "18   William Entriken  <p>I understand data hygiene, which is probabl...\n",
              "19   William Entriken  <p>I understand that the loss metric can be us...\n",
              "20   William Entriken  <p>Let's assume I'm modeling a process like:</...\n",
              "21   William Entriken  <p>Scipy has tools most most of this already.<...\n",
              "22        MuhsinFatih  <p>I am trying to implement an algorithm where...\n",
              "23  Krishnang K Dalal  <p><em>Please pardon me as the title might not...\n",
              "24  Krishnang K Dalal  <p>I want to understand how to split the imbal...\n",
              "25          JJtheNOOB  <p>I am working with kaggle dataset that has o...\n",
              "26           ZacharyC  <p>I am attempting to plot the expected diffra...\n",
              "27            Navdeep  <p>I have two sets of networks:</p>\\n\\n<p>netw...\n",
              "28            RemiDav  <p>There are more and more databases of pictur..."
            ]
          },
          "metadata": {
            "tags": []
          },
          "execution_count": 27
        }
      ]
    },
    {
      "cell_type": "code",
      "metadata": {
        "id": "vAV7gWvttndO",
        "colab_type": "code",
        "colab": {
          "base_uri": "https://localhost:8080/",
          "height": 69
        },
        "outputId": "f9133c8d-43fe-4306-e674-1d4111672de8"
      },
      "source": [
        "grader.grade(test_case_id = 'sad_penn_students', answer = cheesesteak_posts_df)"
      ],
      "execution_count": null,
      "outputs": [
        {
          "output_type": "stream",
          "text": [
            "Correct! You earned 7/7 points. You are a star!\n",
            "\n",
            "Your submission has been successfully recorded in the gradebook.\n"
          ],
          "name": "stdout"
        }
      ]
    },
    {
      "cell_type": "markdown",
      "metadata": {
        "id": "zva7j1F9_CSO",
        "colab_type": "text"
      },
      "source": [
        "Next, find the locations whose users make the most number of posts. You should return a dataframe with the location and the corresponding number of posts. Title the second column \"NUM_POSTS\". Do this within the query. Limit your results to only 25"
      ]
    },
    {
      "cell_type": "code",
      "metadata": {
        "id": "npgiP13I_cv1",
        "colab_type": "code",
        "colab": {
          "base_uri": "https://localhost:8080/",
          "height": 816
        },
        "outputId": "982439d4-2c9e-4e62-f61a-435c11801208"
      },
      "source": [
        "query_join = '''SELECT u.Location, p.Id AS Posts_Id FROM users_df AS u JOIN posts_df AS p ON u.Id = p.OwnerUserId'''\n",
        "users_locations_posts_df = ps.sqldf(query_join, locals())\n",
        "\n",
        "query_locations_posts = '''SELECT Location, COUNT(Posts_Id) AS NUM_POSTS FROM users_locations_posts_df GROUP BY Location ORDER BY NUM_POSTS DESC LIMIT 25 '''\n",
        "locations_post_count_df = ps.sqldf(query_locations_posts, locals())\n",
        "locations_post_count_df"
      ],
      "execution_count": null,
      "outputs": [
        {
          "output_type": "execute_result",
          "data": {
            "text/html": [
              "<div>\n",
              "<style scoped>\n",
              "    .dataframe tbody tr th:only-of-type {\n",
              "        vertical-align: middle;\n",
              "    }\n",
              "\n",
              "    .dataframe tbody tr th {\n",
              "        vertical-align: top;\n",
              "    }\n",
              "\n",
              "    .dataframe thead th {\n",
              "        text-align: right;\n",
              "    }\n",
              "</style>\n",
              "<table border=\"1\" class=\"dataframe\">\n",
              "  <thead>\n",
              "    <tr style=\"text-align: right;\">\n",
              "      <th></th>\n",
              "      <th>Location</th>\n",
              "      <th>NUM_POSTS</th>\n",
              "    </tr>\n",
              "  </thead>\n",
              "  <tbody>\n",
              "    <tr>\n",
              "      <th>0</th>\n",
              "      <td>None</td>\n",
              "      <td>20768</td>\n",
              "    </tr>\n",
              "    <tr>\n",
              "      <th>1</th>\n",
              "      <td>India</td>\n",
              "      <td>809</td>\n",
              "    </tr>\n",
              "    <tr>\n",
              "      <th>2</th>\n",
              "      <td>Durham, United Kingdom</td>\n",
              "      <td>420</td>\n",
              "    </tr>\n",
              "    <tr>\n",
              "      <th>3</th>\n",
              "      <td>San Francisco, CA, USA</td>\n",
              "      <td>399</td>\n",
              "    </tr>\n",
              "    <tr>\n",
              "      <th>4</th>\n",
              "      <td>Europa</td>\n",
              "      <td>371</td>\n",
              "    </tr>\n",
              "    <tr>\n",
              "      <th>5</th>\n",
              "      <td>Series of tubes.</td>\n",
              "      <td>345</td>\n",
              "    </tr>\n",
              "    <tr>\n",
              "      <th>6</th>\n",
              "      <td>Bangalore, Karnataka, India</td>\n",
              "      <td>330</td>\n",
              "    </tr>\n",
              "    <tr>\n",
              "      <th>7</th>\n",
              "      <td>Germany</td>\n",
              "      <td>323</td>\n",
              "    </tr>\n",
              "    <tr>\n",
              "      <th>8</th>\n",
              "      <td>Singapore</td>\n",
              "      <td>319</td>\n",
              "    </tr>\n",
              "    <tr>\n",
              "      <th>9</th>\n",
              "      <td>Silicon Valley, CA, United States</td>\n",
              "      <td>264</td>\n",
              "    </tr>\n",
              "    <tr>\n",
              "      <th>10</th>\n",
              "      <td>München, Deutschland</td>\n",
              "      <td>257</td>\n",
              "    </tr>\n",
              "    <tr>\n",
              "      <th>11</th>\n",
              "      <td>Amsterdam</td>\n",
              "      <td>254</td>\n",
              "    </tr>\n",
              "    <tr>\n",
              "      <th>12</th>\n",
              "      <td>Montreal, QC, Canada</td>\n",
              "      <td>246</td>\n",
              "    </tr>\n",
              "    <tr>\n",
              "      <th>13</th>\n",
              "      <td>Paris, France</td>\n",
              "      <td>246</td>\n",
              "    </tr>\n",
              "    <tr>\n",
              "      <th>14</th>\n",
              "      <td>Greece</td>\n",
              "      <td>241</td>\n",
              "    </tr>\n",
              "    <tr>\n",
              "      <th>15</th>\n",
              "      <td>USA</td>\n",
              "      <td>224</td>\n",
              "    </tr>\n",
              "    <tr>\n",
              "      <th>16</th>\n",
              "      <td>Gurgaon, India</td>\n",
              "      <td>222</td>\n",
              "    </tr>\n",
              "    <tr>\n",
              "      <th>17</th>\n",
              "      <td>London, UK</td>\n",
              "      <td>209</td>\n",
              "    </tr>\n",
              "    <tr>\n",
              "      <th>18</th>\n",
              "      <td>Bengaluru, Karnataka, India</td>\n",
              "      <td>208</td>\n",
              "    </tr>\n",
              "    <tr>\n",
              "      <th>19</th>\n",
              "      <td>London, United Kingdom</td>\n",
              "      <td>207</td>\n",
              "    </tr>\n",
              "    <tr>\n",
              "      <th>20</th>\n",
              "      <td>Frankfurt am Main, Deutschland</td>\n",
              "      <td>179</td>\n",
              "    </tr>\n",
              "    <tr>\n",
              "      <th>21</th>\n",
              "      <td>Bonn, Germany</td>\n",
              "      <td>177</td>\n",
              "    </tr>\n",
              "    <tr>\n",
              "      <th>22</th>\n",
              "      <td>Canada</td>\n",
              "      <td>177</td>\n",
              "    </tr>\n",
              "    <tr>\n",
              "      <th>23</th>\n",
              "      <td>Berlin, Germany</td>\n",
              "      <td>176</td>\n",
              "    </tr>\n",
              "    <tr>\n",
              "      <th>24</th>\n",
              "      <td>Chicago, IL, USA</td>\n",
              "      <td>164</td>\n",
              "    </tr>\n",
              "  </tbody>\n",
              "</table>\n",
              "</div>"
            ],
            "text/plain": [
              "                             Location  NUM_POSTS\n",
              "0                                None      20768\n",
              "1                               India        809\n",
              "2              Durham, United Kingdom        420\n",
              "3              San Francisco, CA, USA        399\n",
              "4                              Europa        371\n",
              "5                    Series of tubes.        345\n",
              "6         Bangalore, Karnataka, India        330\n",
              "7                             Germany        323\n",
              "8                           Singapore        319\n",
              "9   Silicon Valley, CA, United States        264\n",
              "10               München, Deutschland        257\n",
              "11                          Amsterdam        254\n",
              "12               Montreal, QC, Canada        246\n",
              "13                      Paris, France        246\n",
              "14                             Greece        241\n",
              "15                                USA        224\n",
              "16                     Gurgaon, India        222\n",
              "17                         London, UK        209\n",
              "18        Bengaluru, Karnataka, India        208\n",
              "19             London, United Kingdom        207\n",
              "20     Frankfurt am Main, Deutschland        179\n",
              "21                      Bonn, Germany        177\n",
              "22                             Canada        177\n",
              "23                    Berlin, Germany        176\n",
              "24                   Chicago, IL, USA        164"
            ]
          },
          "metadata": {
            "tags": []
          },
          "execution_count": 29
        }
      ]
    },
    {
      "cell_type": "code",
      "metadata": {
        "id": "QUiUjynphlhg",
        "colab_type": "code",
        "colab": {
          "base_uri": "https://localhost:8080/",
          "height": 69
        },
        "outputId": "6e7fdfee-4c32-4dbd-9c61-3dcc72bc0bef"
      },
      "source": [
        "grader.grade(test_case_id = 'popular_post_locations', answer = locations_post_count_df)"
      ],
      "execution_count": null,
      "outputs": [
        {
          "output_type": "stream",
          "text": [
            "Correct! You earned 8/8 points. You are a star!\n",
            "\n",
            "Your submission has been successfully recorded in the gradebook.\n"
          ],
          "name": "stdout"
        }
      ]
    },
    {
      "cell_type": "markdown",
      "metadata": {
        "id": "eijruh5C_k0Y",
        "colab_type": "text"
      },
      "source": [
        "### 2.5 The Self-Obsessed Users (i.e. the Craigs again)\n",
        "\n",
        "Let's find users who comment on their own posts a lotttt. You should return a dataframe which has the display name of the user and the number of comments that the person has on their own posts. \n",
        "Keep users whose number of comments (on their own posts) is strictly greater than the median number from your result"
      ]
    },
    {
      "cell_type": "code",
      "metadata": {
        "id": "6IdF1sZ4Aa7O",
        "colab_type": "code",
        "colab": {
          "base_uri": "https://localhost:8080/",
          "height": 416
        },
        "outputId": "20f14741-9599-4380-e018-536b2b1875b1"
      },
      "source": [
        "query_join_users_posts = '''SELECT u.Id AS Users_Id, p.Id AS Posts_Id FROM users_df AS u JOIN posts_df AS p ON u.Id = p.OwnerUserId'''\n",
        "users_posts_df = ps.sqldf(query_join_users_posts, locals())\n",
        "\n",
        "query_join_posts_comments = '''SELECT u.Users_Id, u.Posts_Id, c.UserId AS Comments_Users_Id FROM users_posts_df AS u JOIN comments_df AS c ON u.Posts_Id = c.PostId'''\n",
        "users_posts_comments_df = ps.sqldf(query_join_posts_comments, locals())\n",
        "\n",
        "query_users_comments = '''SELECT * FROM users_posts_comments_df WHERE Users_Id = Comments_Users_Id '''\n",
        "users_self_comments_df = ps.sqldf(query_users_comments, locals())\n",
        "\n",
        "query_users_groupby = '''SELECT Users_Id AS UserId, COUNT(*) AS Count FROM users_self_comments_df GROUP BY Users_Id ORDER BY Count DESC'''\n",
        "users_comments_groupby_df = ps.sqldf(query_users_groupby, locals())\n",
        "\n",
        "users_comments_groupby_df.describe()\n",
        "\n",
        "query_median = '''SELECT * FROM users_comments_groupby_df WHERE Count > 1'''\n",
        "filter_df = ps.sqldf(query_median, locals())\n",
        "\n",
        "filter_df"
      ],
      "execution_count": null,
      "outputs": [
        {
          "output_type": "execute_result",
          "data": {
            "text/html": [
              "<div>\n",
              "<style scoped>\n",
              "    .dataframe tbody tr th:only-of-type {\n",
              "        vertical-align: middle;\n",
              "    }\n",
              "\n",
              "    .dataframe tbody tr th {\n",
              "        vertical-align: top;\n",
              "    }\n",
              "\n",
              "    .dataframe thead th {\n",
              "        text-align: right;\n",
              "    }\n",
              "</style>\n",
              "<table border=\"1\" class=\"dataframe\">\n",
              "  <thead>\n",
              "    <tr style=\"text-align: right;\">\n",
              "      <th></th>\n",
              "      <th>UserId</th>\n",
              "      <th>Count</th>\n",
              "    </tr>\n",
              "  </thead>\n",
              "  <tbody>\n",
              "    <tr>\n",
              "      <th>0</th>\n",
              "      <td>836</td>\n",
              "      <td>325</td>\n",
              "    </tr>\n",
              "    <tr>\n",
              "      <th>1</th>\n",
              "      <td>28175</td>\n",
              "      <td>297</td>\n",
              "    </tr>\n",
              "    <tr>\n",
              "      <th>2</th>\n",
              "      <td>924</td>\n",
              "      <td>189</td>\n",
              "    </tr>\n",
              "    <tr>\n",
              "      <th>3</th>\n",
              "      <td>45264</td>\n",
              "      <td>189</td>\n",
              "    </tr>\n",
              "    <tr>\n",
              "      <th>4</th>\n",
              "      <td>29587</td>\n",
              "      <td>143</td>\n",
              "    </tr>\n",
              "    <tr>\n",
              "      <th>...</th>\n",
              "      <td>...</td>\n",
              "      <td>...</td>\n",
              "    </tr>\n",
              "    <tr>\n",
              "      <th>2206</th>\n",
              "      <td>85552</td>\n",
              "      <td>2</td>\n",
              "    </tr>\n",
              "    <tr>\n",
              "      <th>2207</th>\n",
              "      <td>85592</td>\n",
              "      <td>2</td>\n",
              "    </tr>\n",
              "    <tr>\n",
              "      <th>2208</th>\n",
              "      <td>85684</td>\n",
              "      <td>2</td>\n",
              "    </tr>\n",
              "    <tr>\n",
              "      <th>2209</th>\n",
              "      <td>85750</td>\n",
              "      <td>2</td>\n",
              "    </tr>\n",
              "    <tr>\n",
              "      <th>2210</th>\n",
              "      <td>86068</td>\n",
              "      <td>2</td>\n",
              "    </tr>\n",
              "  </tbody>\n",
              "</table>\n",
              "<p>2211 rows × 2 columns</p>\n",
              "</div>"
            ],
            "text/plain": [
              "      UserId  Count\n",
              "0        836    325\n",
              "1      28175    297\n",
              "2        924    189\n",
              "3      45264    189\n",
              "4      29587    143\n",
              "...      ...    ...\n",
              "2206   85552      2\n",
              "2207   85592      2\n",
              "2208   85684      2\n",
              "2209   85750      2\n",
              "2210   86068      2\n",
              "\n",
              "[2211 rows x 2 columns]"
            ]
          },
          "metadata": {
            "tags": []
          },
          "execution_count": 31
        }
      ]
    },
    {
      "cell_type": "code",
      "metadata": {
        "id": "sumG_zBXkc5j",
        "colab_type": "code",
        "colab": {
          "base_uri": "https://localhost:8080/",
          "height": 69
        },
        "outputId": "278a1781-5616-4542-a9e8-10ee24335316"
      },
      "source": [
        "grader.grade(test_case_id = 'craig_is_great', answer = filter_df)"
      ],
      "execution_count": null,
      "outputs": [
        {
          "output_type": "stream",
          "text": [
            "Correct! You earned 10/10 points. You are a star!\n",
            "\n",
            "Your submission has been successfully recorded in the gradebook.\n"
          ],
          "name": "stdout"
        }
      ]
    },
    {
      "cell_type": "markdown",
      "metadata": {
        "id": "cVmOB0dUAfDT",
        "colab_type": "text"
      },
      "source": [
        "### 2.6 All about the 'Big Data' Buzz\n",
        "\n",
        "You probably signed up for this class for the cooool name 'bIg DaTa ANalYtIcS'. Big data and ML are the current hype. Let's see how many posts talk about big data and how often these are viewed. \n",
        "\n",
        "Create a dataframe that includes the title, view count and body where the post body contains 'big data' (ignore case when you match). Sort in the decreasing order of the number of views. Return only posts which have been viewed.\n"
      ]
    },
    {
      "cell_type": "code",
      "metadata": {
        "id": "f61JAt9CB795",
        "colab_type": "code",
        "colab": {
          "base_uri": "https://localhost:8080/",
          "height": 416
        },
        "outputId": "bc639039-400c-4827-f1f4-8455c01abb71"
      },
      "source": [
        "query_posts = '''SELECT Title, ViewCount, Body FROM posts_df WHERE Body LIKE '%big data%' AND ViewCount >0 ORDER BY ViewCount DESC'''\n",
        "buzz_df = ps.sqldf(query_posts, locals())\n",
        "\n",
        "buzz_df"
      ],
      "execution_count": null,
      "outputs": [
        {
          "output_type": "execute_result",
          "data": {
            "text/html": [
              "<div>\n",
              "<style scoped>\n",
              "    .dataframe tbody tr th:only-of-type {\n",
              "        vertical-align: middle;\n",
              "    }\n",
              "\n",
              "    .dataframe tbody tr th {\n",
              "        vertical-align: top;\n",
              "    }\n",
              "\n",
              "    .dataframe thead th {\n",
              "        text-align: right;\n",
              "    }\n",
              "</style>\n",
              "<table border=\"1\" class=\"dataframe\">\n",
              "  <thead>\n",
              "    <tr style=\"text-align: right;\">\n",
              "      <th></th>\n",
              "      <th>Title</th>\n",
              "      <th>ViewCount</th>\n",
              "      <th>Body</th>\n",
              "    </tr>\n",
              "  </thead>\n",
              "  <tbody>\n",
              "    <tr>\n",
              "      <th>0</th>\n",
              "      <td>Data Science in C (or C++)</td>\n",
              "      <td>43958</td>\n",
              "      <td>&lt;p&gt;I'm an &lt;code&gt;R&lt;/code&gt; language programmer. ...</td>\n",
              "    </tr>\n",
              "    <tr>\n",
              "      <th>1</th>\n",
              "      <td>Publicly Available Datasets</td>\n",
              "      <td>27231</td>\n",
              "      <td>&lt;p&gt;One of the common problems in data science ...</td>\n",
              "    </tr>\n",
              "    <tr>\n",
              "      <th>2</th>\n",
              "      <td>Deep Learning vs gradient boosting: When to us...</td>\n",
              "      <td>20498</td>\n",
              "      <td>&lt;p&gt;I have a big data problem with a large data...</td>\n",
              "    </tr>\n",
              "    <tr>\n",
              "      <th>3</th>\n",
              "      <td>Do I need to learn Hadoop to be a Data Scientist?</td>\n",
              "      <td>19478</td>\n",
              "      <td>&lt;p&gt;An aspiring data scientist here. I don't kn...</td>\n",
              "    </tr>\n",
              "    <tr>\n",
              "      <th>4</th>\n",
              "      <td>How big is big data?</td>\n",
              "      <td>13211</td>\n",
              "      <td>&lt;p&gt;Lots of people use the term &lt;em&gt;big data&lt;/e...</td>\n",
              "    </tr>\n",
              "    <tr>\n",
              "      <th>...</th>\n",
              "      <td>...</td>\n",
              "      <td>...</td>\n",
              "      <td>...</td>\n",
              "    </tr>\n",
              "    <tr>\n",
              "      <th>160</th>\n",
              "      <td>Is veracity in big data theory a good thing to...</td>\n",
              "      <td>9</td>\n",
              "      <td>&lt;p&gt;I am new to big data field. I know the basi...</td>\n",
              "    </tr>\n",
              "    <tr>\n",
              "      <th>161</th>\n",
              "      <td>Applying different feature scaling to differen...</td>\n",
              "      <td>8</td>\n",
              "      <td>&lt;p&gt;I am currently studying a course about big ...</td>\n",
              "    </tr>\n",
              "    <tr>\n",
              "      <th>162</th>\n",
              "      <td>How to process data quickly for users in a web...</td>\n",
              "      <td>7</td>\n",
              "      <td>&lt;p&gt;I am building a site that will let users ad...</td>\n",
              "    </tr>\n",
              "    <tr>\n",
              "      <th>163</th>\n",
              "      <td>Sequence prediction model choice</td>\n",
              "      <td>7</td>\n",
              "      <td>&lt;p&gt;I am working on log data. I extract each us...</td>\n",
              "    </tr>\n",
              "    <tr>\n",
              "      <th>164</th>\n",
              "      <td>How to assign optimal min_sup value in apriori...</td>\n",
              "      <td>6</td>\n",
              "      <td>&lt;p&gt;Have processed product sales data after dat...</td>\n",
              "    </tr>\n",
              "  </tbody>\n",
              "</table>\n",
              "<p>165 rows × 3 columns</p>\n",
              "</div>"
            ],
            "text/plain": [
              "                                                 Title  ...                                               Body\n",
              "0                           Data Science in C (or C++)  ...  <p>I'm an <code>R</code> language programmer. ...\n",
              "1                          Publicly Available Datasets  ...  <p>One of the common problems in data science ...\n",
              "2    Deep Learning vs gradient boosting: When to us...  ...  <p>I have a big data problem with a large data...\n",
              "3    Do I need to learn Hadoop to be a Data Scientist?  ...  <p>An aspiring data scientist here. I don't kn...\n",
              "4                                 How big is big data?  ...  <p>Lots of people use the term <em>big data</e...\n",
              "..                                                 ...  ...                                                ...\n",
              "160  Is veracity in big data theory a good thing to...  ...  <p>I am new to big data field. I know the basi...\n",
              "161  Applying different feature scaling to differen...  ...  <p>I am currently studying a course about big ...\n",
              "162  How to process data quickly for users in a web...  ...  <p>I am building a site that will let users ad...\n",
              "163                   Sequence prediction model choice  ...  <p>I am working on log data. I extract each us...\n",
              "164  How to assign optimal min_sup value in apriori...  ...  <p>Have processed product sales data after dat...\n",
              "\n",
              "[165 rows x 3 columns]"
            ]
          },
          "metadata": {
            "tags": []
          },
          "execution_count": 33
        }
      ]
    },
    {
      "cell_type": "code",
      "metadata": {
        "id": "DH3vjWa4l72Y",
        "colab_type": "code",
        "colab": {
          "base_uri": "https://localhost:8080/",
          "height": 69
        },
        "outputId": "a3d42695-1997-4c6f-ccb7-377423c4cbc2"
      },
      "source": [
        "grader.grade(test_case_id = 'big_data_buzz', answer = buzz_df)"
      ],
      "execution_count": null,
      "outputs": [
        {
          "output_type": "stream",
          "text": [
            "Correct! You earned 7/7 points. You are a star!\n",
            "\n",
            "Your submission has been successfully recorded in the gradebook.\n"
          ],
          "name": "stdout"
        }
      ]
    },
    {
      "cell_type": "markdown",
      "metadata": {
        "id": "HVFWg8urCDsk",
        "colab_type": "text"
      },
      "source": [
        "Next, fetch the authors(displayName) of the top 10 posts in the buzz_df created above. Return the authors in the decreasing order of the view counts of their corresponding posts. Your dataframe should include the display name and the view count for the corresponding post.\n"
      ]
    },
    {
      "cell_type": "code",
      "metadata": {
        "id": "0aNGTYkhCi5K",
        "colab_type": "code",
        "colab": {
          "base_uri": "https://localhost:8080/",
          "height": 356
        },
        "outputId": "36e7aaa6-784f-47c0-e192-e5b8373a5000"
      },
      "source": [
        "query_join_buzz_posts = '''SELECT p.OwnerUserId, b.ViewCount FROM posts_df AS p JOIN buzz_df AS b ON p.Title = b.Title'''\n",
        "buzz_posts_df = ps.sqldf(query_join_buzz_posts, locals())\n",
        "\n",
        "query_join_buzz_users = '''SELECT u.DisplayName, b.ViewCount FROM users_df AS u JOIN buzz_posts_df AS b ON u.Id = b.OwnerUserId ORDER BY ViewCount DESC LIMIT 10'''\n",
        "buzz_authors_df = ps.sqldf(query_join_buzz_users, locals())\n",
        "\n",
        "buzz_authors_df"
      ],
      "execution_count": null,
      "outputs": [
        {
          "output_type": "execute_result",
          "data": {
            "text/html": [
              "<div>\n",
              "<style scoped>\n",
              "    .dataframe tbody tr th:only-of-type {\n",
              "        vertical-align: middle;\n",
              "    }\n",
              "\n",
              "    .dataframe tbody tr th {\n",
              "        vertical-align: top;\n",
              "    }\n",
              "\n",
              "    .dataframe thead th {\n",
              "        text-align: right;\n",
              "    }\n",
              "</style>\n",
              "<table border=\"1\" class=\"dataframe\">\n",
              "  <thead>\n",
              "    <tr style=\"text-align: right;\">\n",
              "      <th></th>\n",
              "      <th>DisplayName</th>\n",
              "      <th>ViewCount</th>\n",
              "    </tr>\n",
              "  </thead>\n",
              "  <tbody>\n",
              "    <tr>\n",
              "      <th>0</th>\n",
              "      <td>Hack-R</td>\n",
              "      <td>43958</td>\n",
              "    </tr>\n",
              "    <tr>\n",
              "      <th>1</th>\n",
              "      <td>Amir Ali Akbari</td>\n",
              "      <td>27231</td>\n",
              "    </tr>\n",
              "    <tr>\n",
              "      <th>2</th>\n",
              "      <td>Nitesh</td>\n",
              "      <td>20498</td>\n",
              "    </tr>\n",
              "    <tr>\n",
              "      <th>3</th>\n",
              "      <td>Pensu</td>\n",
              "      <td>19478</td>\n",
              "    </tr>\n",
              "    <tr>\n",
              "      <th>4</th>\n",
              "      <td>Rubens</td>\n",
              "      <td>13211</td>\n",
              "    </tr>\n",
              "    <tr>\n",
              "      <th>5</th>\n",
              "      <td>ragingSloth</td>\n",
              "      <td>12558</td>\n",
              "    </tr>\n",
              "    <tr>\n",
              "      <th>6</th>\n",
              "      <td>abdoBim</td>\n",
              "      <td>7405</td>\n",
              "    </tr>\n",
              "    <tr>\n",
              "      <th>7</th>\n",
              "      <td>akellyirl</td>\n",
              "      <td>6076</td>\n",
              "    </tr>\n",
              "    <tr>\n",
              "      <th>8</th>\n",
              "      <td>cpumar</td>\n",
              "      <td>5991</td>\n",
              "    </tr>\n",
              "    <tr>\n",
              "      <th>9</th>\n",
              "      <td>innovIsmail</td>\n",
              "      <td>5700</td>\n",
              "    </tr>\n",
              "  </tbody>\n",
              "</table>\n",
              "</div>"
            ],
            "text/plain": [
              "       DisplayName  ViewCount\n",
              "0           Hack-R      43958\n",
              "1  Amir Ali Akbari      27231\n",
              "2           Nitesh      20498\n",
              "3            Pensu      19478\n",
              "4           Rubens      13211\n",
              "5      ragingSloth      12558\n",
              "6          abdoBim       7405\n",
              "7        akellyirl       6076\n",
              "8           cpumar       5991\n",
              "9      innovIsmail       5700"
            ]
          },
          "metadata": {
            "tags": []
          },
          "execution_count": 35
        }
      ]
    },
    {
      "cell_type": "code",
      "metadata": {
        "id": "vjJUgb2IulaD",
        "colab_type": "code",
        "colab": {
          "base_uri": "https://localhost:8080/",
          "height": 69
        },
        "outputId": "0965b7b1-a4ed-4679-a235-1a63fe151ff5"
      },
      "source": [
        "grader.grade(test_case_id = 'top_10_buzz', answer = buzz_authors_df)"
      ],
      "execution_count": null,
      "outputs": [
        {
          "output_type": "stream",
          "text": [
            "Correct! You earned 6/6 points. You are a star!\n",
            "\n",
            "Your submission has been successfully recorded in the gradebook.\n"
          ],
          "name": "stdout"
        }
      ]
    },
    {
      "cell_type": "markdown",
      "metadata": {
        "id": "7nLi5zXcCqSA",
        "colab_type": "text"
      },
      "source": [
        "## Part 3: Working with Text Data\n",
        "\n",
        "Our Stack Exchange data has plenty of text that we can play with, from the user descriptions, to the posts themselves. Text data is complex, but can also be generate extremely interpretable results, making it valuable and interesting. \n",
        "\n",
        "Let's see how we can apply the concepts from lecture to this dataset.\n",
        "\n",
        "***You should revert to using pandas to handle the data in this section, rather than pandasql.***\n",
        "\n",
        "### How do I get a high score? \n",
        "\n",
        "Suppose you're very invested in your Stack Exchange reputation, so you want to figure out what to post to increase your own reputation. Each post receives a score, where **score = number of upvotes - number of downvotes**. This value is already present in your posts_df. \n",
        "\n",
        "So, what should you post about in order to get a higher score and thus a higher reputation? Additionally, what shouldn't you post about?\n"
      ]
    },
    {
      "cell_type": "markdown",
      "metadata": {
        "id": "kMRY0RF8uXYA",
        "colab_type": "text"
      },
      "source": [
        "### 3.1\n",
        "First, get the the top 2% and the bottom 2% of posts in the dataset, by **Score**.\n",
        "\n",
        "Create two separate dataframes and name them **highest_scorers** and **lowest_scorers**."
      ]
    },
    {
      "cell_type": "code",
      "metadata": {
        "id": "5D5HI1FmMZ75",
        "colab_type": "code",
        "colab": {}
      },
      "source": [
        "highest_scorers = posts_df.sort_values(by = 'Score', ascending = False).iloc[0:872]\n",
        "lowest_scorers = posts_df.sort_values(by = 'Score', ascending = True).iloc[0:872]"
      ],
      "execution_count": null,
      "outputs": []
    },
    {
      "cell_type": "code",
      "metadata": {
        "id": "XraDMR9ov2aM",
        "colab_type": "code",
        "colab": {
          "base_uri": "https://localhost:8080/",
          "height": 69
        },
        "outputId": "e279b9e9-f8d6-48ef-fc0d-644de8ff30bd"
      },
      "source": [
        "grader.grade(test_case_id = \"high_low_score\", answer = (lowest_scorers, highest_scorers))"
      ],
      "execution_count": null,
      "outputs": [
        {
          "output_type": "stream",
          "text": [
            "Correct! You earned 5/5 points. You are a star!\n",
            "\n",
            "Your submission has been successfully recorded in the gradebook.\n"
          ],
          "name": "stdout"
        }
      ]
    },
    {
      "cell_type": "markdown",
      "metadata": {
        "id": "9YxGtHWgN8Nf",
        "colab_type": "text"
      },
      "source": [
        "### 3.2 \n",
        "\n",
        "Next, generate a list of tokens from the highest_scorers and the lowest_scorers. \n",
        "\n",
        "There are a few ways you can go about doing this, so you're welcome to take your own approach (as long as it still generates the same result!). Take a look at the notebook from the Text Lecture for some guidance!\n",
        "\n",
        "Here is a method that you could use:\n",
        "\n",
        "For each dataframe: \n",
        "1. Create a list of all of the titles. \n",
        "2. Tokenize each of the titles.\n",
        "3. Flatten into one single list of tokens.\n",
        "\n",
        "**Important:** Make sure you do the following:\n",
        "- Remove any posts without a title, aka with a 0 where the title should be. \n",
        "- Lowercase all of the words.\n"
      ]
    },
    {
      "cell_type": "code",
      "metadata": {
        "id": "E1xSEUGAPhUl",
        "colab_type": "code",
        "colab": {}
      },
      "source": [
        "from nltk.tokenize import RegexpTokenizer\n",
        "\n",
        "highest_scorers = highest_scorers[highest_scorers['Title'].notna()]\n",
        "highest_scorers['Title'] = highest_scorers['Title'].apply(lambda x: x.lower())\n",
        "\n",
        "highest_scorers_title = []\n",
        "for title in highest_scorers['Title']:\n",
        "  highest_scorers_title.append(title)\n",
        "\n",
        "highest_tokens = []\n",
        "tokenizer = RegexpTokenizer(r'\\w+')\n",
        "for title in highest_scorers_title:\n",
        "  titles = tokenizer.tokenize(title)\n",
        "  for word in titles:\n",
        "    highest_tokens.append(word)\n",
        "\n",
        "lowest_scorers = lowest_scorers[lowest_scorers['Title'].notna()]\n",
        "lowest_scorers['Title'] = lowest_scorers['Title'].apply(lambda x: x.lower())\n",
        "\n",
        "lowest_scorers_title = []\n",
        "for title in lowest_scorers['Title']:\n",
        "  lowest_scorers_title.append(title)\n",
        "\n",
        "lowest_tokens = []\n",
        "tokenizer = RegexpTokenizer(r'\\w+')\n",
        "for title in lowest_scorers_title:\n",
        "  titles = tokenizer.tokenize(title)\n",
        "  for word in titles:\n",
        "    lowest_tokens.append(word)"
      ],
      "execution_count": null,
      "outputs": []
    },
    {
      "cell_type": "code",
      "metadata": {
        "id": "v6eyQN19xSMu",
        "colab_type": "code",
        "colab": {
          "base_uri": "https://localhost:8080/",
          "height": 69
        },
        "outputId": "d5ff71b1-c4ba-42b6-c7b5-d56801472279"
      },
      "source": [
        "grader.grade(test_case_id = \"hot_buzz_words\", answer = (lowest_tokens, highest_tokens))"
      ],
      "execution_count": null,
      "outputs": [
        {
          "output_type": "stream",
          "text": [
            "Correct! You earned 6/6 points. You are a star!\n",
            "\n",
            "Your submission has been successfully recorded in the gradebook.\n"
          ],
          "name": "stdout"
        }
      ]
    },
    {
      "cell_type": "markdown",
      "metadata": {
        "id": "vICD1EWvTEcQ",
        "colab_type": "text"
      },
      "source": [
        "### 3.3 \n",
        "Next, we should remove stopwords from these lists. \n",
        "\n",
        "A stop word is a commonly used word (such as “the”, “a”, “an”, “in”) that a search engine has been programmed to ignore, both when indexing entries for searching and when retrieving them as the result of a search query.\n",
        "\n",
        "When processing text, we want to exclude these words, otherwise they will dilute our results. We do not want them to take up space or processing time, or to have to filter through them when reading our results.\n",
        "\n",
        "Fortunately, the NLTK package has a predefined list of stopwords that we can utilize."
      ]
    },
    {
      "cell_type": "code",
      "metadata": {
        "id": "L9i7cNCZTQbs",
        "colab_type": "code",
        "colab": {
          "base_uri": "https://localhost:8080/",
          "height": 69
        },
        "outputId": "d41818cd-86fa-406e-cc6d-6e3d40cf37b1"
      },
      "source": [
        "import nltk\n",
        "from nltk.corpus import stopwords\n",
        "nltk.download('stopwords')"
      ],
      "execution_count": null,
      "outputs": [
        {
          "output_type": "stream",
          "text": [
            "[nltk_data] Downloading package stopwords to /root/nltk_data...\n",
            "[nltk_data]   Unzipping corpora/stopwords.zip.\n"
          ],
          "name": "stdout"
        },
        {
          "output_type": "execute_result",
          "data": {
            "text/plain": [
              "True"
            ]
          },
          "metadata": {
            "tags": []
          },
          "execution_count": 42
        }
      ]
    },
    {
      "cell_type": "code",
      "metadata": {
        "id": "eNbtauktUNj7",
        "colab_type": "code",
        "colab": {}
      },
      "source": [
        "stop_words = set(stopwords.words('english')) "
      ],
      "execution_count": null,
      "outputs": []
    },
    {
      "cell_type": "markdown",
      "metadata": {
        "id": "umUjJJVFUDLu",
        "colab_type": "text"
      },
      "source": [
        "Take a look at some of the stop words to familiarize yourself with the concept.\n",
        "\n",
        "Filter all of these stopwords out of both our lists of tokens."
      ]
    },
    {
      "cell_type": "code",
      "metadata": {
        "id": "scNTA_OSUCUO",
        "colab_type": "code",
        "colab": {}
      },
      "source": [
        "filtered_highest = []\n",
        "for word in highest_tokens:\n",
        "  if word not in stop_words:\n",
        "    filtered_highest.append(word)\n",
        "\n",
        "filtered_lowest = []\n",
        "for word in lowest_tokens:\n",
        "  if word not in stop_words:\n",
        "    filtered_lowest.append(word)"
      ],
      "execution_count": null,
      "outputs": []
    },
    {
      "cell_type": "code",
      "metadata": {
        "id": "isInukDJyaNW",
        "colab_type": "code",
        "colab": {
          "base_uri": "https://localhost:8080/",
          "height": 69
        },
        "outputId": "ae542559-cdeb-4595-d49b-f44a3eaba570"
      },
      "source": [
        "grader.grade(test_case_id = \"filtered_words\", answer = (filtered_lowest, filtered_highest))"
      ],
      "execution_count": null,
      "outputs": [
        {
          "output_type": "stream",
          "text": [
            "Correct! You earned 6/6 points. You are a star!\n",
            "\n",
            "Your submission has been successfully recorded in the gradebook.\n"
          ],
          "name": "stdout"
        }
      ]
    },
    {
      "cell_type": "markdown",
      "metadata": {
        "colab_type": "text",
        "id": "hcf6EkaByays"
      },
      "source": [
        "Now, find the 20 most common words amongst your highest scoring titles and your lowest scoring titles.\n",
        "\n",
        "Hint: https://docs.python.org/2/library/collections.html#counter-objects"
      ]
    },
    {
      "cell_type": "code",
      "metadata": {
        "id": "cJiurRmVUzYA",
        "colab_type": "code",
        "colab": {}
      },
      "source": [
        "highest_counter_list = Counter(filtered_highest).most_common(20)\n",
        "highest_counter = Counter(dict(highest_counter_list)) \n",
        "\n",
        "lowest_counter_list = Counter(filtered_lowest).most_common(20)\n",
        "lowest_counter = Counter(dict(lowest_counter_list)) "
      ],
      "execution_count": null,
      "outputs": []
    },
    {
      "cell_type": "code",
      "metadata": {
        "id": "iLinSzIE0dxm",
        "colab_type": "code",
        "colab": {
          "base_uri": "https://localhost:8080/",
          "height": 69
        },
        "outputId": "1d704756-13ee-45fc-cd7f-9d4507339dcf"
      },
      "source": [
        "grader.grade(test_case_id = \"common_words\", answer = (lowest_counter, highest_counter))"
      ],
      "execution_count": null,
      "outputs": [
        {
          "output_type": "stream",
          "text": [
            "Correct! You earned 2/2 points. You are a star!\n",
            "\n",
            "Your submission has been successfully recorded in the gradebook.\n"
          ],
          "name": "stdout"
        }
      ]
    },
    {
      "cell_type": "markdown",
      "metadata": {
        "id": "OJ67qCd5uk6u",
        "colab_type": "text"
      },
      "source": [
        "### 3.4"
      ]
    },
    {
      "cell_type": "markdown",
      "metadata": {
        "id": "m9zC7FWxVvDx",
        "colab_type": "text"
      },
      "source": [
        "Oof. Well, these words look pretty much the same... \n",
        "\n",
        "Let's visualize our results in word clouds and see if we can notice any significant takeaways.\n",
        "\n",
        "Create two word clouds- one of each group of tokens that you generated. Title them so that it is clear which visualization corresponds to which group.\n",
        "\n",
        "Take a look the documentation here: https://amueller.github.io/word_cloud/generated/wordcloud.WordCloud.html"
      ]
    },
    {
      "cell_type": "code",
      "metadata": {
        "id": "CyMFFNIWVfuV",
        "colab_type": "code",
        "colab": {
          "base_uri": "https://localhost:8080/",
          "height": 230
        },
        "outputId": "f0c726d1-890b-4659-d89b-370b322a447b"
      },
      "source": [
        "from nltk.tokenize.treebank import TreebankWordDetokenizer\n",
        "highest_score = TreebankWordDetokenizer().detokenize(highest_tokens)\n",
        "wordcloud_highest = WordCloud().generate(highest_score)\n",
        "\n",
        "plt.figure()\n",
        "plt.imshow(wordcloud_highest, interpolation=\"bilinear\")\n",
        "plt.title('word cloud for the highest score')\n",
        "plt.show()\n"
      ],
      "execution_count": null,
      "outputs": [
        {
          "output_type": "display_data",
          "data": {
            "image/png": "[encoded data removed]",
            "text/plain": [
              "<Figure size 432x288 with 1 Axes>"
            ]
          },
          "metadata": {
            "tags": []
          }
        }
      ]
    },
    {
      "cell_type": "code",
      "metadata": {
        "id": "Go6uJXICf7gz",
        "colab_type": "code",
        "colab": {
          "base_uri": "https://localhost:8080/",
          "height": 230
        },
        "outputId": "90f4c2ae-20c7-4ef3-dc4a-c2e4a8d6b7f5"
      },
      "source": [
        "lowest_score = TreebankWordDetokenizer().detokenize(lowest_tokens)\n",
        "wordcloud_lowest = WordCloud().generate(lowest_score)\n",
        "\n",
        "plt.figure()\n",
        "plt.imshow(wordcloud_lowest, interpolation=\"bilinear\")\n",
        "plt.title('word cloud for the lowest score')\n",
        "plt.show()"
      ],
      "execution_count": null,
      "outputs": [
        {
          "output_type": "display_data",
          "data": {
            "image/png": "[encoded data removed]",
            "text/plain": [
              "<Figure size 432x288 with 1 Axes>"
            ]
          },
          "metadata": {
            "tags": []
          }
        }
      ]
    },
    {
      "cell_type": "markdown",
      "metadata": {
        "id": "P70yRHLwWuW6",
        "colab_type": "text"
      },
      "source": [
        "As you can see, data is the biggest appearing word. Like **BIG DATA**! Haha, get it?\n",
        "\n",
        "Sorry kids, I'm tired. "
      ]
    },
    {
      "cell_type": "markdown",
      "metadata": {
        "id": "tcHxWDrnEO5X",
        "colab_type": "text"
      },
      "source": [
        "## Extra Credit : Completely optional - for the showoffs (i.e. the Vatsals) \n",
        "* An open ended extra credit - you can receive upto 5 additional points for this question.\n",
        "\n",
        "The question requires you to build an XML/HTML code which looks like the original stackexchange webpage for any Post using the datasets we have provided.\n",
        "* We will also load few other files below for your use, in case you want to use them to enhance your solution.\n",
        "* A good start would be to see this [stack exchange url](https://datascience.stackexchange.com/questions/65740/about-the-maximum-likelihood-when-we-convert-the-maximization-problem-into-mini/65742#65742) and try to build a similar web page.\n",
        "* In case you are not familiar with HTML, you can submit an XML with proper tree representation of the Posts, Comments, UpVotes, DownVotes, Score etc.\n",
        "* As this is an Extra Credit Question, we will grade you on how well you use the datasets to present the data in HTML/ XML code and also how well you capture the Entity relationships between different relations(tables)."
      ]
    },
    {
      "cell_type": "code",
      "metadata": {
        "id": "3kivjp0aErY9",
        "colab_type": "code",
        "colab": {}
      },
      "source": [
        "# Your code here"
      ],
      "execution_count": null,
      "outputs": []
    },
    {
      "cell_type": "markdown",
      "metadata": {
        "id": "ISe_XMH7ivEa",
        "colab_type": "text"
      },
      "source": [
        "#Section 2: Spark, Hierarchical Data and Graph Data on Yelp Reviews Dataset"
      ]
    },
    {
      "cell_type": "markdown",
      "metadata": {
        "id": "KJJHiaJ_1P9G",
        "colab_type": "text"
      },
      "source": [
        "## Getting Started with Apache Spark\n",
        "\n",
        "Apache Spark, which has become the de facto successor to Apache Hadoop, is a complex, cluster-based data processing system that was written in Scala.  It leverages a wide variety of distributed tools and components used for big data processing.  It interfaces “smoothly” to Python, but be forewarned that there are some rough edges.  For those interested in why, there are a few reasons:\n",
        "\n",
        "* Scala has slightly different notions of types (especially things like Rows) and handles missing values (nulls) differently from Python.\n",
        "* The Scala-based Spark “engine” can’t just run Python functions as it’s doing data processing.  This means that you want to be careful to use Spark’s library of functions, or the special mechanisms for inserting “user defined functions.”\n",
        "* DataFrames on Spark are “sharded,” so there is no single object corresponding to the DataFrame!\n",
        "\n",
        "While Spark DataFrames try to emulate the same programming style as Pandas DataFrames, there are some differences in how you express things.  Please refer to the Lecture Slides for our take on the differences.  You may also find the following Web pages to be useful resources for understanding Spark vs Pandas DataFrames:\n",
        "\n",
        "https://lab.getbase.com/pandarize-spark-dataframes/\n",
        "https://ogirardot.wordpress.com/2015/07/31/from-pandas-to-apache-sparks-dataframe/ \n",
        "\n",
        "For this assignment, we are going to get familiar with Spark without worrying too much about sharding and distribution.  We are going to run Spark on your Docker container.  This isn’t really using it to its strengths -- and in fact you might find Spark to be unexpectedly slow -- but it will get you comfortable with programming in Spark without worrying about distributed nodes, clusters, and spending real dollars on the cloud.  Your code, if written properly, will “naturally scale” to clusters running on the Cloud.  Later in the term we’ll connect your Jupyter instance to Spark running on the cloud -- to handle “truly big data.”\n",
        "\n",
        "\n",
        "### Initializing a Connection to Spark\n",
        "\n",
        "We'll open a connection to Spark as follows. Note that Spark has multiple interfaces, as you will see if you look at sample code elsewhere. `SparkSession` is the “most modern” one and we’ll be using it for this course.  From `SparkSession`, you can load data into Spark DataFrames as well as `RDD`s.\n",
        "\n",
        "Run the follow cells to setup the notebook!"
      ]
    },
    {
      "cell_type": "code",
      "metadata": {
        "id": "G8RH4R771X6n",
        "colab_type": "code",
        "colab": {
          "base_uri": "https://localhost:8080/",
          "height": 1000
        },
        "outputId": "45a4eab4-e4ea-473a-9c11-b8a647d3267a"
      },
      "source": [
        "!apt install libkrb5-dev\n",
        "!wget https://www-us.apache.org/dist/spark/spark-2.4.5/spark-2.4.5-bin-hadoop2.7.tgz\n",
        "!tar xf spark-2.4.5-bin-hadoop2.7.tgz\n",
        "!pip install findspark\n",
        "!pip install sparkmagic\n",
        "!pip install pyspark\n",
        "! pip install pyspark --user\n",
        "! pip install seaborn --user\n",
        "! pip install plotly --user\n",
        "! pip install imageio --user\n",
        "! pip install folium --user"
      ],
      "execution_count": null,
      "outputs": [
        {
          "output_type": "stream",
          "text": [
            "Reading package lists... Done\n",
            "Building dependency tree       \n",
            "Reading state information... Done\n",
            "The following package was automatically installed and is no longer required:\n",
            "  libnvidia-common-430\n",
            "Use 'apt autoremove' to remove it.\n",
            "The following additional packages will be installed:\n",
            "  comerr-dev krb5-multidev libcom-err2 libgssrpc4 libkadm5clnt-mit11\n",
            "  libkadm5srv-mit11 libkdb5-9\n",
            "Suggested packages:\n",
            "  doc-base krb5-doc krb5-user\n",
            "The following NEW packages will be installed:\n",
            "  comerr-dev krb5-multidev libgssrpc4 libkadm5clnt-mit11 libkadm5srv-mit11\n",
            "  libkdb5-9 libkrb5-dev\n",
            "The following packages will be upgraded:\n",
            "  libcom-err2\n",
            "1 upgraded, 7 newly installed, 0 to remove and 24 not upgraded.\n",
            "Need to get 358 kB of archives.\n",
            "After this operation, 1,992 kB of additional disk space will be used.\n",
            "Get:1 http://archive.ubuntu.com/ubuntu bionic-updates/main amd64 libcom-err2 amd64 1.44.1-1ubuntu1.3 [8,848 B]\n",
            "Get:2 http://archive.ubuntu.com/ubuntu bionic-updates/main amd64 libgssrpc4 amd64 1.16-2ubuntu0.1 [54.2 kB]\n",
            "Get:3 http://archive.ubuntu.com/ubuntu bionic-updates/main amd64 libkdb5-9 amd64 1.16-2ubuntu0.1 [37.2 kB]\n",
            "Get:4 http://archive.ubuntu.com/ubuntu bionic-updates/main amd64 libkadm5srv-mit11 amd64 1.16-2ubuntu0.1 [49.7 kB]\n",
            "Get:5 http://archive.ubuntu.com/ubuntu bionic-updates/main amd64 libkadm5clnt-mit11 amd64 1.16-2ubuntu0.1 [38.2 kB]\n",
            "Get:6 http://archive.ubuntu.com/ubuntu bionic-updates/main amd64 comerr-dev amd64 2.1-1.44.1-1ubuntu1.3 [38.5 kB]\n",
            "Get:7 http://archive.ubuntu.com/ubuntu bionic-updates/main amd64 krb5-multidev amd64 1.16-2ubuntu0.1 [120 kB]\n",
            "Get:8 http://archive.ubuntu.com/ubuntu bionic-updates/main amd64 libkrb5-dev amd64 1.16-2ubuntu0.1 [11.8 kB]\n",
            "Fetched 358 kB in 1s (556 kB/s)\n",
            "(Reading database ... 134676 files and directories currently installed.)\n",
            "Preparing to unpack .../libcom-err2_1.44.1-1ubuntu1.3_amd64.deb ...\n",
            "Unpacking libcom-err2:amd64 (1.44.1-1ubuntu1.3) over (1.44.1-1ubuntu1.2) ...\n",
            "Setting up libcom-err2:amd64 (1.44.1-1ubuntu1.3) ...\n",
            "Selecting previously unselected package libgssrpc4:amd64.\n",
            "(Reading database ... 134676 files and directories currently installed.)\n",
            "Preparing to unpack .../0-libgssrpc4_1.16-2ubuntu0.1_amd64.deb ...\n",
            "Unpacking libgssrpc4:amd64 (1.16-2ubuntu0.1) ...\n",
            "Selecting previously unselected package libkdb5-9:amd64.\n",
            "Preparing to unpack .../1-libkdb5-9_1.16-2ubuntu0.1_amd64.deb ...\n",
            "Unpacking libkdb5-9:amd64 (1.16-2ubuntu0.1) ...\n",
            "Selecting previously unselected package libkadm5srv-mit11:amd64.\n",
            "Preparing to unpack .../2-libkadm5srv-mit11_1.16-2ubuntu0.1_amd64.deb ...\n",
            "Unpacking libkadm5srv-mit11:amd64 (1.16-2ubuntu0.1) ...\n",
            "Selecting previously unselected package libkadm5clnt-mit11:amd64.\n",
            "Preparing to unpack .../3-libkadm5clnt-mit11_1.16-2ubuntu0.1_amd64.deb ...\n",
            "Unpacking libkadm5clnt-mit11:amd64 (1.16-2ubuntu0.1) ...\n",
            "Selecting previously unselected package comerr-dev:amd64.\n",
            "Preparing to unpack .../4-comerr-dev_2.1-1.44.1-1ubuntu1.3_amd64.deb ...\n",
            "Unpacking comerr-dev:amd64 (2.1-1.44.1-1ubuntu1.3) ...\n",
            "Selecting previously unselected package krb5-multidev:amd64.\n",
            "Preparing to unpack .../5-krb5-multidev_1.16-2ubuntu0.1_amd64.deb ...\n",
            "Unpacking krb5-multidev:amd64 (1.16-2ubuntu0.1) ...\n",
            "Selecting previously unselected package libkrb5-dev:amd64.\n",
            "Preparing to unpack .../6-libkrb5-dev_1.16-2ubuntu0.1_amd64.deb ...\n",
            "Unpacking libkrb5-dev:amd64 (1.16-2ubuntu0.1) ...\n",
            "Setting up libgssrpc4:amd64 (1.16-2ubuntu0.1) ...\n",
            "Setting up comerr-dev:amd64 (2.1-1.44.1-1ubuntu1.3) ...\n",
            "Setting up libkdb5-9:amd64 (1.16-2ubuntu0.1) ...\n",
            "Setting up libkadm5srv-mit11:amd64 (1.16-2ubuntu0.1) ...\n",
            "Setting up libkadm5clnt-mit11:amd64 (1.16-2ubuntu0.1) ...\n",
            "Setting up krb5-multidev:amd64 (1.16-2ubuntu0.1) ...\n",
            "Setting up libkrb5-dev:amd64 (1.16-2ubuntu0.1) ...\n",
            "Processing triggers for man-db (2.8.3-2ubuntu0.1) ...\n",
            "Processing triggers for libc-bin (2.27-3ubuntu1) ...\n",
            "/sbin/ldconfig.real: /usr/local/lib/python3.6/dist-packages/ideep4py/lib/libmkldnn.so.0 is not a symbolic link\n",
            "\n",
            "--2020-02-24 01:33:06--  https://www-us.apache.org/dist/spark/spark-2.4.5/spark-2.4.5-bin-hadoop2.7.tgz\n",
            "Resolving www-us.apache.org (www-us.apache.org)... 40.79.78.1\n",
            "Connecting to www-us.apache.org (www-us.apache.org)|40.79.78.1|:443... connected.\n",
            "HTTP request sent, awaiting response... 302 Found\n",
            "Location: https://downloads.apache.org/spark/spark-2.4.5/spark-2.4.5-bin-hadoop2.7.tgz [following]\n",
            "--2020-02-24 01:33:06--  https://downloads.apache.org/spark/spark-2.4.5/spark-2.4.5-bin-hadoop2.7.tgz\n",
            "Resolving downloads.apache.org (downloads.apache.org)... 88.99.95.219, 2a01:4f8:10a:201a::2\n",
            "Connecting to downloads.apache.org (downloads.apache.org)|88.99.95.219|:443... connected.\n",
            "HTTP request sent, awaiting response... 200 OK\n",
            "Length: 232530699 (222M) [application/x-gzip]\n",
            "Saving to: ‘spark-2.4.5-bin-hadoop2.7.tgz’\n",
            "\n",
            "spark-2.4.5-bin-had 100%[===================>] 221.76M  28.1MB/s    in 8.6s    \n",
            "\n",
            "2020-02-24 01:33:15 (25.9 MB/s) - ‘spark-2.4.5-bin-hadoop2.7.tgz’ saved [232530699/232530699]\n",
            "\n",
            "Collecting findspark\n",
            "  Downloading https://files.pythonhosted.org/packages/b1/c8/e6e1f6a303ae5122dc28d131b5a67c5eb87cbf8f7ac5b9f87764ea1b1e1e/findspark-1.3.0-py2.py3-none-any.whl\n",
            "Installing collected packages: findspark\n",
            "Successfully installed findspark-1.3.0\n",
            "Collecting sparkmagic\n",
            "  Downloading https://files.pythonhosted.org/packages/eb/f3/458361eec01b7c1fb5aaa1b28a2e24b22167f577c2ab83d12b365a98be75/sparkmagic-0.15.0.tar.gz\n",
            "Collecting hdijupyterutils>=0.6\n",
            "  Downloading https://files.pythonhosted.org/packages/a9/b9/4daa0d8319a9e9101d6d6c8af1f5b1e87178542a70995a4ff2611005cc98/hdijupyterutils-0.15.0.tar.gz\n",
            "Collecting autovizwidget>=0.6\n",
            "  Downloading https://files.pythonhosted.org/packages/17/bb/d7d725dc3288354c4431dbf53aa40d0014379ec9a45475805f62436573ec/autovizwidget-0.15.0.tar.gz\n",
            "Requirement already satisfied: ipython>=4.0.2 in /usr/local/lib/python3.6/dist-packages (from sparkmagic) (5.5.0)\n",
            "Collecting nose\n",
            "\u001b[?25l  Downloading https://files.pythonhosted.org/packages/15/d8/dd071918c040f50fa1cf80da16423af51ff8ce4a0f2399b7bf8de45ac3d9/nose-1.3.7-py3-none-any.whl (154kB)\n",
            "\u001b[K     |████████████████████████████████| 163kB 6.0MB/s \n",
            "\u001b[?25hCollecting mock\n",
            "  Downloading https://files.pythonhosted.org/packages/30/6a/9bde648117ec7087c89a45de0a8b25aba21d54d3defd08cb24eacded875f/mock-4.0.1-py3-none-any.whl\n",
            "Requirement already satisfied: pandas>=0.17.1 in /usr/local/lib/python3.6/dist-packages (from sparkmagic) (0.25.3)\n",
            "Requirement already satisfied: numpy in /usr/local/lib/python3.6/dist-packages (from sparkmagic) (1.17.5)\n",
            "Requirement already satisfied: requests in /usr/local/lib/python3.6/dist-packages (from sparkmagic) (2.21.0)\n",
            "Requirement already satisfied: ipykernel in /usr/local/lib/python3.6/dist-packages (from sparkmagic) (4.6.1)\n",
            "Requirement already satisfied: ipywidgets>5.0.0 in /usr/local/lib/python3.6/dist-packages (from sparkmagic) (7.5.1)\n",
            "Requirement already satisfied: notebook>=4.2 in /usr/local/lib/python3.6/dist-packages (from sparkmagic) (5.2.2)\n",
            "Requirement already satisfied: tornado>=4 in /usr/local/lib/python3.6/dist-packages (from sparkmagic) (4.5.3)\n",
            "Collecting requests_kerberos>=0.8.0\n",
            "  Downloading https://files.pythonhosted.org/packages/ee/a2/866f2b9a60f75055137b9ad127033e397963b2c4769d4b5fab1c3c7e8be3/requests_kerberos-0.12.0-py2.py3-none-any.whl\n",
            "Requirement already satisfied: jupyter>=1 in /usr/local/lib/python3.6/dist-packages (from hdijupyterutils>=0.6->sparkmagic) (1.0.0)\n",
            "Requirement already satisfied: plotly>=3 in /usr/local/lib/python3.6/dist-packages (from autovizwidget>=0.6->sparkmagic) (4.4.1)\n",
            "Requirement already satisfied: pexpect; sys_platform != \"win32\" in /usr/local/lib/python3.6/dist-packages (from ipython>=4.0.2->sparkmagic) (4.8.0)\n",
            "Requirement already satisfied: simplegeneric>0.8 in /usr/local/lib/python3.6/dist-packages (from ipython>=4.0.2->sparkmagic) (0.8.1)\n",
            "Requirement already satisfied: decorator in /usr/local/lib/python3.6/dist-packages (from ipython>=4.0.2->sparkmagic) (4.4.1)\n",
            "Requirement already satisfied: pygments in /usr/local/lib/python3.6/dist-packages (from ipython>=4.0.2->sparkmagic) (2.1.3)\n",
            "Requirement already satisfied: pickleshare in /usr/local/lib/python3.6/dist-packages (from ipython>=4.0.2->sparkmagic) (0.7.5)\n",
            "Requirement already satisfied: setuptools>=18.5 in /usr/local/lib/python3.6/dist-packages (from ipython>=4.0.2->sparkmagic) (45.1.0)\n",
            "Requirement already satisfied: prompt-toolkit<2.0.0,>=1.0.4 in /usr/local/lib/python3.6/dist-packages (from ipython>=4.0.2->sparkmagic) (1.0.18)\n",
            "Requirement already satisfied: traitlets>=4.2 in /usr/local/lib/python3.6/dist-packages (from ipython>=4.0.2->sparkmagic) (4.3.3)\n",
            "Requirement already satisfied: pytz>=2017.2 in /usr/local/lib/python3.6/dist-packages (from pandas>=0.17.1->sparkmagic) (2018.9)\n",
            "Requirement already satisfied: python-dateutil>=2.6.1 in /usr/local/lib/python3.6/dist-packages (from pandas>=0.17.1->sparkmagic) (2.6.1)\n",
            "Requirement already satisfied: certifi>=2017.4.17 in /usr/local/lib/python3.6/dist-packages (from requests->sparkmagic) (2019.11.28)\n",
            "Requirement already satisfied: idna<2.9,>=2.5 in /usr/local/lib/python3.6/dist-packages (from requests->sparkmagic) (2.8)\n",
            "Requirement already satisfied: chardet<3.1.0,>=3.0.2 in /usr/local/lib/python3.6/dist-packages (from requests->sparkmagic) (3.0.4)\n",
            "Requirement already satisfied: urllib3<1.25,>=1.21.1 in /usr/local/lib/python3.6/dist-packages (from requests->sparkmagic) (1.24.3)\n",
            "Requirement already satisfied: jupyter-client in /usr/local/lib/python3.6/dist-packages (from ipykernel->sparkmagic) (5.3.4)\n",
            "Requirement already satisfied: nbformat>=4.2.0 in /usr/local/lib/python3.6/dist-packages (from ipywidgets>5.0.0->sparkmagic) (5.0.4)\n",
            "Requirement already satisfied: widgetsnbextension~=3.5.0 in /usr/local/lib/python3.6/dist-packages (from ipywidgets>5.0.0->sparkmagic) (3.5.1)\n",
            "Requirement already satisfied: jinja2 in /usr/local/lib/python3.6/dist-packages (from notebook>=4.2->sparkmagic) (2.11.1)\n",
            "Requirement already satisfied: jupyter-core in /usr/local/lib/python3.6/dist-packages (from notebook>=4.2->sparkmagic) (4.6.2)\n",
            "Requirement already satisfied: nbconvert in /usr/local/lib/python3.6/dist-packages (from notebook>=4.2->sparkmagic) (5.6.1)\n",
            "Requirement already satisfied: ipython-genutils in /usr/local/lib/python3.6/dist-packages (from notebook>=4.2->sparkmagic) (0.2.0)\n",
            "Requirement already satisfied: terminado>=0.3.3; sys_platform != \"win32\" in /usr/local/lib/python3.6/dist-packages (from notebook>=4.2->sparkmagic) (0.8.3)\n",
            "Collecting cryptography>=1.3; python_version != \"3.3\"\n",
            "\u001b[?25l  Downloading https://files.pythonhosted.org/packages/ca/9a/7cece52c46546e214e10811b36b2da52ce1ea7fa203203a629b8dfadad53/cryptography-2.8-cp34-abi3-manylinux2010_x86_64.whl (2.3MB)\n",
            "\u001b[K     |████████████████████████████████| 2.3MB 19.7MB/s \n",
            "\u001b[?25hCollecting pykerberos<2.0.0,>=1.1.8; sys_platform != \"win32\"\n",
            "  Downloading https://files.pythonhosted.org/packages/9a/b8/1ec56b6fa8a2e2a81420bd3d90e70b59fc83f6b857fb2c2c37accddc8be3/pykerberos-1.2.1.tar.gz\n",
            "Requirement already satisfied: qtconsole in /usr/local/lib/python3.6/dist-packages (from jupyter>=1->hdijupyterutils>=0.6->sparkmagic) (4.6.0)\n",
            "Requirement already satisfied: jupyter-console in /usr/local/lib/python3.6/dist-packages (from jupyter>=1->hdijupyterutils>=0.6->sparkmagic) (5.2.0)\n",
            "Requirement already satisfied: retrying>=1.3.3 in /usr/local/lib/python3.6/dist-packages (from plotly>=3->autovizwidget>=0.6->sparkmagic) (1.3.3)\n",
            "Requirement already satisfied: six in /usr/local/lib/python3.6/dist-packages (from plotly>=3->autovizwidget>=0.6->sparkmagic) (1.12.0)\n",
            "Requirement already satisfied: ptyprocess>=0.5 in /usr/local/lib/python3.6/dist-packages (from pexpect; sys_platform != \"win32\"->ipython>=4.0.2->sparkmagic) (0.6.0)\n",
            "Requirement already satisfied: wcwidth in /usr/local/lib/python3.6/dist-packages (from prompt-toolkit<2.0.0,>=1.0.4->ipython>=4.0.2->sparkmagic) (0.1.8)\n",
            "Requirement already satisfied: pyzmq>=13 in /usr/local/lib/python3.6/dist-packages (from jupyter-client->ipykernel->sparkmagic) (17.0.0)\n",
            "Requirement already satisfied: jsonschema!=2.5.0,>=2.4 in /usr/local/lib/python3.6/dist-packages (from nbformat>=4.2.0->ipywidgets>5.0.0->sparkmagic) (2.6.0)\n",
            "Requirement already satisfied: MarkupSafe>=0.23 in /usr/local/lib/python3.6/dist-packages (from jinja2->notebook>=4.2->sparkmagic) (1.1.1)\n",
            "Requirement already satisfied: testpath in /usr/local/lib/python3.6/dist-packages (from nbconvert->notebook>=4.2->sparkmagic) (0.4.4)\n",
            "Requirement already satisfied: defusedxml in /usr/local/lib/python3.6/dist-packages (from nbconvert->notebook>=4.2->sparkmagic) (0.6.0)\n",
            "Requirement already satisfied: pandocfilters>=1.4.1 in /usr/local/lib/python3.6/dist-packages (from nbconvert->notebook>=4.2->sparkmagic) (1.4.2)\n",
            "Requirement already satisfied: entrypoints>=0.2.2 in /usr/local/lib/python3.6/dist-packages (from nbconvert->notebook>=4.2->sparkmagic) (0.3)\n",
            "Requirement already satisfied: mistune<2,>=0.8.1 in /usr/local/lib/python3.6/dist-packages (from nbconvert->notebook>=4.2->sparkmagic) (0.8.4)\n",
            "Requirement already satisfied: bleach in /usr/local/lib/python3.6/dist-packages (from nbconvert->notebook>=4.2->sparkmagic) (3.1.0)\n",
            "Requirement already satisfied: cffi!=1.11.3,>=1.8 in /usr/local/lib/python3.6/dist-packages (from cryptography>=1.3; python_version != \"3.3\"->requests_kerberos>=0.8.0->sparkmagic) (1.14.0)\n",
            "Requirement already satisfied: webencodings in /usr/local/lib/python3.6/dist-packages (from bleach->nbconvert->notebook>=4.2->sparkmagic) (0.5.1)\n",
            "Requirement already satisfied: pycparser in /usr/local/lib/python3.6/dist-packages (from cffi!=1.11.3,>=1.8->cryptography>=1.3; python_version != \"3.3\"->requests_kerberos>=0.8.0->sparkmagic) (2.19)\n",
            "Building wheels for collected packages: sparkmagic, hdijupyterutils, autovizwidget, pykerberos\n",
            "  Building wheel for sparkmagic (setup.py) ... \u001b[?25l\u001b[?25hdone\n",
            "  Created wheel for sparkmagic: filename=sparkmagic-0.15.0-cp36-none-any.whl size=57176 sha256=4bcc917e068759edd1b26e4753e4c31722ce767c1fdda647b4327bcdb3055521\n",
            "  Stored in directory: /root/.cache/pip/wheels/b6/42/21/575eb221b00c86d1e4ca0b8e6916df1b9948f30383680cde14\n",
            "  Building wheel for hdijupyterutils (setup.py) ... \u001b[?25l\u001b[?25hdone\n",
            "  Created wheel for hdijupyterutils: filename=hdijupyterutils-0.15.0-cp36-none-any.whl size=7667 sha256=ab1417d64874301a9a2d50b975e7eeb793ace1d4472ccddf86c17dfc028649e3\n",
            "  Stored in directory: /root/.cache/pip/wheels/7e/f0/ad/29b0902eb1384bf2691d6baa61f2cfce35f2370058e8c732cc\n",
            "  Building wheel for autovizwidget (setup.py) ... \u001b[?25l\u001b[?25hdone\n",
            "  Created wheel for autovizwidget: filename=autovizwidget-0.15.0-cp36-none-any.whl size=14547 sha256=4ff8d9f5aef8c8dc19578a4ecf48816d92a2ffc379c2e08de7b788247d7963d9\n",
            "  Stored in directory: /root/.cache/pip/wheels/c8/09/b3/7851bdad56450e74338735e062864eb8f74fea8517d31f9d0b\n",
            "  Building wheel for pykerberos (setup.py) ... \u001b[?25l\u001b[?25hdone\n",
            "  Created wheel for pykerberos: filename=pykerberos-1.2.1-cp36-cp36m-linux_x86_64.whl size=68592 sha256=d45430417839e58c11569dee8f6e1ec1b7a10b54b75690a01fca9549345b1309\n",
            "  Stored in directory: /root/.cache/pip/wheels/c7/a7/07/d414c22754acf5822ccce48b41822142974ec103057c8305e7\n",
            "Successfully built sparkmagic hdijupyterutils autovizwidget pykerberos\n",
            "Installing collected packages: nose, mock, hdijupyterutils, autovizwidget, cryptography, pykerberos, requests-kerberos, sparkmagic\n",
            "Successfully installed autovizwidget-0.15.0 cryptography-2.8 hdijupyterutils-0.15.0 mock-4.0.1 nose-1.3.7 pykerberos-1.2.1 requests-kerberos-0.12.0 sparkmagic-0.15.0\n",
            "Collecting pyspark\n",
            "\u001b[?25l  Downloading https://files.pythonhosted.org/packages/9a/5a/271c416c1c2185b6cb0151b29a91fff6fcaed80173c8584ff6d20e46b465/pyspark-2.4.5.tar.gz (217.8MB)\n",
            "\u001b[K     |████████████████████████████████| 217.8MB 48kB/s \n",
            "\u001b[?25hCollecting py4j==0.10.7\n",
            "\u001b[?25l  Downloading https://files.pythonhosted.org/packages/e3/53/c737818eb9a7dc32a7cd4f1396e787bd94200c3997c72c1dbe028587bd76/py4j-0.10.7-py2.py3-none-any.whl (197kB)\n",
            "\u001b[K     |████████████████████████████████| 204kB 41.1MB/s \n",
            "\u001b[?25hBuilding wheels for collected packages: pyspark\n",
            "  Building wheel for pyspark (setup.py) ... \u001b[?25l\u001b[?25hdone\n",
            "  Created wheel for pyspark: filename=pyspark-2.4.5-py2.py3-none-any.whl size=218257927 sha256=d685e2163946877a124ce774744b248d98c81f99d8d799885d3eaac4ca0a41da\n",
            "  Stored in directory: /root/.cache/pip/wheels/bf/db/04/61d66a5939364e756eb1c1be4ec5bdce6e04047fc7929a3c3c\n",
            "Successfully built pyspark\n",
            "Installing collected packages: py4j, pyspark\n",
            "Successfully installed py4j-0.10.7 pyspark-2.4.5\n",
            "Requirement already satisfied: pyspark in /usr/local/lib/python3.6/dist-packages (2.4.5)\n",
            "Requirement already satisfied: py4j==0.10.7 in /usr/local/lib/python3.6/dist-packages (from pyspark) (0.10.7)\n",
            "Requirement already satisfied: seaborn in /usr/local/lib/python3.6/dist-packages (0.10.0)\n",
            "Requirement already satisfied: matplotlib>=2.1.2 in /usr/local/lib/python3.6/dist-packages (from seaborn) (3.1.3)\n",
            "Requirement already satisfied: pandas>=0.22.0 in /usr/local/lib/python3.6/dist-packages (from seaborn) (0.25.3)\n",
            "Requirement already satisfied: scipy>=1.0.1 in /usr/local/lib/python3.6/dist-packages (from seaborn) (1.4.1)\n",
            "Requirement already satisfied: numpy>=1.13.3 in /usr/local/lib/python3.6/dist-packages (from seaborn) (1.17.5)\n",
            "Requirement already satisfied: python-dateutil>=2.1 in /usr/local/lib/python3.6/dist-packages (from matplotlib>=2.1.2->seaborn) (2.6.1)\n",
            "Requirement already satisfied: kiwisolver>=1.0.1 in /usr/local/lib/python3.6/dist-packages (from matplotlib>=2.1.2->seaborn) (1.1.0)\n",
            "Requirement already satisfied: cycler>=0.10 in /usr/local/lib/python3.6/dist-packages (from matplotlib>=2.1.2->seaborn) (0.10.0)\n",
            "Requirement already satisfied: pyparsing!=2.0.4,!=2.1.2,!=2.1.6,>=2.0.1 in /usr/local/lib/python3.6/dist-packages (from matplotlib>=2.1.2->seaborn) (2.4.6)\n",
            "Requirement already satisfied: pytz>=2017.2 in /usr/local/lib/python3.6/dist-packages (from pandas>=0.22.0->seaborn) (2018.9)\n",
            "Requirement already satisfied: six>=1.5 in /usr/local/lib/python3.6/dist-packages (from python-dateutil>=2.1->matplotlib>=2.1.2->seaborn) (1.12.0)\n",
            "Requirement already satisfied: setuptools in /usr/local/lib/python3.6/dist-packages (from kiwisolver>=1.0.1->matplotlib>=2.1.2->seaborn) (45.1.0)\n",
            "Requirement already satisfied: plotly in /usr/local/lib/python3.6/dist-packages (4.4.1)\n",
            "Requirement already satisfied: retrying>=1.3.3 in /usr/local/lib/python3.6/dist-packages (from plotly) (1.3.3)\n",
            "Requirement already satisfied: six in /usr/local/lib/python3.6/dist-packages (from plotly) (1.12.0)\n",
            "Requirement already satisfied: imageio in /usr/local/lib/python3.6/dist-packages (2.4.1)\n",
            "Requirement already satisfied: pillow in /usr/local/lib/python3.6/dist-packages (from imageio) (6.2.2)\n",
            "Requirement already satisfied: numpy in /usr/local/lib/python3.6/dist-packages (from imageio) (1.17.5)\n",
            "Requirement already satisfied: folium in /usr/local/lib/python3.6/dist-packages (0.8.3)\n",
            "Requirement already satisfied: numpy in /usr/local/lib/python3.6/dist-packages (from folium) (1.17.5)\n",
            "Requirement already satisfied: jinja2 in /usr/local/lib/python3.6/dist-packages (from folium) (2.11.1)\n",
            "Requirement already satisfied: branca>=0.3.0 in /usr/local/lib/python3.6/dist-packages (from folium) (0.3.1)\n",
            "Requirement already satisfied: six in /usr/local/lib/python3.6/dist-packages (from folium) (1.12.0)\n",
            "Requirement already satisfied: requests in /usr/local/lib/python3.6/dist-packages (from folium) (2.21.0)\n",
            "Requirement already satisfied: MarkupSafe>=0.23 in /usr/local/lib/python3.6/dist-packages (from jinja2->folium) (1.1.1)\n",
            "Requirement already satisfied: certifi>=2017.4.17 in /usr/local/lib/python3.6/dist-packages (from requests->folium) (2019.11.28)\n",
            "Requirement already satisfied: chardet<3.1.0,>=3.0.2 in /usr/local/lib/python3.6/dist-packages (from requests->folium) (3.0.4)\n",
            "Requirement already satisfied: idna<2.9,>=2.5 in /usr/local/lib/python3.6/dist-packages (from requests->folium) (2.8)\n",
            "Requirement already satisfied: urllib3<1.25,>=1.21.1 in /usr/local/lib/python3.6/dist-packages (from requests->folium) (1.24.3)\n"
          ],
          "name": "stdout"
        }
      ]
    },
    {
      "cell_type": "code",
      "metadata": {
        "id": "pNctzcXRkexY",
        "colab_type": "code",
        "colab": {
          "base_uri": "https://localhost:8080/",
          "height": 710
        },
        "outputId": "d9366682-8f3e-446c-c35f-04f1c58eeafe"
      },
      "source": [
        "!apt update\n",
        "!apt install gcc python-dev libkrb5-dev"
      ],
      "execution_count": null,
      "outputs": [
        {
          "output_type": "stream",
          "text": [
            "\u001b[33m\r0% [Working]\u001b[0m\r            \rIgn:1 https://developer.download.nvidia.com/compute/cuda/repos/ubuntu1804/x86_64  InRelease\n",
            "\u001b[33m\r0% [Waiting for headers] [Waiting for headers] [Connected to cloud.r-project.or\u001b[0m\r                                                                               \rGet:2 http://security.ubuntu.com/ubuntu bionic-security InRelease [88.7 kB]\n",
            "\u001b[33m\r0% [Waiting for headers] [2 InRelease 14.2 kB/88.7 kB 16%] [Waiting for headers\u001b[0m\r                                                                               \rGet:3 http://ppa.launchpad.net/graphics-drivers/ppa/ubuntu bionic InRelease [21.3 kB]\n",
            "\u001b[33m\r0% [Waiting for headers] [2 InRelease 14.2 kB/88.7 kB 16%] [Waiting for headers\u001b[0m\r                                                                               \rGet:4 https://cloud.r-project.org/bin/linux/ubuntu bionic-cran35/ InRelease [3,626 B]\n",
            "\u001b[33m\r0% [Waiting for headers] [2 InRelease 14.2 kB/88.7 kB 16%] [4 InRelease 0 B/3,6\u001b[0m\u001b[33m\r0% [Waiting for headers] [2 InRelease 14.2 kB/88.7 kB 16%] [Waiting for headers\u001b[0m\u001b[33m\r0% [4 InRelease gpgv 3,626 B] [Waiting for headers] [2 InRelease 14.2 kB/88.7 k\u001b[0m\r                                                                               \rHit:5 http://archive.ubuntu.com/ubuntu bionic InRelease\n",
            "\u001b[33m\r0% [4 InRelease gpgv 3,626 B] [Waiting for headers] [2 InRelease 14.2 kB/88.7 k\u001b[0m\r                                                                               \rIgn:6 https://developer.download.nvidia.com/compute/machine-learning/repos/ubuntu1804/x86_64  InRelease\n",
            "\u001b[33m\r0% [4 InRelease gpgv 3,626 B] [Waiting for headers] [2 InRelease 14.2 kB/88.7 k\u001b[0m\r                                                                               \rHit:7 https://developer.download.nvidia.com/compute/cuda/repos/ubuntu1804/x86_64  Release\n",
            "Hit:8 https://developer.download.nvidia.com/compute/machine-learning/repos/ubuntu1804/x86_64  Release\n",
            "Get:9 http://archive.ubuntu.com/ubuntu bionic-updates InRelease [88.7 kB]\n",
            "Get:10 http://ppa.launchpad.net/marutter/c2d4u3.5/ubuntu bionic InRelease [15.4 kB]\n",
            "Get:11 https://cloud.r-project.org/bin/linux/ubuntu bionic-cran35/ Packages [83.6 kB]\n",
            "Get:12 http://archive.ubuntu.com/ubuntu bionic-backports InRelease [74.6 kB]\n",
            "Get:15 http://ppa.launchpad.net/graphics-drivers/ppa/ubuntu bionic/main amd64 Packages [36.9 kB]\n",
            "Get:16 http://security.ubuntu.com/ubuntu bionic-security/restricted amd64 Packages [31.0 kB]\n",
            "Get:17 http://security.ubuntu.com/ubuntu bionic-security/multiverse amd64 Packages [7,348 B]\n",
            "Get:18 http://security.ubuntu.com/ubuntu bionic-security/universe amd64 Packages [823 kB]\n",
            "Get:19 http://ppa.launchpad.net/marutter/c2d4u3.5/ubuntu bionic/main Sources [1,775 kB]\n",
            "Get:20 http://archive.ubuntu.com/ubuntu bionic-updates/multiverse amd64 Packages [11.4 kB]\n",
            "Get:21 http://security.ubuntu.com/ubuntu bionic-security/main amd64 Packages [835 kB]\n",
            "Get:22 http://archive.ubuntu.com/ubuntu bionic-updates/main amd64 Packages [1,127 kB]\n",
            "Get:23 http://archive.ubuntu.com/ubuntu bionic-updates/universe amd64 Packages [1,350 kB]\n",
            "Get:24 http://archive.ubuntu.com/ubuntu bionic-updates/restricted amd64 Packages [44.7 kB]\n",
            "Get:25 http://archive.ubuntu.com/ubuntu bionic-backports/universe amd64 Packages [4,252 B]\n",
            "Get:26 http://ppa.launchpad.net/marutter/c2d4u3.5/ubuntu bionic/main amd64 Packages [857 kB]\n",
            "Fetched 7,279 kB in 3s (2,269 kB/s)\n",
            "Reading package lists... Done\n",
            "Building dependency tree       \n",
            "Reading state information... Done\n",
            "106 packages can be upgraded. Run 'apt list --upgradable' to see them.\n",
            "Reading package lists... Done\n",
            "Building dependency tree       \n",
            "Reading state information... Done\n",
            "python-dev is already the newest version (2.7.15~rc1-1).\n",
            "gcc is already the newest version (4:7.4.0-1ubuntu2.3).\n",
            "gcc set to manually installed.\n",
            "libkrb5-dev is already the newest version (1.16-2ubuntu0.1).\n",
            "The following package was automatically installed and is no longer required:\n",
            "  libnvidia-common-430\n",
            "Use 'apt autoremove' to remove it.\n",
            "0 upgraded, 0 newly installed, 0 to remove and 106 not upgraded.\n"
          ],
          "name": "stdout"
        }
      ]
    },
    {
      "cell_type": "code",
      "metadata": {
        "id": "PP28kxLekWG7",
        "colab_type": "code",
        "colab": {}
      },
      "source": [
        "from pyspark.sql import SparkSession\n",
        "from pyspark.sql.types import *\n",
        "import pyspark.sql.functions as F\n",
        "\n",
        "import os\n",
        "\n",
        "spark = SparkSession.builder.appName('Graphs-HW2').getOrCreate()\n"
      ],
      "execution_count": null,
      "outputs": []
    },
    {
      "cell_type": "code",
      "metadata": {
        "id": "7Gm6aXPq1Ulc",
        "colab_type": "code",
        "colab": {}
      },
      "source": [
        "%load_ext sparkmagic.magics"
      ],
      "execution_count": null,
      "outputs": []
    },
    {
      "cell_type": "code",
      "metadata": {
        "id": "NiGROEgu1gfN",
        "colab_type": "code",
        "colab": {}
      },
      "source": [
        "#graph section\n",
        "import networkx as nx\n",
        "# SQLite RDBMS\n",
        "import sqlite3\n",
        "# Parallel processing\n",
        "# import swifter\n",
        "\n",
        "# NoSQL DB\n",
        "from pymongo import MongoClient\n",
        "from pymongo.errors import DuplicateKeyError, OperationFailure\n",
        "\n",
        "import os\n",
        "os.environ['SPARK_HOME'] = '/content/spark-2.4.5-bin-hadoop2.7'\n",
        "os.environ[\"JAVA_HOME\"] = \"/usr/lib/jvm/java-8-openjdk-amd64\"\n",
        "import pyspark\n",
        "from pyspark.sql import SQLContext"
      ],
      "execution_count": null,
      "outputs": []
    },
    {
      "cell_type": "code",
      "metadata": {
        "id": "bF0xipwC1hme",
        "colab_type": "code",
        "colab": {}
      },
      "source": [
        "try:\n",
        "    if(spark == None):\n",
        "        spark = SparkSession.builder.appName('Initial').getOrCreate()\n",
        "        sqlContext=SQLContext(spark)\n",
        "except NameError:\n",
        "    spark = SparkSession.builder.appName('Initial').getOrCreate()\n",
        "    sqlContext=SQLContext(spark)\n"
      ],
      "execution_count": null,
      "outputs": []
    },
    {
      "cell_type": "markdown",
      "metadata": {
        "id": "mw-YbXpG1owp",
        "colab_type": "text"
      },
      "source": [
        "### Download data\n",
        "\n",
        "The following code retrieves the Yelp dataset files from Google Drive."
      ]
    },
    {
      "cell_type": "code",
      "metadata": {
        "id": "SuRm7t0it3nF",
        "colab_type": "code",
        "colab": {
          "base_uri": "https://localhost:8080/",
          "height": 104
        },
        "outputId": "d12e57da-dd69-4085-af58-18ddd277ffbc"
      },
      "source": [
        "from google_drive_downloader import GoogleDriveDownloader as gdd\n",
        "\n",
        "gdd.download_file_from_google_drive(file_id='1jR4-HUggivCewuhqqK6KRwRkU9QAMYKi',\n",
        "                                    dest_path='/content/yelp_business_attributes.csv')\n",
        "\n",
        "gdd.download_file_from_google_drive(file_id='1AWpo559vjl0EY59VgriYU0PoAgYKOpsD',\n",
        "                                    dest_path='/content/yelp_business.csv')\n",
        "\n",
        "gdd.download_file_from_google_drive(file_id='1AhgY2UovM3pDDr3BMTS2TVvNGq2yVRw2',\n",
        "                                    dest_path='/content/yelp_checkin.csv')\n",
        "\n",
        "gdd.download_file_from_google_drive(file_id='1uvLJQCbDd-pJkpupFjHdV6aKvhdUftQj',\n",
        "                                    dest_path='/content/yelp_review2.csv')\n",
        "\n",
        "gdd.download_file_from_google_drive(file_id='1YVr8Te2VafIBKmfQQQdOZIgw-mbcOdyN',\n",
        "                                    dest_path='/content/yelp_user.csv')"
      ],
      "execution_count": null,
      "outputs": [
        {
          "output_type": "stream",
          "text": [
            "Downloading 1jR4-HUggivCewuhqqK6KRwRkU9QAMYKi into /content/yelp_business_attributes.csv... Done.\n",
            "Downloading 1AWpo559vjl0EY59VgriYU0PoAgYKOpsD into /content/yelp_business.csv... Done.\n",
            "Downloading 1AhgY2UovM3pDDr3BMTS2TVvNGq2yVRw2 into /content/yelp_checkin.csv... Done.\n",
            "Downloading 1uvLJQCbDd-pJkpupFjHdV6aKvhdUftQj into /content/yelp_review2.csv... Done.\n",
            "Downloading 1YVr8Te2VafIBKmfQQQdOZIgw-mbcOdyN into /content/yelp_user.csv... Done.\n"
          ],
          "name": "stdout"
        }
      ]
    },
    {
      "cell_type": "markdown",
      "metadata": {
        "id": "srYXW3JwvIZi",
        "colab_type": "text"
      },
      "source": [
        "## Part 4:"
      ]
    },
    {
      "cell_type": "markdown",
      "metadata": {
        "id": "1tjhGYPK1vmm",
        "colab_type": "text"
      },
      "source": [
        "### 4.1 Load Our Graph Datasets.\n",
        "\n",
        "For this assignment, we’ll be looking at graph data (reviews, reviewers, businesses) downloaded from Yelp.\n",
        "\n",
        "**A very brief review of graph theory**. Recall that a graph $G$ is composed of a set of vertices $V$ (also called nodes) and edges $E$ (sometimes called links).  Each vertex $v \\in V$ has an identity (often represented in the real world as a string or numeric “node ID”).  Each edge $e \\in E$ is a tuple $(v_i,v_j)$ where $v_i$ represents the source or origin of the edge, and $v_j$ represents the target or destination.  In the simplest case, the edge tuple above is simply the pair $(v_i,v_j)$ but in many cases we may have additional fields such as a label or a distance.  Recall also that graphs may be undirected or directed; in undirected graphs, all edges are symmetric whereas in directed graphs, they are not.  For instance, airline flights are directed, whereas Facebook friend relationships are undirected.\n",
        "\n",
        "Let’s read our social graph data from Yelp, which forms a directed graph.  Here, the set of nodes is also not specified; the assumption is that the only nodes that matter are linked to other nodes, and thus their IDs will appear in the set of edges.  To load the file `input.txt` into a Spark DataFrame, you can use lines like the following.\n",
        "\n",
        "```\n",
        "# Read lines from the text file\n",
        "input_sdf = spark.read.load('input.txt', format=\"text\")\n",
        "```\n",
        "\n",
        "We’ll use the suffix `_sdf` to represent “Spark DataFrame,” much as we used `_df` to denote a Pandas DataFrame in Homework 1.  Load the various files from Yelp.\n",
        "\n",
        "Your datasets should be named `yelp_business_sdf`, `yelp_business_attributes_sdf`, `yelp_check_in_sdf`, `yelp_reviews_sdf`, and `yelp_users_sdf`.\n",
        "\n",
        "Submit the first 75 entries of the yelp_business_sdf to the autograder as a pandas dataframe by using the toPandas() function to convert it from a spark dataframe to a normal dataframe. Also,\n",
        " make sure to sort it by the \"name\" column in ascending order"
      ]
    },
    {
      "cell_type": "code",
      "metadata": {
        "id": "7mtQl7Bi1rHe",
        "colab_type": "code",
        "colab": {
          "base_uri": "https://localhost:8080/",
          "height": 765
        },
        "outputId": "2565e3e6-f5c1-4a71-ea6b-ab400858e4af"
      },
      "source": [
        "yelp_business_attributes_sdf = spark.read.load('/content/yelp_business_attributes.csv', format=\"csv\", header = True)\n",
        "yelp_check_in_sdf = spark.read.load('/content/yelp_checkin.csv', format=\"csv\", header = True)\n",
        "yelp_reviews_sdf = spark.read.load('/content/yelp_review2.csv', format=\"csv\", header = True)\n",
        "yelp_users_sdf = spark.read.load('/content/yelp_user.csv', format=\"csv\", header = True)\n",
        "\n",
        "yelp_business_sdf = spark.read.load('/content/yelp_business.csv', format=\"csv\", header = True)\n",
        "yelp_business = yelp_business_sdf.toPandas().sort_values(by='name')\n",
        "yelp_business"
      ],
      "execution_count": null,
      "outputs": [
        {
          "output_type": "execute_result",
          "data": {
            "text/html": [
              "<div>\n",
              "<style scoped>\n",
              "    .dataframe tbody tr th:only-of-type {\n",
              "        vertical-align: middle;\n",
              "    }\n",
              "\n",
              "    .dataframe tbody tr th {\n",
              "        vertical-align: top;\n",
              "    }\n",
              "\n",
              "    .dataframe thead th {\n",
              "        text-align: right;\n",
              "    }\n",
              "</style>\n",
              "<table border=\"1\" class=\"dataframe\">\n",
              "  <thead>\n",
              "    <tr style=\"text-align: right;\">\n",
              "      <th></th>\n",
              "      <th>business_id</th>\n",
              "      <th>name</th>\n",
              "      <th>neighborhood</th>\n",
              "      <th>address</th>\n",
              "      <th>city</th>\n",
              "      <th>state</th>\n",
              "      <th>postal_code</th>\n",
              "      <th>latitude</th>\n",
              "      <th>longitude</th>\n",
              "      <th>stars</th>\n",
              "      <th>review_count</th>\n",
              "      <th>is_open</th>\n",
              "      <th>categories</th>\n",
              "    </tr>\n",
              "  </thead>\n",
              "  <tbody>\n",
              "    <tr>\n",
              "      <th>87368</th>\n",
              "      <td>aIq4Qxwr14JeQWYqbc5-5g</td>\n",
              "      <td>\"\"\"T\"\"s Hair Affair\"</td>\n",
              "      <td>None</td>\n",
              "      <td>1445 S Arizona Ave, Ste 107</td>\n",
              "      <td>Chandler</td>\n",
              "      <td>AZ</td>\n",
              "      <td>85286</td>\n",
              "      <td>33.2852706909</td>\n",
              "      <td>-111.840606689</td>\n",
              "      <td>5.0</td>\n",
              "      <td>10</td>\n",
              "      <td>1</td>\n",
              "      <td>Hair Salons;Men's Hair Salons;Beauty &amp; Spas</td>\n",
              "    </tr>\n",
              "    <tr>\n",
              "      <th>108191</th>\n",
              "      <td>VguLzEEk7NOT9ec90NTcSQ</td>\n",
              "      <td>\"2 \"\"Di\"\" 4 Gourmet Karmel Korn\"</td>\n",
              "      <td>None</td>\n",
              "      <td>765 N 114th Ave, Ste 105</td>\n",
              "      <td>Avondale</td>\n",
              "      <td>AZ</td>\n",
              "      <td>85323</td>\n",
              "      <td>33.4535199</td>\n",
              "      <td>-112.3051208</td>\n",
              "      <td>5.0</td>\n",
              "      <td>7</td>\n",
              "      <td>1</td>\n",
              "      <td>Food;Popcorn Shops;Specialty Food;Bridal;Gift ...</td>\n",
              "    </tr>\n",
              "    <tr>\n",
              "      <th>13630</th>\n",
              "      <td>KE7Uq1iXOQVhsPIzE800Aw</td>\n",
              "      <td>\"Au \"\"Grottens\"\" Cafe &amp; Catering\"</td>\n",
              "      <td>None</td>\n",
              "      <td>2973 South Park Rd</td>\n",
              "      <td>Bethel Park</td>\n",
              "      <td>PA</td>\n",
              "      <td>15102</td>\n",
              "      <td>40.327322</td>\n",
              "      <td>-80.042015</td>\n",
              "      <td>4.5</td>\n",
              "      <td>3</td>\n",
              "      <td>1</td>\n",
              "      <td>American (New);Restaurants;Breakfast &amp; Brunch</td>\n",
              "    </tr>\n",
              "    <tr>\n",
              "      <th>14675</th>\n",
              "      <td>4KGTPxWJ9-62_bdYMMTFvQ</td>\n",
              "      <td>\"Babies \"\"R\"\" Us\"</td>\n",
              "      <td>None</td>\n",
              "      <td>4835 E Ray Rd</td>\n",
              "      <td>Phoenix</td>\n",
              "      <td>AZ</td>\n",
              "      <td>85044</td>\n",
              "      <td>33.3173981537</td>\n",
              "      <td>-111.978713957</td>\n",
              "      <td>2.5</td>\n",
              "      <td>32</td>\n",
              "      <td>1</td>\n",
              "      <td>Shopping;Baby Gear &amp; Furniture</td>\n",
              "    </tr>\n",
              "    <tr>\n",
              "      <th>32180</th>\n",
              "      <td>K3hLrL9WHjG_L7erRzBL8Q</td>\n",
              "      <td>\"Babies\"\"R\"\"Us\"</td>\n",
              "      <td>None</td>\n",
              "      <td>510 N Stephanie St</td>\n",
              "      <td>Henderson</td>\n",
              "      <td>NV</td>\n",
              "      <td>89014</td>\n",
              "      <td>36.0597013</td>\n",
              "      <td>-115.0439191</td>\n",
              "      <td>3.5</td>\n",
              "      <td>29</td>\n",
              "      <td>1</td>\n",
              "      <td>Baby Gear &amp; Furniture;Shopping;Toy Stores</td>\n",
              "    </tr>\n",
              "    <tr>\n",
              "      <th>...</th>\n",
              "      <td>...</td>\n",
              "      <td>...</td>\n",
              "      <td>...</td>\n",
              "      <td>...</td>\n",
              "      <td>...</td>\n",
              "      <td>...</td>\n",
              "      <td>...</td>\n",
              "      <td>...</td>\n",
              "      <td>...</td>\n",
              "      <td>...</td>\n",
              "      <td>...</td>\n",
              "      <td>...</td>\n",
              "      <td>...</td>\n",
              "    </tr>\n",
              "    <tr>\n",
              "      <th>62157</th>\n",
              "      <td>sARavfidmIS878q5BtlyVQ</td>\n",
              "      <td>é by José Andrés</td>\n",
              "      <td>The Strip</td>\n",
              "      <td>3708 Las Vegas Blvd S</td>\n",
              "      <td>Las Vegas</td>\n",
              "      <td>NV</td>\n",
              "      <td>89109</td>\n",
              "      <td>36.109995716</td>\n",
              "      <td>-115.173604488</td>\n",
              "      <td>4.5</td>\n",
              "      <td>322</td>\n",
              "      <td>1</td>\n",
              "      <td>Restaurants;Spanish;Nightlife;Wine Bars;Seafoo...</td>\n",
              "    </tr>\n",
              "    <tr>\n",
              "      <th>32628</th>\n",
              "      <td>p1FPUxkQfSFqJGIkrF4abg</td>\n",
              "      <td>épicerie fine</td>\n",
              "      <td>None</td>\n",
              "      <td>Olgastr. 136</td>\n",
              "      <td>Stuttgart</td>\n",
              "      <td>BW</td>\n",
              "      <td>70180</td>\n",
              "      <td>48.76563</td>\n",
              "      <td>9.17676</td>\n",
              "      <td>5.0</td>\n",
              "      <td>19</td>\n",
              "      <td>1</td>\n",
              "      <td>Delicatessen;French;Restaurants;Food</td>\n",
              "    </tr>\n",
              "    <tr>\n",
              "      <th>56559</th>\n",
              "      <td>iy-iY6oTECXRLmcegylyKg</td>\n",
              "      <td>Œuf et Bœuf</td>\n",
              "      <td>Rosemont-La Petite-Patrie</td>\n",
              "      <td>3100 Rue Masson</td>\n",
              "      <td>Montréal</td>\n",
              "      <td>QC</td>\n",
              "      <td>H1Y 1X8</td>\n",
              "      <td>45.54922</td>\n",
              "      <td>-73.5741848</td>\n",
              "      <td>4.0</td>\n",
              "      <td>24</td>\n",
              "      <td>1</td>\n",
              "      <td>Restaurants;Breakfast &amp; Brunch;Soup</td>\n",
              "    </tr>\n",
              "    <tr>\n",
              "      <th>78899</th>\n",
              "      <td>A8MaN_aloh6bAlVf2Zijkg</td>\n",
              "      <td>Œufs &amp; Cie</td>\n",
              "      <td>None</td>\n",
              "      <td>8840 Boulevard Leduc</td>\n",
              "      <td>Brossard</td>\n",
              "      <td>QC</td>\n",
              "      <td>J4Y 0G4</td>\n",
              "      <td>45.450053</td>\n",
              "      <td>-73.442742</td>\n",
              "      <td>3.0</td>\n",
              "      <td>11</td>\n",
              "      <td>1</td>\n",
              "      <td>American (Traditional);Breakfast &amp; Brunch;Rest...</td>\n",
              "    </tr>\n",
              "    <tr>\n",
              "      <th>174092</th>\n",
              "      <td>o-cjfTZ42oeUAcUVeJRCzw</td>\n",
              "      <td>​Century Library</td>\n",
              "      <td>None</td>\n",
              "      <td>1750 E Highland Ave</td>\n",
              "      <td>Phoenix</td>\n",
              "      <td>AZ</td>\n",
              "      <td>85016</td>\n",
              "      <td>33.5059797</td>\n",
              "      <td>-112.0434216</td>\n",
              "      <td>3.5</td>\n",
              "      <td>17</td>\n",
              "      <td>1</td>\n",
              "      <td>Public Services &amp; Government;Libraries</td>\n",
              "    </tr>\n",
              "  </tbody>\n",
              "</table>\n",
              "<p>174567 rows × 13 columns</p>\n",
              "</div>"
            ],
            "text/plain": [
              "                   business_id  ...                                         categories\n",
              "87368   aIq4Qxwr14JeQWYqbc5-5g  ...        Hair Salons;Men's Hair Salons;Beauty & Spas\n",
              "108191  VguLzEEk7NOT9ec90NTcSQ  ...  Food;Popcorn Shops;Specialty Food;Bridal;Gift ...\n",
              "13630   KE7Uq1iXOQVhsPIzE800Aw  ...      American (New);Restaurants;Breakfast & Brunch\n",
              "14675   4KGTPxWJ9-62_bdYMMTFvQ  ...                     Shopping;Baby Gear & Furniture\n",
              "32180   K3hLrL9WHjG_L7erRzBL8Q  ...          Baby Gear & Furniture;Shopping;Toy Stores\n",
              "...                        ...  ...                                                ...\n",
              "62157   sARavfidmIS878q5BtlyVQ  ...  Restaurants;Spanish;Nightlife;Wine Bars;Seafoo...\n",
              "32628   p1FPUxkQfSFqJGIkrF4abg  ...               Delicatessen;French;Restaurants;Food\n",
              "56559   iy-iY6oTECXRLmcegylyKg  ...                Restaurants;Breakfast & Brunch;Soup\n",
              "78899   A8MaN_aloh6bAlVf2Zijkg  ...  American (Traditional);Breakfast & Brunch;Rest...\n",
              "174092  o-cjfTZ42oeUAcUVeJRCzw  ...             Public Services & Government;Libraries\n",
              "\n",
              "[174567 rows x 13 columns]"
            ]
          },
          "metadata": {
            "tags": []
          },
          "execution_count": 57
        }
      ]
    },
    {
      "cell_type": "code",
      "metadata": {
        "id": "vqHKFiT-12wT",
        "colab_type": "code",
        "colab": {
          "base_uri": "https://localhost:8080/",
          "height": 69
        },
        "outputId": "2923150f-75dd-4a14-ce39-350085e9cbd7"
      },
      "source": [
        "grader.grade(test_case_id = 'check_yelp_load', answer = yelp_business[:75])"
      ],
      "execution_count": null,
      "outputs": [
        {
          "output_type": "stream",
          "text": [
            "Correct! You earned 3/3 points. You are a star!\n",
            "\n",
            "Your submission has been successfully recorded in the gradebook.\n"
          ],
          "name": "stdout"
        }
      ]
    },
    {
      "cell_type": "markdown",
      "metadata": {
        "id": "yvm3tmQ7c6N-",
        "colab_type": "text"
      },
      "source": [
        "Put your spark dataframes from the previous section into temporary tables. The syntax is as follows:\n",
        "\n",
        "yelp_business_sdf.createOrReplaceTempView('yelp_business')"
      ]
    },
    {
      "cell_type": "code",
      "metadata": {
        "id": "ADFIa6jx16Sm",
        "colab_type": "code",
        "colab": {}
      },
      "source": [
        "yelp_business_sdf.createOrReplaceTempView('yelp_business')"
      ],
      "execution_count": null,
      "outputs": []
    },
    {
      "cell_type": "markdown",
      "metadata": {
        "colab_type": "text",
        "id": "DBjwu_4ZbgdG"
      },
      "source": [
        "### 4.2 Simple Analytics on the Data\n",
        "\n",
        "In this section, we shall be executing Spark operations on the data given. Beyond simply executing the queries, you may try using `.explain()` method to see more about the query execution. Also, please read the data description prior to attempting the following questions to understand the data.\n",
        "\n",
        "\n",
        "Compute, stored in `best_average_sdf`, the list of names of businesses based on their average review score (review stars), in decreasing order, sorted lexicographically (in increasing order) by name if they have the same score.  Output the number of reviews also.  Call the columns `name`, `avg_rating`, and `count`.\n",
        "\n",
        "Convert this to pandas and submit the first 75 rows "
      ]
    },
    {
      "cell_type": "code",
      "metadata": {
        "colab_type": "code",
        "id": "g_HT_LG1bf1t",
        "colab": {
          "base_uri": "https://localhost:8080/",
          "height": 416
        },
        "outputId": "600de0aa-3aaf-4bf8-eed7-59c8e527282d"
      },
      "source": [
        "best_average_sdf = spark.sql('SELECT name, stars, review_count FROM yelp_business ORDER BY stars DESC, name ASC')\n",
        "best_average_sdf_75 = best_average_sdf.toPandas()[0:75]\n",
        "best_average_sdf_75.rename(columns = {'stars':'avg_rating', 'review_count':'count'}, inplace = True) \n",
        "best_average_sdf_75"
      ],
      "execution_count": null,
      "outputs": [
        {
          "output_type": "execute_result",
          "data": {
            "text/html": [
              "<div>\n",
              "<style scoped>\n",
              "    .dataframe tbody tr th:only-of-type {\n",
              "        vertical-align: middle;\n",
              "    }\n",
              "\n",
              "    .dataframe tbody tr th {\n",
              "        vertical-align: top;\n",
              "    }\n",
              "\n",
              "    .dataframe thead th {\n",
              "        text-align: right;\n",
              "    }\n",
              "</style>\n",
              "<table border=\"1\" class=\"dataframe\">\n",
              "  <thead>\n",
              "    <tr style=\"text-align: right;\">\n",
              "      <th></th>\n",
              "      <th>name</th>\n",
              "      <th>avg_rating</th>\n",
              "      <th>count</th>\n",
              "    </tr>\n",
              "  </thead>\n",
              "  <tbody>\n",
              "    <tr>\n",
              "      <th>0</th>\n",
              "      <td>\"\"\"T\"\"s Hair Affair\"</td>\n",
              "      <td>5.0</td>\n",
              "      <td>10</td>\n",
              "    </tr>\n",
              "    <tr>\n",
              "      <th>1</th>\n",
              "      <td>\"2 \"\"Di\"\" 4 Gourmet Karmel Korn\"</td>\n",
              "      <td>5.0</td>\n",
              "      <td>7</td>\n",
              "    </tr>\n",
              "    <tr>\n",
              "      <th>2</th>\n",
              "      <td>\"Davis \"\"N\"\" Sons Car Detailing\"</td>\n",
              "      <td>5.0</td>\n",
              "      <td>4</td>\n",
              "    </tr>\n",
              "    <tr>\n",
              "      <th>3</th>\n",
              "      <td>\"Manantial De Salud \"\"The Vitamin Store\"\"\"</td>\n",
              "      <td>5.0</td>\n",
              "      <td>3</td>\n",
              "    </tr>\n",
              "    <tr>\n",
              "      <th>4</th>\n",
              "      <td>\"Scotty\"\"s Kitchen\"</td>\n",
              "      <td>5.0</td>\n",
              "      <td>3</td>\n",
              "    </tr>\n",
              "    <tr>\n",
              "      <th>...</th>\n",
              "      <td>...</td>\n",
              "      <td>...</td>\n",
              "      <td>...</td>\n",
              "    </tr>\n",
              "    <tr>\n",
              "      <th>70</th>\n",
              "      <td>24 Hours of Booty</td>\n",
              "      <td>5.0</td>\n",
              "      <td>5</td>\n",
              "    </tr>\n",
              "    <tr>\n",
              "      <th>71</th>\n",
              "      <td>24-7 Electrical Services</td>\n",
              "      <td>5.0</td>\n",
              "      <td>124</td>\n",
              "    </tr>\n",
              "    <tr>\n",
              "      <th>72</th>\n",
              "      <td>24-7 JB Services Garage Door</td>\n",
              "      <td>5.0</td>\n",
              "      <td>47</td>\n",
              "    </tr>\n",
              "    <tr>\n",
              "      <th>73</th>\n",
              "      <td>24/7 Carpet &amp; Floor Care</td>\n",
              "      <td>5.0</td>\n",
              "      <td>53</td>\n",
              "    </tr>\n",
              "    <tr>\n",
              "      <th>74</th>\n",
              "      <td>24/7 Foot Doctor - Podiatry House &amp; Hotel Calls</td>\n",
              "      <td>5.0</td>\n",
              "      <td>20</td>\n",
              "    </tr>\n",
              "  </tbody>\n",
              "</table>\n",
              "<p>75 rows × 3 columns</p>\n",
              "</div>"
            ],
            "text/plain": [
              "                                               name avg_rating count\n",
              "0                              \"\"\"T\"\"s Hair Affair\"        5.0    10\n",
              "1                  \"2 \"\"Di\"\" 4 Gourmet Karmel Korn\"        5.0     7\n",
              "2                  \"Davis \"\"N\"\" Sons Car Detailing\"        5.0     4\n",
              "3        \"Manantial De Salud \"\"The Vitamin Store\"\"\"        5.0     3\n",
              "4                               \"Scotty\"\"s Kitchen\"        5.0     3\n",
              "..                                              ...        ...   ...\n",
              "70                                24 Hours of Booty        5.0     5\n",
              "71                         24-7 Electrical Services        5.0   124\n",
              "72                     24-7 JB Services Garage Door        5.0    47\n",
              "73                         24/7 Carpet & Floor Care        5.0    53\n",
              "74  24/7 Foot Doctor - Podiatry House & Hotel Calls        5.0    20\n",
              "\n",
              "[75 rows x 3 columns]"
            ]
          },
          "metadata": {
            "tags": []
          },
          "execution_count": 59
        }
      ]
    },
    {
      "cell_type": "code",
      "metadata": {
        "id": "fV0CRhTrdrPg",
        "colab_type": "code",
        "colab": {
          "base_uri": "https://localhost:8080/",
          "height": 69
        },
        "outputId": "b4521051-a574-4a2e-d5c0-eeb7b4a91932"
      },
      "source": [
        "grader.grade(test_case_id = 'best_average_sdf_check', answer = best_average_sdf_75)"
      ],
      "execution_count": null,
      "outputs": [
        {
          "output_type": "stream",
          "text": [
            "Correct! You earned 7/7 points. You are a star!\n",
            "\n",
            "Your submission has been successfully recorded in the gradebook.\n"
          ],
          "name": "stdout"
        }
      ]
    },
    {
      "cell_type": "markdown",
      "metadata": {
        "colab_type": "text",
        "id": "2L8pEamDbeUC"
      },
      "source": [
        "#### 4.2.1 Users who are more negative than average\n",
        "\n",
        "Find the users whose average review is below the *average of the per-user* average reviews.  Think about how to factor that into steps!\n",
        "\n",
        "* Compute the (floating-point) variable `overall_avg` as the average of the users' average reviews. (You might compute this in a Spark DataFrame first).\n",
        "* Then output `negative_users_sdf` as the users whose average rating is below that.  This Spark dataframe should have `name` and `avg_rating` and should be sorted first (from lowest to highest) by average rating, then lexicographically (in ascending order) by name.  You should drop cases where the name is null.\n",
        "\n",
        "Submit just the overall_avg number that you get to the autograder as a float\n"
      ]
    },
    {
      "cell_type": "code",
      "metadata": {
        "colab_type": "code",
        "id": "8X8U1EQebds6",
        "colab": {}
      },
      "source": [
        "yelp_business_sdf.createOrReplaceTempView('yelp_business')"
      ],
      "execution_count": null,
      "outputs": []
    },
    {
      "cell_type": "code",
      "metadata": {
        "id": "zzJrfM7n19U4",
        "colab_type": "code",
        "colab": {
          "base_uri": "https://localhost:8080/",
          "height": 294
        },
        "outputId": "d8a59e68-f06c-45ae-f09f-f4c6ab8b56f9"
      },
      "source": [
        "yelp_users_sdf.createOrReplaceTempView('yelp_users')\n",
        "\n",
        "from pyspark.sql.functions import mean, col\n",
        "overall_avg = yelp_users_sdf.select(mean(col('average_stars')).alias('mean')).collect()\n",
        "overall_avg = overall_avg[0]['mean']\n",
        "\n",
        "negative_users_sdf = spark.sql('SELECT name, average_stars AS avg_rating FROM yelp_users WHERE average_stars < 3.71 AND name IS NOT NULL ORDER BY average_stars DESC, name ASC')\n",
        "negative_users_sdf.show(10)"
      ],
      "execution_count": null,
      "outputs": [
        {
          "output_type": "stream",
          "text": [
            "+-----+----------+\n",
            "| name|avg_rating|\n",
            "+-----+----------+\n",
            "|6Kras|       3.7|\n",
            "|    A|       3.7|\n",
            "|    A|       3.7|\n",
            "|    A|       3.7|\n",
            "|    A|       3.7|\n",
            "|    A|       3.7|\n",
            "|    A|       3.7|\n",
            "|    A|       3.7|\n",
            "|    A|       3.7|\n",
            "|    A|       3.7|\n",
            "+-----+----------+\n",
            "only showing top 10 rows\n",
            "\n"
          ],
          "name": "stdout"
        }
      ]
    },
    {
      "cell_type": "code",
      "metadata": {
        "id": "tpoocHBtfyrB",
        "colab_type": "code",
        "colab": {
          "base_uri": "https://localhost:8080/",
          "height": 69
        },
        "outputId": "46efc765-2206-43e4-bfe0-fb81552baaa5"
      },
      "source": [
        "grader.grade(test_case_id = 'check_avg', answer = overall_avg)"
      ],
      "execution_count": null,
      "outputs": [
        {
          "output_type": "stream",
          "text": [
            "Correct! You earned 7/7 points. You are a star!\n",
            "\n",
            "Your submission has been successfully recorded in the gradebook.\n"
          ],
          "name": "stdout"
        }
      ]
    },
    {
      "cell_type": "markdown",
      "metadata": {
        "id": "v6n8ooy9iIqH",
        "colab_type": "text"
      },
      "source": [
        "### 4.2.2 Cities by number of businesses\n",
        "\n",
        "Find the top 10 cities by number of (Yelp-listed) businesses.\n",
        "\n",
        "This time, use the `take()` function to create a *list* of the top 10 cities (as Rows).  Call this list `top10_cities` and make sure it includes city `name` and `num_restaurants`.\n",
        "\n",
        "We want to answer as a list of lists where each element is the combination of the city name + num_restaurants:\n",
        "\n",
        "[[\"Philadelphia\", 12345], [\"Los Angeles\", 543]]"
      ]
    },
    {
      "cell_type": "code",
      "metadata": {
        "id": "y7lPtnowiH5u",
        "colab_type": "code",
        "colab": {
          "base_uri": "https://localhost:8080/",
          "height": 190
        },
        "outputId": "034986f7-5f85-4697-fedc-b29b26d1f57f"
      },
      "source": [
        "top10_cities = spark.sql('SELECT city AS name, COUNT(*) AS num_restaurants FROM yelp_business GROUP BY city ORDER BY COUNT(*) DESC').take(10)\n",
        "\n",
        "final = [] \n",
        "for row in top10_cities:\n",
        "  final.append([row['name'], row['num_restaurants']])\n",
        "\n",
        "final"
      ],
      "execution_count": null,
      "outputs": [
        {
          "output_type": "execute_result",
          "data": {
            "text/plain": [
              "[['Las Vegas', 26775],\n",
              " ['Phoenix', 17213],\n",
              " ['Toronto', 17206],\n",
              " ['Charlotte', 8553],\n",
              " ['Scottsdale', 8228],\n",
              " ['Pittsburgh', 6355],\n",
              " ['Mesa', 5760],\n",
              " ['Montréal', 5709],\n",
              " ['Henderson', 4465],\n",
              " ['Tempe', 4263]]"
            ]
          },
          "metadata": {
            "tags": []
          },
          "execution_count": 64
        }
      ]
    },
    {
      "cell_type": "code",
      "metadata": {
        "id": "GRDb7UcThGDE",
        "colab_type": "code",
        "colab": {
          "base_uri": "https://localhost:8080/",
          "height": 69
        },
        "outputId": "36304056-5ad6-47ae-a575-4f309f97903c"
      },
      "source": [
        "grader.grade(test_case_id = 'top10CitiesCheck', answer = final)"
      ],
      "execution_count": null,
      "outputs": [
        {
          "output_type": "stream",
          "text": [
            "Correct! You earned 8/8 points. You are a star!\n",
            "\n",
            "Your submission has been successfully recorded in the gradebook.\n"
          ],
          "name": "stdout"
        }
      ]
    },
    {
      "cell_type": "markdown",
      "metadata": {
        "id": "np4FWzhmpvRx",
        "colab_type": "text"
      },
      "source": [
        "The following is code we have given you. This builds a relationship graph thaat will be used in the next section. Take a look at it to familiarize yourself with it for the next section"
      ]
    },
    {
      "cell_type": "code",
      "metadata": {
        "colab_type": "code",
        "id": "-JlSq4FCbbCh",
        "colab": {}
      },
      "source": [
        "yelp_reviews_sdf.createOrReplaceTempView('yelp_reviews')\n",
        "review_graph_sdf = spark.sql(\"SELECT user_id AS from_node, business_id AS to_node, stars AS score FROM yelp_reviews \"\\\n",
        "                        \"WHERE business_id is not null \"\\\n",
        "                        \"AND user_id is not null\")\n",
        "review_graph_sdf.createOrReplaceTempView('review_graph')"
      ],
      "execution_count": null,
      "outputs": []
    },
    {
      "cell_type": "markdown",
      "metadata": {
        "id": "zA84jsFau2Ls",
        "colab_type": "text"
      },
      "source": [
        "\n",
        "## Part 5. “Traversing” a Graph\n",
        "\n",
        "For our next tasks, we will be “walking” the graph and making connections.\n",
        "\n"
      ]
    },
    {
      "cell_type": "markdown",
      "metadata": {
        "id": "PrftJPvUiY59",
        "colab_type": "text"
      },
      "source": [
        "\n",
        "### 5.1 Distributed Breadth-First Search\n",
        "A search algorithm typically starts at a node or set of nodes, and “explores” or “walks” for some number of steps to find a match or a set of matches.\n",
        "\n",
        "If you need an introduction for BFS, I highly suggest looking here: https://www.tutorialspoint.com/data_structures_algorithms/breadth_first_traversal.htm\n",
        "\n",
        "We will be asking for something slightly different tho...\n",
        "\n",
        "Let’s implement a distributed version of a popular algorithm, breadth-first-search (BFS).  This algorithm is given a graph `G`, a set of origin nodes `N`, and a depth `d`.  In each iteration or round up to depth `d`, it explores the set of all new nodes directly connected to the nodes it already has seen, before going on to the nodes another “hop” away.  If we do this correctly, we will explore the graph in a way that (1) avoids getting caught in cycles or loops, and (2) visits each node in the fewest number of “hops” from the origin.  BFS is commonly used in tasks such as friend recommendation in social networks.\n",
        "\n",
        "**How does distributed BFS in Spark work**?  Let’s start with a brief sketch of standard BFS.  During exploration “rounds”, we can divide the graph into three categories:\n",
        "\n",
        "1. *unexplored nodes*.  These are nodes we have not yet visited.  You don’t necessarily need to track these separately from the graph.\n",
        "2. *visited nodes*.  We have already reached these nodes in a previous “round”.\n",
        "3. *frontier nodes*.  These are nodes we have visited in this round.  We have not yet checked whether they have out-edges connecting to unexplored nodes."
      ]
    },
    {
      "cell_type": "markdown",
      "metadata": {
        "id": "er66Vdjjia_W",
        "colab_type": "text"
      },
      "source": [
        "Let’s look at the figure, which shows a digraph.  The green node A represents the origin.\n",
        "\n",
        "<p align = \"center\">\n",
        "<img src = \"https://imgur.com/WU3AUwg.png\" width= \"600\" align =\"center\"/>\n",
        "\n",
        "* In the first round, the origin A is the sole frontier node.  We find all nodes reachable directly from A, namely B-F; then we remove all nodes we have already visited (there are none) or that are in the frontier (the node A itself).  This leaves the blue nodes B-F, which are all reachable in (at most) 1 hop from A.\n",
        "* In the second round, we move A to the visited set and B-F to the frontier.  Now we explore all nodes connected directly to frontier nodes, namely A (from B), F (from E), and the red nodes G-L.  We eliminate the nodes already contained in the frontier and visited sets from the next round’s frontier set, leaving the red nodes only.\n",
        "* In the third round, we will move B-F to the visited set, G-L to the frontier set, and explore the next round of neighbors N-V.  This process continues up to some maximum depth (or until there are no more unexplored nodes).\n",
        "\n",
        "Assume we create data structures (we can make them DataFrames) for the visited and frontier nodes.  Consider (1) how to initialize the different sets at the start of computation (note: unexplored nodes are already in the graph), and (2) how to use the graph edges and the existing data structures to update state for the next iteration “round”.\n",
        "\n",
        "You might possibly have seen how to create a breadth-first-search algorithm in a single-CPU programming language, using a queue to capture the frontier nodes. With Spark we don’t need a queue -- we just need the three sets above.\n",
        "\n",
        "### 5.2 Breadth-First Search Algorithm\n",
        "\n",
        "Create a function `spark_bfs(G, origins, max_depth)` that takes a Spark DataFrame with a graph G (following the schema for `review_graph_sdf` described above, but to be treated as an **undirected graph**), a Python list-of-dictionaries `origins` of the form \n",
        "\n",
        "```\n",
        "[{‘node’: nid1}, \n",
        " {‘node’: nid2}, \n",
        " …]\n",
        "```\n",
        "\n",
        "and a nonnegative integer “exploration depth” `max_depth` (to only run BFS on a tractable portion of the graph).  The `max_depth` will be the maximum number of edge traversals (e.g., the origin is at `max_depth=0`, one hop from the origin is `max_depth=1`, etc.  The function should return a DataFrame containing pairs of the form (node, distance), where the distance is depth at which $n$ was *first* encountered (i.e., the shortest-path distance from the origin nodes).  Note that the origin nodes should also be returned in this Spark DataFrame (with depth 0)!  \n",
        "\n",
        "You can create a new Spark DataFrame with an integer `node` column from the above list of maps `origins`, as follows. This will give you a DataFrame of the nodes to start the BFS at\n",
        "\n",
        "```\n",
        "schema = StructType([\n",
        "            StructField(\"node\", StringType(), True)\n",
        "        ])\n",
        "\n",
        "    my_sdf = spark.createDataFrame(my_list_of_maps, schema)\n",
        "```\n",
        "\n",
        "In this algorithm, be careful in each iteration to keep only the nodes with their shortest distances (you may need to do aggregation or item removal).  You should accumulate all nodes at distances 0, 1, ..., `max_depth`."
      ]
    },
    {
      "cell_type": "code",
      "metadata": {
        "id": "wXkRvJXKiVum",
        "colab_type": "code",
        "colab": {}
      },
      "source": [
        "def spark_bfs(G, origins, max_depth):\n",
        "  schema = StructType([\n",
        "              StructField(\"node\", StringType(), True),\n",
        "              StructField(\"distance\", IntegerType(), False)\n",
        "          ])\n",
        "  \n",
        "  G = G.select(\"from_node\", \"to_node\")\n",
        "  _G = G\n",
        "  _G = _G.withColumnRenamed(\"from_node\",\"to\").withColumnRenamed(\"to_node\",\"from_node\").withColumnRenamed(\"to\",\"to_node\")\n",
        "  _G = _G.select(\"from_node\",\"to_node\") \n",
        "  G_total = G.union(_G)\n",
        "\n",
        "  frontier_sdf = spark.createDataFrame([(origins[0]['node'],0)], schema)\n",
        "  visited_sdf = spark.createDataFrame([(origins[0]['node'],0)], schema)\n",
        "  \n",
        "  depth = 0\n",
        "\n",
        "  while depth < max_depth:\n",
        "    result_sdf = frontier_sdf.join(G_total, frontier_sdf.node == G_total['from_node']).select(col('to_node').alias('node'), (col('distance')+1).alias('distance'))\n",
        "    frontier_sdf = result_sdf\n",
        "    visited_sdf = visited_sdf.union(result_sdf)\n",
        "    depth +=1\n",
        "  \n",
        "  visited_sdf = visited_sdf.groupBy('node').agg(F.min('distance').alias('distance'))\n",
        "  return visited_sdf"
      ],
      "execution_count": null,
      "outputs": []
    },
    {
      "cell_type": "code",
      "metadata": {
        "id": "ltSm48Dl7MNQ",
        "colab_type": "code",
        "colab": {}
      },
      "source": [
        "simple = [('A', 'B'),\n",
        "         ('A', 'C'),\n",
        "         ('A', 'D'),\n",
        "         ('C', 'F'),\n",
        "         ('B', 'G'),\n",
        "         ('G', 'H'),\n",
        "         ('D', 'E')]\n",
        "data = {'from_node': ['A', 'A', 'A', 'C', 'B', 'G', 'D'],\n",
        "       'to_node': ['B', 'C', 'D', 'F', 'G', 'H', 'E']}\n",
        "uh = pd.DataFrame.from_dict(data)\n",
        "uh_sdf = spark.createDataFrame(uh)\n",
        "smallOrig = [{'node': 'C'}]\n",
        "\n",
        "smallCount = spark_bfs(uh_sdf, smallOrig, 3)"
      ],
      "execution_count": null,
      "outputs": []
    },
    {
      "cell_type": "markdown",
      "metadata": {
        "id": "WYpE6Pp1njJu",
        "colab_type": "text"
      },
      "source": [
        "This is the starting origin node ID for your BFS and the associated call"
      ]
    },
    {
      "cell_type": "code",
      "metadata": {
        "id": "rVUwgLmhiiAY",
        "colab_type": "code",
        "colab": {
          "base_uri": "https://localhost:8080/",
          "height": 34
        },
        "outputId": "e12a1a47-64c9-4830-c987-4b59b4906f7f"
      },
      "source": [
        "orig = [{'node': 'bv2nCi5Qv5vroFiqKGopiw'}]\n",
        "#grab the count\n",
        "count = spark_bfs(review_graph_sdf, orig, 3)\n",
        "count.count()"
      ],
      "execution_count": null,
      "outputs": [
        {
          "output_type": "execute_result",
          "data": {
            "text/plain": [
              "13603"
            ]
          },
          "metadata": {
            "tags": []
          },
          "execution_count": 68
        }
      ]
    },
    {
      "cell_type": "code",
      "metadata": {
        "id": "u7e5WzxVEuyh",
        "colab_type": "code",
        "colab": {}
      },
      "source": [
        "answer_75 = count.orderBy(\"node\")\n",
        "answer_75 = answer_75.toPandas()[0:75]"
      ],
      "execution_count": null,
      "outputs": []
    },
    {
      "cell_type": "markdown",
      "metadata": {
        "id": "8ZnMt_CKnouC",
        "colab_type": "text"
      },
      "source": [
        "When submitting to the autograder, submit as a tuple where first value is the length of your output dataframe and the second is the first 75 rows of your result.\n",
        "\n",
        "However, before you grabb your first 75 rows, sort by the ids"
      ]
    },
    {
      "cell_type": "code",
      "metadata": {
        "id": "VAqdWoVtjDMI",
        "colab_type": "code",
        "colab": {
          "base_uri": "https://localhost:8080/",
          "height": 69
        },
        "outputId": "3027a64a-84cc-435e-eeeb-b69b6b669716"
      },
      "source": [
        "#13603 is just obtained from running count.count()\n",
        "grader.grade(test_case_id = 'checkBFS', answer = (13603, answer_75))"
      ],
      "execution_count": null,
      "outputs": [
        {
          "output_type": "stream",
          "text": [
            "Correct! You earned 17/17 points. You are a star!\n",
            "\n",
            "Your submission has been successfully recorded in the gradebook.\n"
          ],
          "name": "stdout"
        }
      ]
    },
    {
      "cell_type": "markdown",
      "metadata": {
        "colab_type": "text",
        "id": "TyQ6tm6iYg_m"
      },
      "source": [
        "# HW Submission\n",
        "\n",
        "**Double check that you have the correct PennID (all numbers) in the autograder**. \n",
        "\n",
        "Go to the \"File\" tab at the top left, and click \"Download .ipynb\". Zip it (name doesn't matter) and submit it to OpenSubmit. \n",
        "\n",
        "You must submit your notebook to receive credit.\n",
        "\n",
        "**On OpenSubmit, go to Settings and make sure to set your Student ID to your PennID (all numbers)**."
      ]
    }
  ]
}
